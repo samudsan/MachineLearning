{
 "cells": [
  {
   "cell_type": "markdown",
   "metadata": {
    "_uuid": "6b7b3c4b224f7a2d442fef55818a9e96f0d20c21",
    "toc": true
   },
   "source": [
    "<h1>Table of Contents<span class=\"tocSkip\"></span></h1>\n",
    "<div class=\"toc\"><ul class=\"toc-item\"><li><span><a href=\"#KNN\" data-toc-modified-id=\"KNN-1\"><span class=\"toc-item-num\">1&nbsp;&nbsp;</span>KNN</a></span><ul class=\"toc-item\"><li><span><a href=\"#Introduction\" data-toc-modified-id=\"Introduction-1.1\"><span class=\"toc-item-num\">1.1&nbsp;&nbsp;</span>Introduction</a></span></li><li><span><a href=\"#Objective:\" data-toc-modified-id=\"Objective:-1.2\"><span class=\"toc-item-num\">1.2&nbsp;&nbsp;</span>Objective:</a></span></li></ul></li><li><span><a href=\"#BoW\" data-toc-modified-id=\"BoW-2\"><span class=\"toc-item-num\">2&nbsp;&nbsp;</span>BoW</a></span><ul class=\"toc-item\"><li><span><a href=\"#Brute-force-KNN\" data-toc-modified-id=\"Brute-force-KNN-2.1\"><span class=\"toc-item-num\">2.1&nbsp;&nbsp;</span>Brute force KNN</a></span><ul class=\"toc-item\"><li><span><a href=\"#Missclassification-Error\" data-toc-modified-id=\"Missclassification-Error-2.1.1\"><span class=\"toc-item-num\">2.1.1&nbsp;&nbsp;</span>Missclassification Error</a></span></li><li><span><a href=\"#Accuracy-Score\" data-toc-modified-id=\"Accuracy-Score-2.1.2\"><span class=\"toc-item-num\">2.1.2&nbsp;&nbsp;</span>Accuracy Score</a></span></li><li><span><a href=\"#Classificatoin-Report\" data-toc-modified-id=\"Classificatoin-Report-2.1.3\"><span class=\"toc-item-num\">2.1.3&nbsp;&nbsp;</span>Classificatoin Report</a></span></li><li><span><a href=\"#Confusion-Matrix\" data-toc-modified-id=\"Confusion-Matrix-2.1.4\"><span class=\"toc-item-num\">2.1.4&nbsp;&nbsp;</span>Confusion Matrix</a></span></li></ul></li><li><span><a href=\"#KD-tree-KNN\" data-toc-modified-id=\"KD-tree-KNN-2.2\"><span class=\"toc-item-num\">2.2&nbsp;&nbsp;</span>KD tree KNN</a></span><ul class=\"toc-item\"><li><span><a href=\"#Misclassification-Error\" data-toc-modified-id=\"Misclassification-Error-2.2.1\"><span class=\"toc-item-num\">2.2.1&nbsp;&nbsp;</span>Misclassification Error</a></span></li><li><span><a href=\"#Accuracy-Score\" data-toc-modified-id=\"Accuracy-Score-2.2.2\"><span class=\"toc-item-num\">2.2.2&nbsp;&nbsp;</span>Accuracy Score</a></span></li><li><span><a href=\"#Classification-Report\" data-toc-modified-id=\"Classification-Report-2.2.3\"><span class=\"toc-item-num\">2.2.3&nbsp;&nbsp;</span>Classification Report</a></span></li><li><span><a href=\"#Confusion-Matrix\" data-toc-modified-id=\"Confusion-Matrix-2.2.4\"><span class=\"toc-item-num\">2.2.4&nbsp;&nbsp;</span>Confusion Matrix</a></span></li></ul></li></ul></li><li><span><a href=\"#TF-IDF\" data-toc-modified-id=\"TF-IDF-3\"><span class=\"toc-item-num\">3&nbsp;&nbsp;</span>TF-IDF</a></span><ul class=\"toc-item\"><li><span><a href=\"#Brute-force-KNN\" data-toc-modified-id=\"Brute-force-KNN-3.1\"><span class=\"toc-item-num\">3.1&nbsp;&nbsp;</span>Brute force KNN</a></span><ul class=\"toc-item\"><li><span><a href=\"#Missclassification-Error\" data-toc-modified-id=\"Missclassification-Error-3.1.1\"><span class=\"toc-item-num\">3.1.1&nbsp;&nbsp;</span>Missclassification Error</a></span></li><li><span><a href=\"#Accuracy-Score\" data-toc-modified-id=\"Accuracy-Score-3.1.2\"><span class=\"toc-item-num\">3.1.2&nbsp;&nbsp;</span>Accuracy Score</a></span></li><li><span><a href=\"#Classificatoin-Report\" data-toc-modified-id=\"Classificatoin-Report-3.1.3\"><span class=\"toc-item-num\">3.1.3&nbsp;&nbsp;</span>Classificatoin Report</a></span></li><li><span><a href=\"#Confusion-Matrix\" data-toc-modified-id=\"Confusion-Matrix-3.1.4\"><span class=\"toc-item-num\">3.1.4&nbsp;&nbsp;</span>Confusion Matrix</a></span></li></ul></li><li><span><a href=\"#KD-tree-KNN\" data-toc-modified-id=\"KD-tree-KNN-3.2\"><span class=\"toc-item-num\">3.2&nbsp;&nbsp;</span>KD tree KNN</a></span><ul class=\"toc-item\"><li><span><a href=\"#Misclassification-Error\" data-toc-modified-id=\"Misclassification-Error-3.2.1\"><span class=\"toc-item-num\">3.2.1&nbsp;&nbsp;</span>Misclassification Error</a></span></li><li><span><a href=\"#Accuracy-Score\" data-toc-modified-id=\"Accuracy-Score-3.2.2\"><span class=\"toc-item-num\">3.2.2&nbsp;&nbsp;</span>Accuracy Score</a></span></li><li><span><a href=\"#Classificatoin-Report\" data-toc-modified-id=\"Classificatoin-Report-3.2.3\"><span class=\"toc-item-num\">3.2.3&nbsp;&nbsp;</span>Classificatoin Report</a></span></li><li><span><a href=\"#Confusion-Matrix\" data-toc-modified-id=\"Confusion-Matrix-3.2.4\"><span class=\"toc-item-num\">3.2.4&nbsp;&nbsp;</span>Confusion Matrix</a></span></li></ul></li></ul></li><li><span><a href=\"#Word2Vec\" data-toc-modified-id=\"Word2Vec-4\"><span class=\"toc-item-num\">4&nbsp;&nbsp;</span>Word2Vec</a></span></li><li><span><a href=\"#Avg-Word2Vec\" data-toc-modified-id=\"Avg-Word2Vec-5\"><span class=\"toc-item-num\">5&nbsp;&nbsp;</span>Avg Word2Vec</a></span><ul class=\"toc-item\"><li><span><a href=\"#Brute-force-KNN\" data-toc-modified-id=\"Brute-force-KNN-5.1\"><span class=\"toc-item-num\">5.1&nbsp;&nbsp;</span>Brute force KNN</a></span><ul class=\"toc-item\"><li><span><a href=\"#Misclassification-Error\" data-toc-modified-id=\"Misclassification-Error-5.1.1\"><span class=\"toc-item-num\">5.1.1&nbsp;&nbsp;</span>Misclassification Error</a></span></li><li><span><a href=\"#Accuracy-Score\" data-toc-modified-id=\"Accuracy-Score-5.1.2\"><span class=\"toc-item-num\">5.1.2&nbsp;&nbsp;</span>Accuracy Score</a></span></li><li><span><a href=\"#Classification-Report\" data-toc-modified-id=\"Classification-Report-5.1.3\"><span class=\"toc-item-num\">5.1.3&nbsp;&nbsp;</span>Classification Report</a></span></li><li><span><a href=\"#Confusion-Matrix\" data-toc-modified-id=\"Confusion-Matrix-5.1.4\"><span class=\"toc-item-num\">5.1.4&nbsp;&nbsp;</span>Confusion Matrix</a></span></li></ul></li><li><span><a href=\"#KD-tree-KNN\" data-toc-modified-id=\"KD-tree-KNN-5.2\"><span class=\"toc-item-num\">5.2&nbsp;&nbsp;</span>KD tree KNN</a></span><ul class=\"toc-item\"><li><span><a href=\"#Misclassification-Error\" data-toc-modified-id=\"Misclassification-Error-5.2.1\"><span class=\"toc-item-num\">5.2.1&nbsp;&nbsp;</span>Misclassification Error</a></span></li><li><span><a href=\"#Accuracy-Score\" data-toc-modified-id=\"Accuracy-Score-5.2.2\"><span class=\"toc-item-num\">5.2.2&nbsp;&nbsp;</span>Accuracy Score</a></span></li><li><span><a href=\"#Classification-Report\" data-toc-modified-id=\"Classification-Report-5.2.3\"><span class=\"toc-item-num\">5.2.3&nbsp;&nbsp;</span>Classification Report</a></span></li><li><span><a href=\"#Confusion-Matrix\" data-toc-modified-id=\"Confusion-Matrix-5.2.4\"><span class=\"toc-item-num\">5.2.4&nbsp;&nbsp;</span>Confusion Matrix</a></span></li></ul></li></ul></li><li><span><a href=\"#TFIDF-Word2Vec\" data-toc-modified-id=\"TFIDF-Word2Vec-6\"><span class=\"toc-item-num\">6&nbsp;&nbsp;</span>TFIDF-Word2Vec</a></span><ul class=\"toc-item\"><li><span><a href=\"#Brute-force-KNN\" data-toc-modified-id=\"Brute-force-KNN-6.1\"><span class=\"toc-item-num\">6.1&nbsp;&nbsp;</span>Brute force KNN</a></span><ul class=\"toc-item\"><li><span><a href=\"#Misclassification-Error\" data-toc-modified-id=\"Misclassification-Error-6.1.1\"><span class=\"toc-item-num\">6.1.1&nbsp;&nbsp;</span>Misclassification Error</a></span></li><li><span><a href=\"#Accuracy-Score\" data-toc-modified-id=\"Accuracy-Score-6.1.2\"><span class=\"toc-item-num\">6.1.2&nbsp;&nbsp;</span>Accuracy Score</a></span></li><li><span><a href=\"#Classification-Report\" data-toc-modified-id=\"Classification-Report-6.1.3\"><span class=\"toc-item-num\">6.1.3&nbsp;&nbsp;</span>Classification Report</a></span></li><li><span><a href=\"#Confusion-Matrix\" data-toc-modified-id=\"Confusion-Matrix-6.1.4\"><span class=\"toc-item-num\">6.1.4&nbsp;&nbsp;</span>Confusion Matrix</a></span></li></ul></li><li><span><a href=\"#KD-tree-KNN\" data-toc-modified-id=\"KD-tree-KNN-6.2\"><span class=\"toc-item-num\">6.2&nbsp;&nbsp;</span>KD tree KNN</a></span><ul class=\"toc-item\"><li><span><a href=\"#Misclassification-Error\" data-toc-modified-id=\"Misclassification-Error-6.2.1\"><span class=\"toc-item-num\">6.2.1&nbsp;&nbsp;</span>Misclassification Error</a></span></li><li><span><a href=\"#Accuracy-Score\" data-toc-modified-id=\"Accuracy-Score-6.2.2\"><span class=\"toc-item-num\">6.2.2&nbsp;&nbsp;</span>Accuracy Score</a></span></li><li><span><a href=\"#Classification-Report\" data-toc-modified-id=\"Classification-Report-6.2.3\"><span class=\"toc-item-num\">6.2.3&nbsp;&nbsp;</span>Classification Report</a></span></li><li><span><a href=\"#Confusion-Matrix\" data-toc-modified-id=\"Confusion-Matrix-6.2.4\"><span class=\"toc-item-num\">6.2.4&nbsp;&nbsp;</span>Confusion Matrix</a></span></li></ul></li></ul></li><li><span><a href=\"#Final-Report\" data-toc-modified-id=\"Final-Report-7\"><span class=\"toc-item-num\">7&nbsp;&nbsp;</span>Final Report</a></span></li><li><span><a href=\"#Conclusion\" data-toc-modified-id=\"Conclusion-8\"><span class=\"toc-item-num\">8&nbsp;&nbsp;</span>Conclusion</a></span></li></ul></div>"
   ]
  },
  {
   "cell_type": "markdown",
   "metadata": {
    "_uuid": "0e18e7d2dc71bc1a61b2683ef4f4101d2018ffa9"
   },
   "source": [
    "# KNN\n",
    "\n",
    "## Introduction\n",
    "\n",
    "## Objective:\n",
    "- Get Amazon Fine Foor Review dataset and prepare 4 categories of datasets: \n",
    "      (i) BoW, \n",
    "      (ii) TF-IDF, \n",
    "      (iii) Word2Vec, \n",
    "      (iv) TFIDF-W2V\n",
    "      \n",
    "- Apply following on all of the above:\n",
    "        1. Split the data into train data(70%) and test data(30%) using timebased slicing.\n",
    "        2. Perform 10 fold cross validation to find optimal K in KNN.\n",
    "        3. Apply KNN, both: bruteforce and kd-tree.\n",
    "        4. Report: Accuracy score with best K, f1 measure, Confusion Matrix"
   ]
  },
  {
   "cell_type": "code",
   "execution_count": 1,
   "metadata": {
    "_uuid": "a6696312409e4c335b6c35956d19da4186b02d42"
   },
   "outputs": [],
   "source": [
    "import warnings\n",
    "warnings.filterwarnings(\"ignore\")\n",
    "import sqlite3\n",
    "import pandas as pd\n",
    "import re\n",
    "import nltk\n",
    "from nltk.corpus import stopwords\n",
    "import numpy as np\n",
    "from sklearn.model_selection import cross_validate\n",
    "from sklearn.model_selection import train_test_split\n",
    "from sklearn.neighbors import KNeighborsClassifier\n",
    "from sklearn.metrics import accuracy_score\n",
    "from sklearn.model_selection import cross_val_score\n",
    "import matplotlib.pyplot as plt\n",
    "from sklearn.feature_extraction.text import CountVectorizer\n",
    "from sklearn.metrics import confusion_matrix\n",
    "import seaborn as sb\n",
    "from sklearn.metrics import classification_report\n",
    "from sklearn.feature_extraction.text import TfidfVectorizer\n",
    "from sklearn.preprocessing import StandardScaler\n",
    "import gensim\n",
    "from gensim.models import Word2Vec, KeyedVectors\n",
    "from tqdm import tqdm"
   ]
  },
  {
   "cell_type": "code",
   "execution_count": 16,
   "metadata": {
    "_uuid": "05c3ae5221f631360349349e91b0d80b839b1f04"
   },
   "outputs": [
    {
     "data": {
      "text/plain": [
       "(568454, 10)"
      ]
     },
     "metadata": {},
     "output_type": "display_data"
    }
   ],
   "source": [
    "# Connection to the dataset\n",
    "con = sqlite3.connect('database.sqlite')\n",
    "\n",
    "# It is given that the table name is 'Reviews'\n",
    "# Creating pandas dataframe and storing into variable 'dataset' by help of sql query\n",
    "dataset = pd.read_sql_query(\"\"\"SELECT * FROM Reviews\"\"\", con)\n",
    "\n",
    "# Getting the shape of actual data: row, column\n",
    "display(dataset.shape)"
   ]
  },
  {
   "cell_type": "code",
   "execution_count": 17,
   "metadata": {
    "_uuid": "12f379a9872da91a7547f6c2227b1957bc4f38ab"
   },
   "outputs": [
    {
     "data": {
      "text/html": [
       "<div>\n",
       "<style scoped>\n",
       "    .dataframe tbody tr th:only-of-type {\n",
       "        vertical-align: middle;\n",
       "    }\n",
       "\n",
       "    .dataframe tbody tr th {\n",
       "        vertical-align: top;\n",
       "    }\n",
       "\n",
       "    .dataframe thead th {\n",
       "        text-align: right;\n",
       "    }\n",
       "</style>\n",
       "<table border=\"1\" class=\"dataframe\">\n",
       "  <thead>\n",
       "    <tr style=\"text-align: right;\">\n",
       "      <th></th>\n",
       "      <th>Id</th>\n",
       "      <th>ProductId</th>\n",
       "      <th>UserId</th>\n",
       "      <th>ProfileName</th>\n",
       "      <th>HelpfulnessNumerator</th>\n",
       "      <th>HelpfulnessDenominator</th>\n",
       "      <th>Score</th>\n",
       "      <th>Time</th>\n",
       "      <th>Summary</th>\n",
       "      <th>Text</th>\n",
       "    </tr>\n",
       "  </thead>\n",
       "  <tbody>\n",
       "    <tr>\n",
       "      <th>0</th>\n",
       "      <td>1</td>\n",
       "      <td>B001E4KFG0</td>\n",
       "      <td>A3SGXH7AUHU8GW</td>\n",
       "      <td>delmartian</td>\n",
       "      <td>1</td>\n",
       "      <td>1</td>\n",
       "      <td>5</td>\n",
       "      <td>1303862400</td>\n",
       "      <td>Good Quality Dog Food</td>\n",
       "      <td>I have bought several of the Vitality canned d...</td>\n",
       "    </tr>\n",
       "    <tr>\n",
       "      <th>1</th>\n",
       "      <td>2</td>\n",
       "      <td>B00813GRG4</td>\n",
       "      <td>A1D87F6ZCVE5NK</td>\n",
       "      <td>dll pa</td>\n",
       "      <td>0</td>\n",
       "      <td>0</td>\n",
       "      <td>1</td>\n",
       "      <td>1346976000</td>\n",
       "      <td>Not as Advertised</td>\n",
       "      <td>Product arrived labeled as Jumbo Salted Peanut...</td>\n",
       "    </tr>\n",
       "    <tr>\n",
       "      <th>2</th>\n",
       "      <td>3</td>\n",
       "      <td>B000LQOCH0</td>\n",
       "      <td>ABXLMWJIXXAIN</td>\n",
       "      <td>Natalia Corres \"Natalia Corres\"</td>\n",
       "      <td>1</td>\n",
       "      <td>1</td>\n",
       "      <td>4</td>\n",
       "      <td>1219017600</td>\n",
       "      <td>\"Delight\" says it all</td>\n",
       "      <td>This is a confection that has been around a fe...</td>\n",
       "    </tr>\n",
       "    <tr>\n",
       "      <th>3</th>\n",
       "      <td>4</td>\n",
       "      <td>B000UA0QIQ</td>\n",
       "      <td>A395BORC6FGVXV</td>\n",
       "      <td>Karl</td>\n",
       "      <td>3</td>\n",
       "      <td>3</td>\n",
       "      <td>2</td>\n",
       "      <td>1307923200</td>\n",
       "      <td>Cough Medicine</td>\n",
       "      <td>If you are looking for the secret ingredient i...</td>\n",
       "    </tr>\n",
       "    <tr>\n",
       "      <th>4</th>\n",
       "      <td>5</td>\n",
       "      <td>B006K2ZZ7K</td>\n",
       "      <td>A1UQRSCLF8GW1T</td>\n",
       "      <td>Michael D. Bigham \"M. Wassir\"</td>\n",
       "      <td>0</td>\n",
       "      <td>0</td>\n",
       "      <td>5</td>\n",
       "      <td>1350777600</td>\n",
       "      <td>Great taffy</td>\n",
       "      <td>Great taffy at a great price.  There was a wid...</td>\n",
       "    </tr>\n",
       "  </tbody>\n",
       "</table>\n",
       "</div>"
      ],
      "text/plain": [
       "   Id   ProductId          UserId                      ProfileName  \\\n",
       "0   1  B001E4KFG0  A3SGXH7AUHU8GW                       delmartian   \n",
       "1   2  B00813GRG4  A1D87F6ZCVE5NK                           dll pa   \n",
       "2   3  B000LQOCH0   ABXLMWJIXXAIN  Natalia Corres \"Natalia Corres\"   \n",
       "3   4  B000UA0QIQ  A395BORC6FGVXV                             Karl   \n",
       "4   5  B006K2ZZ7K  A1UQRSCLF8GW1T    Michael D. Bigham \"M. Wassir\"   \n",
       "\n",
       "   HelpfulnessNumerator  HelpfulnessDenominator  Score        Time  \\\n",
       "0                     1                       1      5  1303862400   \n",
       "1                     0                       0      1  1346976000   \n",
       "2                     1                       1      4  1219017600   \n",
       "3                     3                       3      2  1307923200   \n",
       "4                     0                       0      5  1350777600   \n",
       "\n",
       "                 Summary                                               Text  \n",
       "0  Good Quality Dog Food  I have bought several of the Vitality canned d...  \n",
       "1      Not as Advertised  Product arrived labeled as Jumbo Salted Peanut...  \n",
       "2  \"Delight\" says it all  This is a confection that has been around a fe...  \n",
       "3         Cough Medicine  If you are looking for the secret ingredient i...  \n",
       "4            Great taffy  Great taffy at a great price.  There was a wid...  "
      ]
     },
     "metadata": {},
     "output_type": "display_data"
    }
   ],
   "source": [
    "# Displaying first 5 data points\n",
    "display(dataset.head())"
   ]
  },
  {
   "cell_type": "code",
   "execution_count": 18,
   "metadata": {
    "_uuid": "8ba7c3ce1540f39d8dcef7520bc187796528ae19"
   },
   "outputs": [],
   "source": [
    "# Considering only those reviews which score is either 1,2 or 4,5\n",
    "# Since, 3 is kind of neutral review, so, we are eliminating it\n",
    "filtered_data = pd.read_sql_query(\"\"\"\n",
    "SELECT *\n",
    "FROM Reviews\n",
    "WHERE Score != 3\n",
    "\"\"\", con)"
   ]
  },
  {
   "cell_type": "code",
   "execution_count": 20,
   "metadata": {
    "_uuid": "4b9f79c2252e84f366ab0c372ffefd01754c3ad7"
   },
   "outputs": [
    {
     "data": {
      "text/plain": [
       "(525814, 10)"
      ]
     },
     "metadata": {},
     "output_type": "display_data"
    }
   ],
   "source": [
    "# Getting shape of new dataset\n",
    "display(filtered_data.shape)"
   ]
  },
  {
   "cell_type": "code",
   "execution_count": 21,
   "metadata": {
    "_uuid": "1d8f4b0b4d9877a4cb11021e0ef1d1324d96013f"
   },
   "outputs": [],
   "source": [
    "# Changing the scores into 'positive' or 'negative'\n",
    "# Score greater that 3 is considered as 'positive' and less than 3 is 'negative'\n",
    "def partition(x):\n",
    "    if x>3:\n",
    "        return 'positive'\n",
    "    return 'negative'\n",
    "\n",
    "actual_score = filtered_data['Score']\n",
    "positiveNegative = actual_score.map(partition)\n",
    "filtered_data['Score'] = positiveNegative"
   ]
  },
  {
   "cell_type": "code",
   "execution_count": 27,
   "metadata": {
    "_uuid": "f95c9c2527bbf491e70b512df77342a5233e78e8"
   },
   "outputs": [
    {
     "data": {
      "text/plain": [
       "(363224, 10)"
      ]
     },
     "metadata": {},
     "output_type": "display_data"
    }
   ],
   "source": [
    "# Sorting data points according to the 'ProductId'\n",
    "sorted_data = filtered_data.sort_values('ProductId', axis=0, ascending=True, inplace=False, kind='quicksort', na_position='last')\n",
    "\n",
    "# Eliminating the duplicate data points based on: 'UserId', 'ProfileName', 'Time', 'Summary'\n",
    "final = sorted_data.drop_duplicates(subset={'UserId', 'ProfileName', 'Time', 'Summary'}, keep='first', inplace=False)\n",
    "\n",
    "# Eliminating the row where 'HelpfulnessDenominator' is greater than 'HelpfulnessNumerator' as these are the wrong entry\n",
    "final = final[final['HelpfulnessDenominator'] >= final['HelpfulnessNumerator']]\n",
    "\n",
    "# Getting shape of final data frame\n",
    "display(final.shape)"
   ]
  },
  {
   "cell_type": "code",
   "execution_count": 35,
   "metadata": {
    "_uuid": "9f446b2daad7f81490645959f643bd186a004210"
   },
   "outputs": [
    {
     "name": "stderr",
     "output_type": "stream",
     "text": [
      "100%|██████████| 363224/363224 [08:55<00:00, 678.46it/s]\n"
     ]
    },
    {
     "name": "stdout",
     "output_type": "stream",
     "text": [
      "(363224, 12)\n",
      "CPU times: user 8min 58s, sys: 3.76 s, total: 9min 2s\n",
      "Wall time: 9min 4s\n"
     ]
    }
   ],
   "source": [
    "%%time\n",
    "\n",
    "# Creating the set of stopwords\n",
    "stop = set(stopwords.words('english'))\n",
    "\n",
    "# For stemming purpose\n",
    "snow = nltk.stem.SnowballStemmer('english')\n",
    "\n",
    "# Defining function to clean html tags\n",
    "def cleanhtml(sentence):\n",
    "    cleaner = re.compile('<.*>')\n",
    "    cleantext = re.sub(cleaner, ' ', sentence)\n",
    "    return cleantext\n",
    "\n",
    "# Defining function to remove special symbols\n",
    "def cleanpunc(sentence):\n",
    "    cleaned = re.sub(r'[?|.|!|*|@|#|\\'|\"|,|)|(|\\|/]', r'', sentence)\n",
    "    return cleaned\n",
    "\n",
    "\n",
    "# Important steps to clean the text data. Please trace it out carefully\n",
    "i = 0\n",
    "str1 = ''\n",
    "all_positive_words = []\n",
    "all_negative_words = []\n",
    "final_string = []\n",
    "s=''\n",
    "for sent in tqdm(final['Text'].values):\n",
    "    filtered_sentence = []\n",
    "    sent = cleanhtml(sent)\n",
    "    for w in sent.split():\n",
    "        for cleaned_words in cleanpunc(w).split():\n",
    "            if ((cleaned_words.isalpha()) & (len(cleaned_words)>2)):\n",
    "                if (cleaned_words.lower() not in stop):\n",
    "                    s = (snow.stem(cleaned_words.lower())).encode('utf-8')\n",
    "                    filtered_sentence.append(s)\n",
    "                    if (final['Score'].values)[i] == 'positive':\n",
    "                        all_positive_words.append(s)\n",
    "                    if (final['Score'].values)[i] == 'negative':\n",
    "                        all_negative_words.append(s)\n",
    "                else:\n",
    "                    continue\n",
    "            else:\n",
    "                continue\n",
    "    str1 = b\" \".join(filtered_sentence)\n",
    "    final_string.append(str1)\n",
    "    i += 1\n",
    "    \n",
    "# Adding new column into dataframe to store cleaned text\n",
    "final['CleanedText'] = final_string\n",
    "final['CleanedText'] = final['CleanedText'].str.decode('utf-8')\n",
    "\n",
    "# Creating new dataset with cleaned text for future use\n",
    "conn = sqlite3.connect('final.sqlite')\n",
    "c = conn.cursor()\n",
    "conn.text_factory = str\n",
    "final.to_sql('Reviews', conn, schema=None, if_exists='replace', index=True, index_label=None, chunksize=None, dtype=None)\n",
    "\n",
    "# Getting shape of new datset\n",
    "print(final.shape)"
   ]
  },
  {
   "cell_type": "code",
   "execution_count": 2,
   "metadata": {
    "_uuid": "8c5f95dc1d527f035c52936e484bd8f1219305e5"
   },
   "outputs": [],
   "source": [
    "# Creating connection to read from database\n",
    "conn = sqlite3.connect('./final.sqlite')\n",
    "\n",
    "# Creating data frame for visualization using sql query\n",
    "final = pd.read_sql_query(\"\"\"\n",
    "SELECT *\n",
    "FROM Reviews\n",
    "\"\"\", conn)"
   ]
  },
  {
   "cell_type": "code",
   "execution_count": 3,
   "metadata": {
    "_uuid": "36dca95c32862b7810f24109f071b9a60efc1157"
   },
   "outputs": [
    {
     "data": {
      "text/html": [
       "<div>\n",
       "<style scoped>\n",
       "    .dataframe tbody tr th:only-of-type {\n",
       "        vertical-align: middle;\n",
       "    }\n",
       "\n",
       "    .dataframe tbody tr th {\n",
       "        vertical-align: top;\n",
       "    }\n",
       "\n",
       "    .dataframe thead th {\n",
       "        text-align: right;\n",
       "    }\n",
       "</style>\n",
       "<table border=\"1\" class=\"dataframe\">\n",
       "  <thead>\n",
       "    <tr style=\"text-align: right;\">\n",
       "      <th></th>\n",
       "      <th>level_0</th>\n",
       "      <th>index</th>\n",
       "      <th>Id</th>\n",
       "      <th>ProductId</th>\n",
       "      <th>UserId</th>\n",
       "      <th>ProfileName</th>\n",
       "      <th>HelpfulnessNumerator</th>\n",
       "      <th>HelpfulnessDenominator</th>\n",
       "      <th>Score</th>\n",
       "      <th>Time</th>\n",
       "      <th>Summary</th>\n",
       "      <th>Text</th>\n",
       "      <th>CleanedText</th>\n",
       "    </tr>\n",
       "  </thead>\n",
       "  <tbody>\n",
       "    <tr>\n",
       "      <th>0</th>\n",
       "      <td>0</td>\n",
       "      <td>138706</td>\n",
       "      <td>150524</td>\n",
       "      <td>0006641040</td>\n",
       "      <td>ACITT7DI6IDDL</td>\n",
       "      <td>shari zychinski</td>\n",
       "      <td>0</td>\n",
       "      <td>0</td>\n",
       "      <td>positive</td>\n",
       "      <td>939340800</td>\n",
       "      <td>EVERY book is educational</td>\n",
       "      <td>this witty little book makes my son laugh at l...</td>\n",
       "      <td>witti littl book make son laugh loud recit car...</td>\n",
       "    </tr>\n",
       "    <tr>\n",
       "      <th>1</th>\n",
       "      <td>1</td>\n",
       "      <td>138688</td>\n",
       "      <td>150506</td>\n",
       "      <td>0006641040</td>\n",
       "      <td>A2IW4PEEKO2R0U</td>\n",
       "      <td>Tracy</td>\n",
       "      <td>1</td>\n",
       "      <td>1</td>\n",
       "      <td>positive</td>\n",
       "      <td>1194739200</td>\n",
       "      <td>Love the book, miss the hard cover version</td>\n",
       "      <td>I grew up reading these Sendak books, and watc...</td>\n",
       "      <td>grew read sendak book watch realli rosi movi i...</td>\n",
       "    </tr>\n",
       "    <tr>\n",
       "      <th>2</th>\n",
       "      <td>2</td>\n",
       "      <td>138689</td>\n",
       "      <td>150507</td>\n",
       "      <td>0006641040</td>\n",
       "      <td>A1S4A3IQ2MU7V4</td>\n",
       "      <td>sally sue \"sally sue\"</td>\n",
       "      <td>1</td>\n",
       "      <td>1</td>\n",
       "      <td>positive</td>\n",
       "      <td>1191456000</td>\n",
       "      <td>chicken soup with rice months</td>\n",
       "      <td>This is a fun way for children to learn their ...</td>\n",
       "      <td>fun way children learn month year learn poem t...</td>\n",
       "    </tr>\n",
       "  </tbody>\n",
       "</table>\n",
       "</div>"
      ],
      "text/plain": [
       "   level_0   index      Id   ProductId          UserId            ProfileName  \\\n",
       "0        0  138706  150524  0006641040   ACITT7DI6IDDL        shari zychinski   \n",
       "1        1  138688  150506  0006641040  A2IW4PEEKO2R0U                  Tracy   \n",
       "2        2  138689  150507  0006641040  A1S4A3IQ2MU7V4  sally sue \"sally sue\"   \n",
       "\n",
       "   HelpfulnessNumerator  HelpfulnessDenominator     Score        Time  \\\n",
       "0                     0                       0  positive   939340800   \n",
       "1                     1                       1  positive  1194739200   \n",
       "2                     1                       1  positive  1191456000   \n",
       "\n",
       "                                      Summary  \\\n",
       "0                   EVERY book is educational   \n",
       "1  Love the book, miss the hard cover version   \n",
       "2               chicken soup with rice months   \n",
       "\n",
       "                                                Text  \\\n",
       "0  this witty little book makes my son laugh at l...   \n",
       "1  I grew up reading these Sendak books, and watc...   \n",
       "2  This is a fun way for children to learn their ...   \n",
       "\n",
       "                                         CleanedText  \n",
       "0  witti littl book make son laugh loud recit car...  \n",
       "1  grew read sendak book watch realli rosi movi i...  \n",
       "2  fun way children learn month year learn poem t...  "
      ]
     },
     "metadata": {},
     "output_type": "display_data"
    }
   ],
   "source": [
    "# Displaying first 3 indices\n",
    "display(final.head(3))"
   ]
  },
  {
   "cell_type": "markdown",
   "metadata": {
    "_uuid": "8f5f7486346521d9638aed35d8d6f55e60ef8f52"
   },
   "source": [
    "# BoW"
   ]
  },
  {
   "cell_type": "code",
   "execution_count": 7,
   "metadata": {
    "_uuid": "e3fea0adb582942e940da82cc6bfa93f765df93e"
   },
   "outputs": [],
   "source": [
    "# Sampling positive and negative reviews\n",
    "positive_points = final[final['Score'] == 'positive'].sample(\n",
    "    n=10000, random_state=0)\n",
    "negative_points = final[final['Score'] == 'negative'].sample(\n",
    "    n=10000, random_state=0)\n",
    "total_points = pd.concat([positive_points, negative_points])\n",
    "\n",
    "# Sorting based on time\n",
    "total_points['Time'] = pd.to_datetime(total_points['Time'], origin='unix', unit='s')\n",
    "total_points = total_points.sort_values('Time')\n",
    "sample_points = total_points['CleanedText']\n",
    "labels = total_points['Score']#.map(lambda x: 1 if x == 'positive' else 0).values"
   ]
  },
  {
   "cell_type": "code",
   "execution_count": 8,
   "metadata": {},
   "outputs": [
    {
     "data": {
      "text/html": [
       "<div>\n",
       "<style scoped>\n",
       "    .dataframe tbody tr th:only-of-type {\n",
       "        vertical-align: middle;\n",
       "    }\n",
       "\n",
       "    .dataframe tbody tr th {\n",
       "        vertical-align: top;\n",
       "    }\n",
       "\n",
       "    .dataframe thead th {\n",
       "        text-align: right;\n",
       "    }\n",
       "</style>\n",
       "<table border=\"1\" class=\"dataframe\">\n",
       "  <thead>\n",
       "    <tr style=\"text-align: right;\">\n",
       "      <th></th>\n",
       "      <th>level_0</th>\n",
       "      <th>index</th>\n",
       "      <th>Id</th>\n",
       "      <th>ProductId</th>\n",
       "      <th>UserId</th>\n",
       "      <th>ProfileName</th>\n",
       "      <th>HelpfulnessNumerator</th>\n",
       "      <th>HelpfulnessDenominator</th>\n",
       "      <th>Score</th>\n",
       "      <th>Time</th>\n",
       "      <th>Summary</th>\n",
       "      <th>Text</th>\n",
       "      <th>CleanedText</th>\n",
       "    </tr>\n",
       "  </thead>\n",
       "  <tbody>\n",
       "    <tr>\n",
       "      <th>297</th>\n",
       "      <td>297</td>\n",
       "      <td>346102</td>\n",
       "      <td>374408</td>\n",
       "      <td>B00004CI84</td>\n",
       "      <td>A1GB1Q193DNFGR</td>\n",
       "      <td>Bruce Lee Pullen</td>\n",
       "      <td>5</td>\n",
       "      <td>5</td>\n",
       "      <td>positive</td>\n",
       "      <td>2000-10-03</td>\n",
       "      <td>Fabulous Comedic Fanasy Directed by a Master</td>\n",
       "      <td>Beetlejuice is an awe-inspiring wonderfully am...</td>\n",
       "      <td>beetlejuic wonder amus comed romp explor incre...</td>\n",
       "    </tr>\n",
       "    <tr>\n",
       "      <th>244</th>\n",
       "      <td>244</td>\n",
       "      <td>346114</td>\n",
       "      <td>374420</td>\n",
       "      <td>B00004CI84</td>\n",
       "      <td>A1ZH086GZYL5MZ</td>\n",
       "      <td>Doug DeBolt</td>\n",
       "      <td>2</td>\n",
       "      <td>2</td>\n",
       "      <td>positive</td>\n",
       "      <td>2002-02-11</td>\n",
       "      <td>A little gross, a lot of fun</td>\n",
       "      <td>Michael Keaton was already on his way to being...</td>\n",
       "      <td>michael keaton alreadi way major star play gho...</td>\n",
       "    </tr>\n",
       "    <tr>\n",
       "      <th>1031</th>\n",
       "      <td>1031</td>\n",
       "      <td>443669</td>\n",
       "      <td>479730</td>\n",
       "      <td>B00005U2FA</td>\n",
       "      <td>A7BP01VQO33U</td>\n",
       "      <td>Caleb</td>\n",
       "      <td>11</td>\n",
       "      <td>11</td>\n",
       "      <td>positive</td>\n",
       "      <td>2002-05-23</td>\n",
       "      <td>Way To Go Guys!</td>\n",
       "      <td>I'm never dissapointed with the great gadgets ...</td>\n",
       "      <td>never dissapoint great gadget compani come bro...</td>\n",
       "    </tr>\n",
       "    <tr>\n",
       "      <th>356390</th>\n",
       "      <td>356390</td>\n",
       "      <td>420194</td>\n",
       "      <td>454404</td>\n",
       "      <td>B007JXVR76</td>\n",
       "      <td>A1ZXF1MOZZYAJC</td>\n",
       "      <td>\"boycat\"</td>\n",
       "      <td>0</td>\n",
       "      <td>6</td>\n",
       "      <td>positive</td>\n",
       "      <td>2003-07-16</td>\n",
       "      <td>Meow Mix is the best cat food in the WORLD!</td>\n",
       "      <td>I love meow mix, my cats love it to. We all ea...</td>\n",
       "      <td>love meow mix cat love eat togther cat kittl u...</td>\n",
       "    </tr>\n",
       "    <tr>\n",
       "      <th>3648</th>\n",
       "      <td>3648</td>\n",
       "      <td>255320</td>\n",
       "      <td>276802</td>\n",
       "      <td>B0000DCXFY</td>\n",
       "      <td>AQFIH82DRPMW</td>\n",
       "      <td>Patrick O'Brien</td>\n",
       "      <td>5</td>\n",
       "      <td>5</td>\n",
       "      <td>positive</td>\n",
       "      <td>2003-11-17</td>\n",
       "      <td>Great for Crostini</td>\n",
       "      <td>While Pesto Genovese is my favorite pesto for ...</td>\n",
       "      <td>pesto genoves favorit pesto capelli dang famil...</td>\n",
       "    </tr>\n",
       "  </tbody>\n",
       "</table>\n",
       "</div>"
      ],
      "text/plain": [
       "        level_0   index      Id   ProductId          UserId       ProfileName  \\\n",
       "297         297  346102  374408  B00004CI84  A1GB1Q193DNFGR  Bruce Lee Pullen   \n",
       "244         244  346114  374420  B00004CI84  A1ZH086GZYL5MZ       Doug DeBolt   \n",
       "1031       1031  443669  479730  B00005U2FA    A7BP01VQO33U             Caleb   \n",
       "356390   356390  420194  454404  B007JXVR76  A1ZXF1MOZZYAJC          \"boycat\"   \n",
       "3648       3648  255320  276802  B0000DCXFY    AQFIH82DRPMW   Patrick O'Brien   \n",
       "\n",
       "        HelpfulnessNumerator  HelpfulnessDenominator     Score       Time  \\\n",
       "297                        5                       5  positive 2000-10-03   \n",
       "244                        2                       2  positive 2002-02-11   \n",
       "1031                      11                      11  positive 2002-05-23   \n",
       "356390                     0                       6  positive 2003-07-16   \n",
       "3648                       5                       5  positive 2003-11-17   \n",
       "\n",
       "                                             Summary  \\\n",
       "297     Fabulous Comedic Fanasy Directed by a Master   \n",
       "244                     A little gross, a lot of fun   \n",
       "1031                                 Way To Go Guys!   \n",
       "356390   Meow Mix is the best cat food in the WORLD!   \n",
       "3648                              Great for Crostini   \n",
       "\n",
       "                                                     Text  \\\n",
       "297     Beetlejuice is an awe-inspiring wonderfully am...   \n",
       "244     Michael Keaton was already on his way to being...   \n",
       "1031    I'm never dissapointed with the great gadgets ...   \n",
       "356390  I love meow mix, my cats love it to. We all ea...   \n",
       "3648    While Pesto Genovese is my favorite pesto for ...   \n",
       "\n",
       "                                              CleanedText  \n",
       "297     beetlejuic wonder amus comed romp explor incre...  \n",
       "244     michael keaton alreadi way major star play gho...  \n",
       "1031    never dissapoint great gadget compani come bro...  \n",
       "356390  love meow mix cat love eat togther cat kittl u...  \n",
       "3648    pesto genoves favorit pesto capelli dang famil...  "
      ]
     },
     "execution_count": 8,
     "metadata": {},
     "output_type": "execute_result"
    }
   ],
   "source": [
    "total_points.head()"
   ]
  },
  {
   "cell_type": "code",
   "execution_count": 9,
   "metadata": {
    "_uuid": "a4e18ccc56daf23596cd086f7e2a9d3062c0f6f0"
   },
   "outputs": [],
   "source": [
    "# Splitting into train and test\n",
    "X_train, X_test, Y_train, Y_test = train_test_split(\n",
    "    sample_points, labels, test_size=0.30, random_state=0)"
   ]
  },
  {
   "cell_type": "code",
   "execution_count": 10,
   "metadata": {
    "_uuid": "69e17d40e644b5e72b2649d7b3be2271e438aa50"
   },
   "outputs": [],
   "source": [
    "count_vect = CountVectorizer(ngram_range=(1, 1))\n",
    "X_train = count_vect.fit_transform(X_train)\n",
    "X_test = count_vect.transform(X_test)"
   ]
  },
  {
   "cell_type": "markdown",
   "metadata": {
    "_uuid": "3440e1a185ba9478d68b24c00b34787fe4f0a506"
   },
   "source": [
    "## Brute force KNN"
   ]
  },
  {
   "cell_type": "code",
   "execution_count": 18,
   "metadata": {
    "_uuid": "6708133eb959a6a5338afb753c8f94c96fc3689f"
   },
   "outputs": [
    {
     "name": "stdout",
     "output_type": "stream",
     "text": [
      "[0.62598144 0.6124197  0.6152748  0.64285714 0.63642857 0.64357143\n",
      " 0.64428571 0.61972838 0.62973553 0.63688349]\n",
      "[0.63668808 0.61884368 0.64739472 0.65142857 0.65071429 0.66642857\n",
      " 0.66642857 0.63831308 0.63688349 0.65904217]\n",
      "[0.65596003 0.63811563 0.64668094 0.64857143 0.66571429 0.65928571\n",
      " 0.67214286 0.65546819 0.64403145 0.64188706]\n",
      "[0.67594575 0.66095646 0.65952891 0.65428571 0.67071429 0.65857143\n",
      " 0.67071429 0.66690493 0.64474625 0.65117941]\n",
      "[0.68451106 0.66595289 0.66666667 0.66       0.65857143 0.65571429\n",
      " 0.66285714 0.65189421 0.63330951 0.64974982]\n",
      "[0.69164882 0.66523911 0.6509636  0.66214286 0.65214286 0.65071429\n",
      " 0.66357143 0.66404575 0.64045747 0.64188706]\n",
      "[0.69379015 0.66167024 0.66095646 0.64928571 0.64785714 0.645\n",
      " 0.66571429 0.67476769 0.63902788 0.64045747]\n",
      "[0.69093505 0.66309779 0.65524625 0.64285714 0.65642857 0.65642857\n",
      " 0.67571429 0.67405289 0.64760543 0.64689064]\n",
      "[0.68950749 0.66880799 0.67309065 0.655      0.66714286 0.65571429\n",
      " 0.67642857 0.68263045 0.65046462 0.6547534 ]\n",
      "[0.70235546 0.67808708 0.67808708 0.65928571 0.67       0.66142857\n",
      " 0.68428571 0.69049321 0.64260186 0.66761973]\n",
      "[0.70449679 0.70021413 0.68308351 0.66571429 0.67785714 0.675\n",
      " 0.68142857 0.69692638 0.66118656 0.67190851]\n",
      "[0.70592434 0.70378301 0.69379015 0.67214286 0.69       0.67714286\n",
      " 0.69928571 0.70979271 0.66261615 0.67548249]\n",
      "[0.71520343 0.69593148 0.69878658 0.67071429 0.69357143 0.68071429\n",
      " 0.70071429 0.71765547 0.66047177 0.67476769]\n",
      "[0.71877231 0.70449679 0.7159172  0.68357143 0.69571429 0.68785714\n",
      " 0.70428571 0.7119371  0.67405289 0.67977127]\n",
      "[0.71948608 0.70949322 0.7130621  0.68714286 0.70642857 0.68714286\n",
      " 0.70142857 0.72408863 0.67476769 0.68763402]\n",
      "CPU times: user 3min 7s, sys: 22 s, total: 3min 29s\n",
      "Wall time: 3min 29s\n"
     ]
    }
   ],
   "source": [
    "%%time\n",
    "\n",
    "neighbors = list(range(20, 80, 4))\n",
    "cv_score = []\n",
    "for k in neighbors:\n",
    "    knn = KNeighborsClassifier(n_neighbors=k, algorithm='brute')\n",
    "    scores = cross_val_score(knn, X_train, Y_train, cv=10, scoring='accuracy')\n",
    "    cv_score.append(scores.mean())"
   ]
  },
  {
   "cell_type": "code",
   "execution_count": 17,
   "metadata": {},
   "outputs": [
    {
     "data": {
      "text/plain": [
       "[0.6307166193889457,\n",
       " 0.6472165223043481,\n",
       " 0.6527857592930258,\n",
       " 0.6613547428194751,\n",
       " 0.658922701636947,\n",
       " 0.6582813241960108,\n",
       " 0.6578527025851981,\n",
       " 0.6609256621340841,\n",
       " 0.6673540315946227,\n",
       " 0.6734244417981846,\n",
       " 0.6817815876436671,\n",
       " 0.6889960281320844,\n",
       " 0.6908530695314494,\n",
       " 0.6976376124973241,\n",
       " 0.701067460639375]"
      ]
     },
     "execution_count": 17,
     "metadata": {},
     "output_type": "execute_result"
    }
   ],
   "source": [
    "cv_score"
   ]
  },
  {
   "cell_type": "markdown",
   "metadata": {
    "_uuid": "c385ee503319c1ff353cde96281cf3b8458a1ffa"
   },
   "source": [
    "### Missclassification Error"
   ]
  },
  {
   "cell_type": "code",
   "execution_count": 19,
   "metadata": {
    "_uuid": "a4e882a4c5763f7f99f6c5f595f7a09987d4d1b3"
   },
   "outputs": [
    {
     "name": "stdout",
     "output_type": "stream",
     "text": [
      "_____________________________________________________________________________________________________\n",
      "Optimal number of neighbors:  76\n",
      "_____________________________________________________________________________________________________\n",
      "Missclassification error for each k values:  [0.369 0.353 0.347 0.339 0.341 0.342 0.342 0.339 0.333 0.327 0.318 0.311\n",
      " 0.309 0.302 0.299]\n",
      "_____________________________________________________________________________________________________\n"
     ]
    },
    {
     "data": {
      "image/png": "[encoded data removed]",
      "text/plain": [
       "<Figure size 432x288 with 1 Axes>"
      ]
     },
     "metadata": {
      "needs_background": "light"
     },
     "output_type": "display_data"
    }
   ],
   "source": [
    "MSE = [1 - x for x in cv_score]\n",
    "optimal_k = neighbors[MSE.index(min(MSE))]\n",
    "print(\"_\" * 101)\n",
    "print(\"Optimal number of neighbors: \", optimal_k)\n",
    "print(\"_\" * 101)\n",
    "print(\"Missclassification error for each k values: \", np.round(MSE, 3))\n",
    "print(\"_\" * 101)\n",
    "\n",
    "plt.plot(neighbors, MSE)\n",
    "plt.title(\"Number of neighbors and error\")\n",
    "plt.xlabel(\"Number of neighbors\")\n",
    "plt.ylabel(\"Missclassification error\")\n",
    "plt.show()"
   ]
  },
  {
   "cell_type": "markdown",
   "metadata": {
    "_uuid": "fb2cbb0de823ac0391113aa25217ba30dfd5d0d4"
   },
   "source": [
    "### Accuracy Score"
   ]
  },
  {
   "cell_type": "code",
   "execution_count": 20,
   "metadata": {
    "_uuid": "d0003ac07ce26e860dcfdf70a8eb5915cbe6b2f1"
   },
   "outputs": [
    {
     "name": "stdout",
     "output_type": "stream",
     "text": [
      "_____________________________________________________________________________________________________\n",
      "Training Accuracy:  0.7265\n",
      "Train Error:  0.27349999999999997\n",
      "Test Accuracy:  0.7065\n",
      "Test Error:  0.2935\n",
      "_____________________________________________________________________________________________________\n",
      "CPU times: user 18.7 s, sys: 2.26 s, total: 20.9 s\n",
      "Wall time: 20.9 s\n"
     ]
    }
   ],
   "source": [
    "%%time\n",
    "optimal_model = KNeighborsClassifier(n_neighbors=optimal_k)\n",
    "optimal_model.fit(X_train, Y_train)\n",
    "prediction = optimal_model.predict(X_test)\n",
    "\n",
    "training_accuracy = optimal_model.score(X_train, Y_train)\n",
    "training_error = 1 - training_accuracy\n",
    "test_accuracy = accuracy_score(Y_test, prediction)\n",
    "test_error = 1 - test_accuracy\n",
    "\n",
    "print(\"_\" * 101)\n",
    "print(\"Training Accuracy: \", training_accuracy)\n",
    "print(\"Train Error: \", training_error)\n",
    "print(\"Test Accuracy: \", test_accuracy)\n",
    "print(\"Test Error: \", test_error)\n",
    "print(\"_\" * 101)"
   ]
  },
  {
   "cell_type": "markdown",
   "metadata": {
    "_uuid": "dc0507584e70e0aa45be1028b6e90fabf744b630"
   },
   "source": [
    "### Classificatoin Report"
   ]
  },
  {
   "cell_type": "code",
   "execution_count": 21,
   "metadata": {
    "_uuid": "15cbf07356d1e0a5502aa67312064e95b264afb5",
    "scrolled": false
   },
   "outputs": [
    {
     "name": "stdout",
     "output_type": "stream",
     "text": [
      "_____________________________________________________________________________________________________\n",
      "Classification Report: \n",
      "\n",
      "              precision    recall  f1-score   support\n",
      "\n",
      "    negative       0.72      0.68      0.70      2997\n",
      "    positive       0.69      0.74      0.72      3003\n",
      "\n",
      "    accuracy                           0.71      6000\n",
      "   macro avg       0.71      0.71      0.71      6000\n",
      "weighted avg       0.71      0.71      0.71      6000\n",
      "\n",
      "_____________________________________________________________________________________________________\n"
     ]
    }
   ],
   "source": [
    "print(\"_\" * 101)\n",
    "print(\"Classification Report: \\n\")\n",
    "print(classification_report(Y_test, prediction))\n",
    "print(\"_\" * 101)"
   ]
  },
  {
   "cell_type": "markdown",
   "metadata": {
    "_uuid": "d9ac551764f95dae3639556bc3ea1102d5637050"
   },
   "source": [
    "###  Confusion Matrix"
   ]
  },
  {
   "cell_type": "code",
   "execution_count": 23,
   "metadata": {
    "_uuid": "b538b0ebfaee775b4f70f87254435b9e7071bc62"
   },
   "outputs": [
    {
     "data": {
      "image/png": "[encoded data removed]",
      "text/plain": [
       "<Figure size 432x288 with 2 Axes>"
      ]
     },
     "metadata": {
      "needs_background": "light"
     },
     "output_type": "display_data"
    },
    {
     "name": "stdout",
     "output_type": "stream",
     "text": [
      "_____________________________________________________________________________________________________\n"
     ]
    }
   ],
   "source": [
    "conf_matrix = confusion_matrix(Y_test, prediction)\n",
    "class_label = ['positive', 'negative']\n",
    "df_conf_matrix = pd.DataFrame(\n",
    "    conf_matrix, index=class_label, columns=class_label)\n",
    "sb.heatmap(df_conf_matrix, annot=True, fmt='d')\n",
    "plt.title(\"Confusion Matrix\")\n",
    "plt.xlabel(\"Predicted\")\n",
    "plt.ylabel(\"Actual\")\n",
    "plt.show()"
   ]
  },
  {
   "cell_type": "markdown",
   "metadata": {
    "_uuid": "fd65d2b00d4ee50ef086fa03783326ee4b7cadc0"
   },
   "source": [
    "## KD tree KNN"
   ]
  },
  {
   "cell_type": "code",
   "execution_count": null,
   "metadata": {
    "_uuid": "e7532d709312dd2dd0f71ef41a0233597cf3db4b"
   },
   "outputs": [],
   "source": [
    "%%time\n",
    "\n",
    "neighbors = list(range(20, 80, 4))\n",
    "cv_score = []\n",
    "for k in neighbors:\n",
    "    knn = KNeighborsClassifier(n_neighbors=k, algorithm='kd_tree')\n",
    "    scores = cross_val_score(knn, X_train, Y_train, cv=10, scoring='accuracy')\n",
    "    cv_score.append(scores.mean())"
   ]
  },
  {
   "cell_type": "markdown",
   "metadata": {
    "_uuid": "1b690f5071a3db348fd1a1044f819f759a5156ed"
   },
   "source": [
    "### Misclassification Error"
   ]
  },
  {
   "cell_type": "code",
   "execution_count": null,
   "metadata": {
    "_uuid": "4fc3a632fee92727aa48a37e6844978ee5e2eb6a"
   },
   "outputs": [],
   "source": [
    "MSE = [1 - x for x in cv_score]\n",
    "optimal_k = neighbors[MSE.index(min(MSE))]\n",
    "print(\"_\" * 101)\n",
    "print(\"Optimal number of neighbors: \", optimal_k)\n",
    "print(\"_\" * 101)\n",
    "print(\"Missclassification error for each k values: \", np.round(MSE, 3))\n",
    "print(\"_\" * 101)\n",
    "\n",
    "plt.plot(neighbors, MSE)\n",
    "#for xy in zip(neighbors, np.round(MSE, 3)):\n",
    "#    plt.annotate(\"%s %s\" %xy, xy=xy, textcoords='data')\n",
    "plt.title(\"Number of neighbors and error\")\n",
    "plt.xlabel(\"Number of neighbors\")\n",
    "plt.ylabel(\"Missclassification error\")\n",
    "plt.show()"
   ]
  },
  {
   "cell_type": "markdown",
   "metadata": {
    "_uuid": "69534c184e7de5d053ad73cbc1e15b64071e5fca"
   },
   "source": [
    "### Accuracy Score"
   ]
  },
  {
   "cell_type": "code",
   "execution_count": null,
   "metadata": {
    "_uuid": "4be5f7c7b1bf7765dad2c7576501115ecb1b267f"
   },
   "outputs": [],
   "source": [
    "%%time\n",
    "\n",
    "optimal_model = KNeighborsClassifier(\n",
    "    n_neighbors=optimal_k, algorithm='kd_tree')\n",
    "optimal_model.fit(X_train, Y_train)\n",
    "prediction = optimal_model.predict(X_test)\n",
    "\n",
    "training_accuracy = optimal_model.score(X_train, Y_train)\n",
    "training_error = 1 - training_accuracy\n",
    "test_accuracy = accuracy_score(Y_test, prediction)\n",
    "test_error = 1 - test_accuracy\n",
    "\n",
    "print(\"_\" * 101)\n",
    "print(\"Training Accuracy: \", training_accuracy)\n",
    "print(\"Train Error: \", training_error)\n",
    "print(\"Test Accuracy: \", test_accuracy)\n",
    "print(\"Test Error: \", test_error)\n",
    "print(\"_\" * 101)"
   ]
  },
  {
   "cell_type": "markdown",
   "metadata": {
    "_uuid": "4325d4315f79691fab956d6a88aeada730341c99"
   },
   "source": [
    "### Classification Report"
   ]
  },
  {
   "cell_type": "code",
   "execution_count": null,
   "metadata": {
    "_uuid": "49e2ba5c8704446033ae57ccdc9164901f5c9a46"
   },
   "outputs": [],
   "source": [
    "print(\"Classification Report: \\n\")\n",
    "print(classification_report(Y_test, prediction))"
   ]
  },
  {
   "cell_type": "markdown",
   "metadata": {
    "_uuid": "04495e147c50cee8a371dc91fb81d5b49934316c"
   },
   "source": [
    "### Confusion Matrix"
   ]
  },
  {
   "cell_type": "code",
   "execution_count": null,
   "metadata": {
    "_uuid": "142db13711afe3d0b6902a610cc67705fd576f80"
   },
   "outputs": [],
   "source": [
    "conf_matrix = confusion_matrix(Y_test, prediction)\n",
    "class_label = ['negative', 'positive']\n",
    "df_conf_matrix = pd.DataFrame(\n",
    "    conf_matrix, index=class_label, columns=class_label)\n",
    "sb.heatmap(df_conf_matrix, annot=True, fmt='d')\n",
    "plt.title(\"Confusion Matrix\")\n",
    "plt.xlabel(\"Predicted\")\n",
    "plt.ylabel(\"Actual\")\n",
    "plt.show()\n",
    "print(\"_\" * 101)"
   ]
  },
  {
   "cell_type": "markdown",
   "metadata": {
    "_uuid": "c959118e049bae2fbc59568eabcf73a1e80766b6",
    "collapsed": true
   },
   "source": [
    "# TF-IDF"
   ]
  },
  {
   "cell_type": "code",
   "execution_count": null,
   "metadata": {
    "_uuid": "6e9c45262a398ae7d5ff266e356d607f2d58f377"
   },
   "outputs": [],
   "source": [
    "# Splitting into train and test\n",
    "X_train, X_test, Y_train, Y_test = train_test_split(\n",
    "    sample_points, labels, test_size=0.30)\n",
    "print(X_train.shape, X_test.shape, Y_train.shape, Y_test.shape)"
   ]
  },
  {
   "cell_type": "code",
   "execution_count": null,
   "metadata": {
    "_uuid": "9cca6b6a303d42b951f1e3f0309132cb9523c39e"
   },
   "outputs": [],
   "source": [
    "# Initializing tfidf vectorizer\n",
    "tfidf_vect = TfidfVectorizer(ngram_range=(1, 1))\n",
    "\n",
    "# Fitting for tfidf vectorization\n",
    "X_train = tfidf_vect.fit_transform(X_train)\n",
    "X_test = tfidf_vect.transform(X_test)\n",
    "\n",
    "print(X_train.shape, X_test.shape, Y_train.shape, Y_test.shape)"
   ]
  },
  {
   "cell_type": "markdown",
   "metadata": {
    "_uuid": "e47b9d455b938b036d5244e43b4c1aec4513f628"
   },
   "source": [
    "## Brute force KNN"
   ]
  },
  {
   "cell_type": "code",
   "execution_count": null,
   "metadata": {
    "_uuid": "485935491c15e99d7cc4b2b970b0dc9075ec428c"
   },
   "outputs": [],
   "source": [
    "%%time\n",
    "\n",
    "neighbors = list(range(20, 80, 4))\n",
    "cv_score = []\n",
    "for k in neighbors:\n",
    "    knn = KNeighborsClassifier(n_neighbors=k, algorithm='brute')\n",
    "    scores = cross_val_score(knn, X_train, Y_train, cv=10, scoring='accuracy')\n",
    "    cv_score.append(scores.mean())"
   ]
  },
  {
   "cell_type": "markdown",
   "metadata": {
    "_uuid": "580c723557bcabbeaf1a7834e3ecc528231ec380"
   },
   "source": [
    "### Missclassification Error"
   ]
  },
  {
   "cell_type": "code",
   "execution_count": null,
   "metadata": {
    "_uuid": "025968450b31e22ea084673ced61c374385a65b8"
   },
   "outputs": [],
   "source": [
    "MSE = [1 - x for x in cv_score]\n",
    "optimal_k = neighbors[MSE.index(min(MSE))]\n",
    "print(\"_\" * 101)\n",
    "print(\"Optimal number of neighbors: \", optimal_k)\n",
    "print(\"_\" * 101)\n",
    "print(\"Missclassification error for each k values: \", np.round(MSE, 3))\n",
    "print(\"_\" * 101)\n",
    "\n",
    "plt.plot(neighbors, MSE)\n",
    "#for xy in zip(neighbors, np.round(MSE, 3)):\n",
    "#    plt.annotate(\"%s %s\" %xy, xy=xy, textcoords='data')\n",
    "plt.title(\"Number of neighbors and error\")\n",
    "plt.xlabel(\"Number of neighbors\")\n",
    "plt.ylabel(\"Missclassification error\")\n",
    "plt.show()"
   ]
  },
  {
   "cell_type": "markdown",
   "metadata": {
    "_uuid": "484bfa60110181d593e4c4ddfe591410839d97c8"
   },
   "source": [
    "### Accuracy Score"
   ]
  },
  {
   "cell_type": "code",
   "execution_count": null,
   "metadata": {
    "_uuid": "03950783dfefafc81e2eeba959149226740e8e0d"
   },
   "outputs": [],
   "source": [
    "%%time\n",
    "\n",
    "optimal_model = KNeighborsClassifier(\n",
    "    n_neighbors=optimal_k, algorithm='kd_tree')\n",
    "optimal_model.fit(X_train, Y_train)\n",
    "prediction = optimal_model.predict(X_test)\n",
    "\n",
    "training_accuracy = optimal_model.score(X_train, Y_train)\n",
    "training_error = 1 - training_accuracy\n",
    "test_accuracy = accuracy_score(Y_test, prediction)\n",
    "test_error = 1 - test_accuracy\n",
    "\n",
    "print(\"_\" * 101)\n",
    "print(\"Training Accuracy: \", training_accuracy)\n",
    "print(\"Train Error: \", training_error)\n",
    "print(\"Test Accuracy: \", test_accuracy)\n",
    "print(\"Test Error: \", test_error)\n",
    "print(\"_\" * 101)"
   ]
  },
  {
   "cell_type": "markdown",
   "metadata": {
    "_uuid": "fad40f06c8556701472d54a78a0f7e0088c6a502"
   },
   "source": [
    "### Classificatoin Report"
   ]
  },
  {
   "cell_type": "code",
   "execution_count": null,
   "metadata": {
    "_uuid": "78d49e8c0e96a24550ba2e902d0616a64ac08e7a",
    "scrolled": true
   },
   "outputs": [],
   "source": [
    "print(\"_\" * 101)\n",
    "print(\"Classification Report: \\n\")\n",
    "print(classification_report(Y_test, prediction))\n",
    "print(\"_\" * 101)"
   ]
  },
  {
   "cell_type": "markdown",
   "metadata": {
    "_uuid": "2ea14d2bf85c3c174b181f94f699a88fc2f2a567"
   },
   "source": [
    "### Confusion Matrix"
   ]
  },
  {
   "cell_type": "code",
   "execution_count": null,
   "metadata": {
    "_uuid": "b2c605a96220fbcc51a27d0556bbc8c29a3d52ab"
   },
   "outputs": [],
   "source": [
    "conf_matrix = confusion_matrix(Y_test, prediction)\n",
    "class_label = ['negative', 'positive']\n",
    "df_conf_matrix = pd.DataFrame(\n",
    "    conf_matrix, index=class_label, columns=class_label)\n",
    "sb.heatmap(df_conf_matrix, annot=True, fmt='d')\n",
    "plt.title(\"Confusion Matrix\")\n",
    "plt.xlabel(\"Predicted\")\n",
    "plt.ylabel(\"Actual\")\n",
    "plt.show()"
   ]
  },
  {
   "cell_type": "markdown",
   "metadata": {
    "_uuid": "10052bc9b4ce0a371d476c9203e488efa1590660"
   },
   "source": [
    "## KD tree KNN"
   ]
  },
  {
   "cell_type": "code",
   "execution_count": null,
   "metadata": {
    "_uuid": "a69d088a2d0b4a7d520e239f32c749023ea8c490"
   },
   "outputs": [],
   "source": [
    "%%time\n",
    "\n",
    "neighbors = list(range(20, 80, 4))\n",
    "cv_score = []\n",
    "for k in neighbors:\n",
    "    knn = KNeighborsClassifier(n_neighbors=k, algorithm='kd_tree')\n",
    "    scores = cross_val_score(knn, X_train, Y_train, cv=10, scoring='accuracy')\n",
    "    cv_score.append(scores.mean())"
   ]
  },
  {
   "cell_type": "markdown",
   "metadata": {
    "_uuid": "1a4ecc37d546491852a127a852db9a2e94eaee9b"
   },
   "source": [
    "### Misclassification Error"
   ]
  },
  {
   "cell_type": "code",
   "execution_count": null,
   "metadata": {
    "_uuid": "c2474293c6be42a2e7af4d7d8192e763baec6fdc"
   },
   "outputs": [],
   "source": [
    "MSE = [1 - x for x in cv_score]\n",
    "optimal_k = neighbors[MSE.index(min(MSE))]\n",
    "print(\"_\" * 101)\n",
    "print(\"Optimal number of neighbors: \", optimal_k)\n",
    "print(\"_\" * 101)\n",
    "print(\"Missclassification error for each k values: \", np.round(MSE, 3))\n",
    "print(\"_\" * 101)\n",
    "\n",
    "plt.plot(neighbors, MSE)\n",
    "#for xy in zip(neighbors, np.round(MSE, 3)):\n",
    "#    plt.annotate(\"%s %s\" %xy, xy=xy, textcoords='data')\n",
    "plt.title(\"Number of neighbors and error\")\n",
    "plt.xlabel(\"Number of neighbors\")\n",
    "plt.ylabel(\"Missclassification error\")\n",
    "plt.show()"
   ]
  },
  {
   "cell_type": "markdown",
   "metadata": {
    "_uuid": "f6a656aeb78ceeba7ea9dcb7cca44297153867c3"
   },
   "source": [
    "### Accuracy Score"
   ]
  },
  {
   "cell_type": "code",
   "execution_count": null,
   "metadata": {
    "_uuid": "ad7ffcf0c1f54a39edd2855f1f5dc2c29348b120"
   },
   "outputs": [],
   "source": [
    "%%time\n",
    "\n",
    "optimal_model = KNeighborsClassifier(\n",
    "    n_neighbors=optimal_k, algorithm='kd_tree')\n",
    "optimal_model.fit(X_train, Y_train)\n",
    "prediction = optimal_model.predict(X_test)\n",
    "\n",
    "training_accuracy = optimal_model.score(X_train, Y_train)\n",
    "training_error = 1 - training_accuracy\n",
    "test_accuracy = accuracy_score(Y_test, prediction)\n",
    "test_error = 1 - test_accuracy\n",
    "\n",
    "print(\"_\" * 101)\n",
    "print(\"Training Accuracy: \", training_accuracy)\n",
    "print(\"Train Error: \", training_error)\n",
    "print(\"Test Accuracy: \", test_accuracy)\n",
    "print(\"Test Error: \", test_error)\n",
    "print(\"_\" * 101)"
   ]
  },
  {
   "cell_type": "markdown",
   "metadata": {
    "_uuid": "079859ac448209646b19cc0ad9ebe264c0f9a0a0"
   },
   "source": [
    "### Classificatoin Report"
   ]
  },
  {
   "cell_type": "code",
   "execution_count": null,
   "metadata": {
    "_uuid": "7ea1469731d38edab9d03dcccf54d888b8f0b815"
   },
   "outputs": [],
   "source": [
    "print(\"_\" * 101)\n",
    "print(\"Classification Report: \\n\")\n",
    "print(classification_report(Y_test, prediction))\n",
    "print(\"_\" * 101)"
   ]
  },
  {
   "cell_type": "markdown",
   "metadata": {
    "_uuid": "cada0cb511cb081cb1811c8672a4eb726d3c948a"
   },
   "source": [
    "### Confusion Matrix"
   ]
  },
  {
   "cell_type": "code",
   "execution_count": null,
   "metadata": {
    "_uuid": "3c9a4e3cddf54df68f2f46b967f148e6f4afa372"
   },
   "outputs": [],
   "source": [
    "conf_matrix = confusion_matrix(Y_test, prediction)\n",
    "class_label = ['negative', 'positive']\n",
    "df_conf_matrix = pd.DataFrame(\n",
    "    conf_matrix, index=class_label, columns=class_label)\n",
    "sb.heatmap(df_conf_matrix, annot=True, fmt='d')\n",
    "plt.title(\"Confusion Matrix\")\n",
    "plt.xlabel(\"Predicted\")\n",
    "plt.ylabel(\"Actual\")\n",
    "plt.show()\n",
    "print(\"_\" * 101)"
   ]
  },
  {
   "cell_type": "markdown",
   "metadata": {
    "_uuid": "3aa23601604e06ba06f8524d4965cb83b0a2a34e"
   },
   "source": [
    "# Word2Vec"
   ]
  },
  {
   "cell_type": "code",
   "execution_count": null,
   "metadata": {
    "_uuid": "283e8a6fa2d030bb26e776125f319304a0985c2e"
   },
   "outputs": [],
   "source": [
    "sample_points = total_points['Text']\n",
    "#labels = total_points['Score']\n",
    "X_train, X_test, Y_train, Y_test = train_test_split(\n",
    "    sample_points, labels, test_size=0.3, random_state=0)"
   ]
  },
  {
   "cell_type": "code",
   "execution_count": null,
   "metadata": {
    "_uuid": "77920ac603e7d03d3a9a37945a4afff1959fb9e2"
   },
   "outputs": [],
   "source": [
    "import re\n",
    "\n",
    "def cleanhtml(sentence):\n",
    "    cleantext = re.sub('<.*>', '', sentence)\n",
    "    return cleantext\n",
    "\n",
    "def cleanpunc(sentence):\n",
    "    cleaned = re.sub(r'[?|!|\\'|#|@|.|,|)|(|\\|/]', r'', sentence)\n",
    "    return cleaned"
   ]
  },
  {
   "cell_type": "code",
   "execution_count": null,
   "metadata": {
    "_uuid": "a420c5f96f5e18d541fd63e4de2dab558f4208a5"
   },
   "outputs": [],
   "source": [
    "train_sent_list = []\n",
    "for sent in X_train:\n",
    "    train_sentence = []\n",
    "    sent = cleanhtml(sent)\n",
    "    for w in sent.split():\n",
    "        for cleaned_words in cleanpunc(w).split():\n",
    "            if (cleaned_words.isalpha()):\n",
    "                train_sentence.append(cleaned_words.lower())\n",
    "            else:\n",
    "                continue\n",
    "    train_sent_list.append(train_sentence)"
   ]
  },
  {
   "cell_type": "code",
   "execution_count": null,
   "metadata": {
    "_uuid": "563a4f8fcc8e40f53c30a936411c2fa19d1db779"
   },
   "outputs": [],
   "source": [
    "test_sent_list = []\n",
    "for sent in X_test:\n",
    "    train_sentence = []\n",
    "    sent = cleanhtml(sent)\n",
    "    for w in sent.split():\n",
    "        for cleaned_words in cleanpunc(w).split():\n",
    "            if (cleaned_words.isalpha()):\n",
    "                train_sentence.append(cleaned_words.lower())\n",
    "            else:\n",
    "                continue\n",
    "    test_sent_list.append(train_sentence)"
   ]
  },
  {
   "cell_type": "code",
   "execution_count": null,
   "metadata": {
    "_uuid": "5ce98b64a7a8b8d454026804b7af6a5996d3a354"
   },
   "outputs": [],
   "source": [
    "train_w2v_model = gensim.models.Word2Vec(\n",
    "    train_sent_list, min_count=5, size=50, workers=4)\n",
    "train_w2v_words = train_w2v_model[train_w2v_model.wv.vocab]"
   ]
  },
  {
   "cell_type": "code",
   "execution_count": null,
   "metadata": {
    "_uuid": "b17af6d9cb9605f612e3140f940c71975e4f8d62"
   },
   "outputs": [],
   "source": [
    "test_w2v_model = gensim.models.Word2Vec(\n",
    "    test_sent_list, min_count=5, size=50, workers=4)\n",
    "test_w2v_words = test_w2v_model[test_w2v_model.wv.vocab]"
   ]
  },
  {
   "cell_type": "code",
   "execution_count": null,
   "metadata": {
    "_uuid": "50d6eaa70c9a245c79c573b92a205a722f60f506"
   },
   "outputs": [],
   "source": [
    "print(train_w2v_words.shape, test_w2v_words.shape)"
   ]
  },
  {
   "cell_type": "markdown",
   "metadata": {
    "_uuid": "6a3e08f9095a0224cacb0ba202824fbcc83e19e3"
   },
   "source": [
    "# Avg Word2Vec"
   ]
  },
  {
   "cell_type": "code",
   "execution_count": null,
   "metadata": {
    "_uuid": "f784c0b140212897a712001dc707c9976b585185"
   },
   "outputs": [],
   "source": [
    "import numpy as np\n",
    "train_vectors = []\n",
    "for sent in train_sent_list:\n",
    "    sent_vec = np.zeros(50)\n",
    "    cnt_words = 0\n",
    "    for word in sent:\n",
    "        try:\n",
    "            vec = train_w2v_model.wv[word]\n",
    "            sent_vec += vec\n",
    "            cnt_words += 1\n",
    "        except:\n",
    "            pass\n",
    "    sent_vec /= cnt_words\n",
    "    train_vectors.append(sent_vec)\n",
    "train_vectors = np.nan_to_num(train_vectors)"
   ]
  },
  {
   "cell_type": "code",
   "execution_count": null,
   "metadata": {
    "_uuid": "0398feee0b3a09d37694df42d313cc15ca0018ce"
   },
   "outputs": [],
   "source": [
    "test_vectors = []\n",
    "for sent in test_sent_list:\n",
    "    sent_vec = np.zeros(50)\n",
    "    cnt_words = 0\n",
    "    for word in sent:\n",
    "        try:\n",
    "            vec = test_w2v_model.wv[word]\n",
    "            sent_vec += vec\n",
    "            cnt_words += 1\n",
    "        except:\n",
    "            pass\n",
    "    sent_vec /= cnt_words\n",
    "    test_vectors.append(sent_vec)\n",
    "test_vectors = np.nan_to_num(test_vectors)"
   ]
  },
  {
   "cell_type": "code",
   "execution_count": null,
   "metadata": {
    "_uuid": "85c0b82c0e285d06c3710c4e1ccba064742730eb"
   },
   "outputs": [],
   "source": [
    "X_train = train_vectors\n",
    "X_test = test_vectors"
   ]
  },
  {
   "cell_type": "markdown",
   "metadata": {
    "_uuid": "249136a395f414bd0b26617f62efddafeb5243c1"
   },
   "source": [
    "## Brute force KNN"
   ]
  },
  {
   "cell_type": "code",
   "execution_count": null,
   "metadata": {
    "_uuid": "7f8f645cd10a0a2ba5b4ef0dcafb4a3a8132c4cf"
   },
   "outputs": [],
   "source": [
    "%%time\n",
    "\n",
    "neighbors = list(range(20, 50, 2))\n",
    "cv_score = []\n",
    "for k in neighbors:\n",
    "    knn = KNeighborsClassifier(n_neighbors=k, algorithm='brute')\n",
    "    scores = cross_val_score(knn, X_train, Y_train, cv=10, scoring='accuracy')\n",
    "    cv_score.append(scores.mean())"
   ]
  },
  {
   "cell_type": "markdown",
   "metadata": {
    "_uuid": "0188c31e8748482588d660432242347d7ba49869"
   },
   "source": [
    "### Misclassification Error"
   ]
  },
  {
   "cell_type": "code",
   "execution_count": null,
   "metadata": {
    "_uuid": "39bee90abcad9485364b24c57d8018c3f78564b8"
   },
   "outputs": [],
   "source": [
    "MSE = [1 - x for x in cv_score]\n",
    "optimal_k = neighbors[MSE.index(min(MSE))]\n",
    "print(\"_\" * 101)\n",
    "print(\"Optimal number of neighbors: \", optimal_k)\n",
    "print(\"_\" * 101)\n",
    "print(\"Missclassification error for each k values: \", np.round(MSE, 3))\n",
    "print(\"_\" * 101)\n",
    "\n",
    "plt.plot(neighbors, MSE)\n",
    "#for xy in zip(neighbors, np.round(MSE, 3)):\n",
    "#    plt.annotate(\"%s %s\" %xy, xy=xy, textcoords='data')\n",
    "plt.title(\"Number of neighbors and error\")\n",
    "plt.xlabel(\"Number of neighbors\")\n",
    "plt.ylabel(\"Missclassification error\")\n",
    "plt.show()"
   ]
  },
  {
   "cell_type": "markdown",
   "metadata": {
    "_uuid": "a729649f8016cbcd3711ea81a04ed7ed7ce70e04"
   },
   "source": [
    "### Accuracy Score"
   ]
  },
  {
   "cell_type": "code",
   "execution_count": null,
   "metadata": {
    "_uuid": "55d7f5166e7abdead5fc7f1fc7fde37d982d4674"
   },
   "outputs": [],
   "source": [
    "%%time\n",
    "\n",
    "optimal_model = KNeighborsClassifier(\n",
    "    n_neighbors=optimal_k, algorithm='kd_tree')\n",
    "optimal_model.fit(X_train, Y_train)\n",
    "prediction = optimal_model.predict(X_test)\n",
    "\n",
    "training_accuracy = optimal_model.score(X_train, Y_train)\n",
    "training_error = 1 - training_accuracy\n",
    "test_accuracy = accuracy_score(Y_test, prediction)\n",
    "test_error = 1 - test_accuracy\n",
    "\n",
    "print(\"_\" * 101)\n",
    "print(\"Training Accuracy: \", training_accuracy)\n",
    "print(\"Train Error: \", training_error)\n",
    "print(\"Test Accuracy: \", test_accuracy)\n",
    "print(\"Test Error: \", test_error)\n",
    "print(\"_\" * 101)"
   ]
  },
  {
   "cell_type": "markdown",
   "metadata": {
    "_uuid": "90fff5e2685381b8edfd6ee395d98d5016497373"
   },
   "source": [
    "### Classification Report"
   ]
  },
  {
   "cell_type": "code",
   "execution_count": null,
   "metadata": {
    "_uuid": "1bea4eff9fb4f6becc5de072c1aeee8460ba3a4b"
   },
   "outputs": [],
   "source": [
    "print(\"_\" * 101)\n",
    "print(\"Classification Report: \\n\")\n",
    "print(classification_report(Y_test, prediction))\n",
    "print(\"_\" * 101)"
   ]
  },
  {
   "cell_type": "markdown",
   "metadata": {
    "_uuid": "ff87d3e407dab24c1234cb8c3214eafe634ed852"
   },
   "source": [
    "### Confusion Matrix"
   ]
  },
  {
   "cell_type": "code",
   "execution_count": null,
   "metadata": {
    "_uuid": "cd40661571cc698d11e942c0102c517a2bd5abf9"
   },
   "outputs": [],
   "source": [
    "conf_matrix = confusion_matrix(Y_test, prediction)\n",
    "class_label = ['negative', 'positive']\n",
    "df_conf_matrix = pd.DataFrame(\n",
    "    conf_matrix, index=class_label, columns=class_label)\n",
    "sb.heatmap(df_conf_matrix, annot=True, fmt='d')\n",
    "plt.title(\"Confusion Matrix\")\n",
    "plt.xlabel(\"Predicted\")\n",
    "plt.ylabel(\"Actual\")\n",
    "plt.show()\n",
    "print(\"_\" * 101)"
   ]
  },
  {
   "cell_type": "markdown",
   "metadata": {
    "_uuid": "7dca255581f3e48a8e0acc9d52f9d14bcaa7d256"
   },
   "source": [
    "- After trying out lot of hyper parameter tuning, model is always overfitting. It clearly indicates that, the model Brute Force KNN is bias towards Average Word2Vec in our Amazon Fine Food Reviews data set."
   ]
  },
  {
   "cell_type": "markdown",
   "metadata": {
    "_uuid": "47b8d7d352318dc99bd3090702124facbcec8611"
   },
   "source": [
    "## KD tree KNN"
   ]
  },
  {
   "cell_type": "code",
   "execution_count": null,
   "metadata": {
    "_uuid": "dde9bbe0a6ea5bb7a620854820ab9f8d54cd367e"
   },
   "outputs": [],
   "source": [
    "%%time\n",
    "\n",
    "neighbors = list(range(20, 50, 4))\n",
    "cv_score = []\n",
    "for k in neighbors:\n",
    "    knn = KNeighborsClassifier(n_neighbors=k, algorithm='kd_tree')\n",
    "    scores = cross_val_score(knn, X_train, Y_train, cv=10, scoring='accuracy')\n",
    "    cv_score.append(scores.mean())"
   ]
  },
  {
   "cell_type": "markdown",
   "metadata": {
    "_uuid": "0d59814f8b2f351e187ad28de285a5e94ab2676b"
   },
   "source": [
    "### Misclassification Error"
   ]
  },
  {
   "cell_type": "code",
   "execution_count": null,
   "metadata": {
    "_uuid": "9bf10ca7ec26adb7f6b45c0dcd72b732a274c7a0"
   },
   "outputs": [],
   "source": [
    "MSE = [1 - x for x in cv_score]\n",
    "optimal_k = neighbors[MSE.index(min(MSE))]\n",
    "print(\"_\" * 101)\n",
    "print(\"Optimal number of neighbors: \", optimal_k)\n",
    "print(\"_\" * 101)\n",
    "print(\"Missclassification error for each k values: \", np.round(MSE, 3))\n",
    "print(\"_\" * 101)\n",
    "\n",
    "plt.plot(neighbors, MSE)\n",
    "#for xy in zip(neighbors, np.round(MSE, 3)):\n",
    "#    plt.annotate(\"%s %s\" %xy, xy=xy, textcoords='data')\n",
    "plt.title(\"Number of neighbors and error\")\n",
    "plt.xlabel(\"Number of neighbors\")\n",
    "plt.ylabel(\"Missclassification error\")\n",
    "plt.show()"
   ]
  },
  {
   "cell_type": "markdown",
   "metadata": {
    "_uuid": "214c71cc1e87176a8508dc89392d239ec20d5937"
   },
   "source": [
    "### Accuracy Score"
   ]
  },
  {
   "cell_type": "code",
   "execution_count": null,
   "metadata": {
    "_uuid": "a36af6b06110b3a4a154829601b7430354b709bb"
   },
   "outputs": [],
   "source": [
    "%%time\n",
    "\n",
    "optimal_model = KNeighborsClassifier(\n",
    "    n_neighbors=optimal_k, algorithm='kd_tree')\n",
    "optimal_model.fit(X_train, Y_train)\n",
    "prediction = optimal_model.predict(X_test)\n",
    "\n",
    "training_accuracy = optimal_model.score(X_train, Y_train)\n",
    "training_error = 1 - training_accuracy\n",
    "test_accuracy = accuracy_score(Y_test, prediction)\n",
    "test_error = 1 - test_accuracy\n",
    "\n",
    "print(\"_\" * 101)\n",
    "print(\"Training Accuracy: \", training_accuracy)\n",
    "print(\"Train Error: \", training_error)\n",
    "print(\"Test Accuracy: \", test_accuracy)\n",
    "print(\"Test Error: \", test_error)\n",
    "print(\"_\" * 101)"
   ]
  },
  {
   "cell_type": "markdown",
   "metadata": {
    "_uuid": "7f9d7260f1a7564663bca0c3fa77e1d069d4051b"
   },
   "source": [
    "### Classification Report"
   ]
  },
  {
   "cell_type": "code",
   "execution_count": null,
   "metadata": {
    "_uuid": "2a45488026047878cdcfcf3255f99ecbe28bb06a"
   },
   "outputs": [],
   "source": [
    "print(\"_\" * 101)\n",
    "print(\"Classification Report: \\n\")\n",
    "print(classification_report(Y_test, prediction))\n",
    "print(\"_\" * 101)"
   ]
  },
  {
   "cell_type": "markdown",
   "metadata": {
    "_uuid": "917748741cc7b5dd4c1c179103ae1d1b54afdf45"
   },
   "source": [
    "### Confusion Matrix"
   ]
  },
  {
   "cell_type": "code",
   "execution_count": null,
   "metadata": {
    "_uuid": "3597a2f641571b9b39cef44423e3e4f09480fdbb",
    "scrolled": false
   },
   "outputs": [],
   "source": [
    "conf_matrix = confusion_matrix(Y_test, prediction)\n",
    "class_label = ['negative', 'positive']\n",
    "df_conf_matrix = pd.DataFrame(\n",
    "    conf_matrix, index=class_label, columns=class_label)\n",
    "sb.heatmap(df_conf_matrix, annot=True, fmt='d')\n",
    "plt.title(\"Confusion Matrix\")\n",
    "plt.xlabel(\"Predicted\")\n",
    "plt.ylabel(\"Actual\")\n",
    "plt.show()\n",
    "print(\"_\" * 101)"
   ]
  },
  {
   "cell_type": "markdown",
   "metadata": {
    "_uuid": "217fce2b95a5b573ee818ee40d9f675bc4156b40"
   },
   "source": [
    "- After trying out lot of hyper parameter tuning, model is always overfitting. It clearly indicates that, the model  KD Tree KNN is bias towards Average Word2Vec in our Amazon Fine Food Reviews data set."
   ]
  },
  {
   "cell_type": "markdown",
   "metadata": {
    "_uuid": "85e15bb31d6be43e1e65e00270bf6c82f58cfafa"
   },
   "source": [
    "# TFIDF-Word2Vec"
   ]
  },
  {
   "cell_type": "code",
   "execution_count": null,
   "metadata": {
    "_uuid": "85eb1633b1a0baa666327770e7ceba1471cf6584"
   },
   "outputs": [],
   "source": [
    "X_train, X_test, Y_train, Y_test = train_test_split(\n",
    "    sample_points, labels, test_size=0.3)\n",
    "print(X_train.shape, X_test.shape, Y_train.shape, Y_test.shape)"
   ]
  },
  {
   "cell_type": "code",
   "execution_count": null,
   "metadata": {
    "_uuid": "aa79ac48d701f7006eb33a0a921b8b5b46816379"
   },
   "outputs": [],
   "source": [
    "tfidf_vect = TfidfVectorizer(ngram_range=(1, 1))\n",
    "train_tfidf_w2v = tfidf_vect.fit_transform(X_train)\n",
    "test_tfidf_w2v = tfidf_vect.transform(X_test)\n",
    "print(train_tfidf_w2v.shape, test_tfidf_w2v.shape)"
   ]
  },
  {
   "cell_type": "code",
   "execution_count": null,
   "metadata": {
    "_uuid": "4559caacb0ee73335b6d07676c35b0bdcccfaaa4"
   },
   "outputs": [],
   "source": [
    "%%time\n",
    "\n",
    "tfidf_feat = tfidf_vect.get_feature_names()\n",
    "train_tfidf_w2v_vectors = []\n",
    "row = 0\n",
    "for sent in train_sent_list:\n",
    "    sent_vec = np.zeros(50)\n",
    "    weight_sum = 0\n",
    "    for word in sent:\n",
    "        if word in train_w2v_words:\n",
    "            vec = train_w2v_model.wv[word]\n",
    "            tf_idf = train_tfidf_w2v[row, tfidf_feat.index(word)]\n",
    "            sent_vec += (vec * tf_idf)\n",
    "            weight_sum += tf_idf\n",
    "    if weight_sum != 0:\n",
    "        sent_vec /= weight_sum\n",
    "    train_tfidf_w2v_vectors.append(sent_vec)\n",
    "    row += 1"
   ]
  },
  {
   "cell_type": "code",
   "execution_count": null,
   "metadata": {
    "_uuid": "f94d70f65205ec55364477cb71d1535b33e45ed2"
   },
   "outputs": [],
   "source": [
    "%%time\n",
    "\n",
    "tfidf_feat = tfidf_vect.get_feature_names()\n",
    "test_tfidf_w2v_vectors = []\n",
    "row = 0\n",
    "for sent in test_sent_list:\n",
    "    sent_vec = np.zeros(50)\n",
    "    weighted_sum = 0\n",
    "    for word in sent:\n",
    "        if word in test_w2v_words:\n",
    "            vec = test_w2v_model[word]\n",
    "            tf_idf = test_tfidf_w2v[row, tfidf_feat.index(word)]\n",
    "            sent_vec += (vec * tf_idf)\n",
    "            weight_sum += tf_idf\n",
    "    if weight_sum != 0:\n",
    "        sent_vec /= weight_sum\n",
    "    test_tfidf_w2v_vectors.append(sent_vec)\n",
    "    row += 1"
   ]
  },
  {
   "cell_type": "code",
   "execution_count": null,
   "metadata": {
    "_uuid": "5b41c6785ce164832cf5669eb987d9ed791d60a4"
   },
   "outputs": [],
   "source": [
    "X_train = train_tfidf_w2v_vectors\n",
    "X_test = test_tfidf_w2v_vectors"
   ]
  },
  {
   "cell_type": "markdown",
   "metadata": {
    "_uuid": "ddf4f4311ac4f9d0290143ce48804feee38f61a5"
   },
   "source": [
    "## Brute force KNN"
   ]
  },
  {
   "cell_type": "code",
   "execution_count": null,
   "metadata": {
    "_uuid": "b73a7bef9bb3f54cce3d665338617a95aee7c4d7"
   },
   "outputs": [],
   "source": [
    "%%time\n",
    "\n",
    "neighbors = list(range(1, 50, 2))\n",
    "cv_score = []\n",
    "for k in neighbors:\n",
    "    knn = KNeighborsClassifier(n_neighbors=k, algorithm='brute')\n",
    "    scores = cross_val_score(knn, X_train, Y_train, cv=10, scoring='accuracy')\n",
    "    cv_score.append(scores.mean())"
   ]
  },
  {
   "cell_type": "markdown",
   "metadata": {
    "_uuid": "18a61eccf406f46b45a685e69662c7cdc8330fdb"
   },
   "source": [
    "### Misclassification Error"
   ]
  },
  {
   "cell_type": "code",
   "execution_count": null,
   "metadata": {
    "_uuid": "4a4347c9a172d41818778903b4dc45dbb7b4b227"
   },
   "outputs": [],
   "source": [
    "MSE = [1 - x for x in cv_score]\n",
    "optimal_k = neighbors[MSE.index(min(MSE))]\n",
    "print(\"_\" * 101)\n",
    "print(\"Optimal number of neighbors: \", optimal_k)\n",
    "print(\"_\" * 101)\n",
    "print(\"Missclassification error for each k values: \", np.round(MSE, 3))\n",
    "print(\"_\" * 101)\n",
    "\n",
    "plt.plot(neighbors, MSE)\n",
    "#for xy in zip(neighbors, np.round(MSE, 3)):\n",
    "#    plt.annotate(\"%s %s\" %xy, xy=xy, textcoords='data')\n",
    "plt.title(\"Number of neighbors and error\")\n",
    "plt.xlabel(\"Number of neighbors\")\n",
    "plt.ylabel(\"Missclassification error\")\n",
    "plt.show()"
   ]
  },
  {
   "cell_type": "markdown",
   "metadata": {
    "_uuid": "f02a875b0185a31c478a614515e0a1b276d0ab2d"
   },
   "source": [
    "### Accuracy Score"
   ]
  },
  {
   "cell_type": "code",
   "execution_count": null,
   "metadata": {
    "_uuid": "cf71467d324d32d126df5be3505543422b7f8b21"
   },
   "outputs": [],
   "source": [
    "%%time\n",
    "\n",
    "optimal_model = KNeighborsClassifier(\n",
    "    n_neighbors=optimal_k, algorithm='kd_tree')\n",
    "optimal_model.fit(X_train, Y_train)\n",
    "prediction = optimal_model.predict(X_test)\n",
    "\n",
    "training_accuracy = optimal_model.score(X_train, Y_train)\n",
    "training_error = 1 - training_accuracy\n",
    "test_accuracy = accuracy_score(Y_test, prediction)\n",
    "test_error = 1 - test_accuracy\n",
    "\n",
    "print(\"_\" * 101)\n",
    "print(\"Training Accuracy: \", training_accuracy)\n",
    "print(\"Train Error: \", training_error)\n",
    "print(\"Test Accuracy: \", test_accuracy)\n",
    "print(\"Test Error: \", test_error)\n",
    "print(\"_\" * 101)"
   ]
  },
  {
   "cell_type": "markdown",
   "metadata": {
    "_uuid": "7d684dbe8f0cbeb1e37ad82006c382f9ca6bee92"
   },
   "source": [
    "### Classification Report"
   ]
  },
  {
   "cell_type": "code",
   "execution_count": null,
   "metadata": {
    "_uuid": "79468700048234f393da18bd215c69f31f9d8852"
   },
   "outputs": [],
   "source": [
    "print(\"_\" * 101)\n",
    "print(\"Classification Report: \\n\")\n",
    "print(classification_report(Y_test, prediction))\n",
    "print(\"_\" * 101)"
   ]
  },
  {
   "cell_type": "markdown",
   "metadata": {
    "_uuid": "d67d1ebf088dfdb69cef50193bc400c40f69dbf1"
   },
   "source": [
    "### Confusion Matrix"
   ]
  },
  {
   "cell_type": "code",
   "execution_count": null,
   "metadata": {
    "_uuid": "0ac5c46e2e9c6efee3b6a871bfc9f231a2503b3e",
    "scrolled": true
   },
   "outputs": [],
   "source": [
    "conf_matrix = confusion_matrix(Y_test, prediction)\n",
    "class_label = ['negative', 'positive']\n",
    "df_conf_matrix = pd.DataFrame(\n",
    "    conf_matrix, index=class_label, columns=class_label)\n",
    "sb.heatmap(df_conf_matrix, annot=True, fmt='d')\n",
    "plt.title(\"Confusion Matrix\")\n",
    "plt.xlabel(\"Predicted\")\n",
    "plt.ylabel(\"Actual\")\n",
    "plt.show()\n",
    "print(\"_\" * 101)"
   ]
  },
  {
   "cell_type": "markdown",
   "metadata": {
    "_uuid": "40db823f8ee9cab07e447a55cd39b792eb8da0fa"
   },
   "source": [
    "- After trying out lot of hyper parameter tuning, model is always bias towards only one class. It clearly indicates that, the model  Brute Ford KNN is not suitable for TFIDF-Word2Vec in our Amazon Fine Food Reviews data set."
   ]
  },
  {
   "cell_type": "markdown",
   "metadata": {
    "_uuid": "b170489f1a48ee164b7873a5d1bce0ea445ca386"
   },
   "source": [
    "## KD tree KNN"
   ]
  },
  {
   "cell_type": "code",
   "execution_count": null,
   "metadata": {
    "_uuid": "555d6835e014b37a7d17ab75ff54f3a2a6204f75"
   },
   "outputs": [],
   "source": [
    "%%time\n",
    "\n",
    "neighbors = list(range(1, 50, 2))\n",
    "cv_score = []\n",
    "for k in neighbors:\n",
    "    knn = KNeighborsClassifier(n_neighbors=k, algorithm='kd_tree')\n",
    "    scores = cross_val_score(knn, X_train, Y_train, cv=10, scoring='accuracy')\n",
    "    cv_score.append(scores.mean())"
   ]
  },
  {
   "cell_type": "markdown",
   "metadata": {
    "_uuid": "55b4dc87076c9a139abb87c8dc81cb22b506ded7"
   },
   "source": [
    "### Misclassification Error"
   ]
  },
  {
   "cell_type": "code",
   "execution_count": null,
   "metadata": {
    "_uuid": "614057c98666f81b85c4d2f936e1dce299fb482e"
   },
   "outputs": [],
   "source": [
    "MSE = [1 - x for x in cv_score]\n",
    "optimal_k = neighbors[MSE.index(min(MSE))]\n",
    "print(\"_\" * 101)\n",
    "print(\"Optimal number of neighbors: \", optimal_k)\n",
    "print(\"_\" * 101)\n",
    "print(\"Missclassification error for each k values: \", np.round(MSE, 3))\n",
    "print(\"_\" * 101)\n",
    "\n",
    "plt.plot(neighbors, MSE)\n",
    "#for xy in zip(neighbors, np.round(MSE, 3)):\n",
    "#    plt.annotate(\"%s %s\" %xy, xy=xy, textcoords='data')\n",
    "plt.title(\"Number of neighbors and error\")\n",
    "plt.xlabel(\"Number of neighbors\")\n",
    "plt.ylabel(\"Missclassification error\")\n",
    "plt.show()"
   ]
  },
  {
   "cell_type": "markdown",
   "metadata": {
    "_uuid": "7b9dea10b3821c4b96af8420f94a1cf8b08b6266"
   },
   "source": [
    "### Accuracy Score"
   ]
  },
  {
   "cell_type": "code",
   "execution_count": null,
   "metadata": {
    "_uuid": "103ceaf617986ae74b887ae621c0f2e670d71e8e"
   },
   "outputs": [],
   "source": [
    "%%time\n",
    "\n",
    "optimal_model = KNeighborsClassifier(\n",
    "    n_neighbors=optimal_k, algorithm='kd_tree')\n",
    "optimal_model.fit(X_train, Y_train)\n",
    "prediction = optimal_model.predict(X_test)\n",
    "\n",
    "training_accuracy = optimal_model.score(X_train, Y_train)\n",
    "training_error = 1 - training_accuracy\n",
    "test_accuracy = accuracy_score(Y_test, prediction)\n",
    "test_error = 1 - test_accuracy\n",
    "\n",
    "print(\"_\" * 101)\n",
    "print(\"Training Accuracy: \", training_accuracy)\n",
    "print(\"Train Error: \", training_error)\n",
    "print(\"Test Accuracy: \", test_accuracy)\n",
    "print(\"Test Error: \", test_error)\n",
    "print(\"_\" * 101)"
   ]
  },
  {
   "cell_type": "markdown",
   "metadata": {
    "_uuid": "aebf1d38a5b0f0b33b2644ea257f06fc46d84b96"
   },
   "source": [
    "### Classification Report"
   ]
  },
  {
   "cell_type": "code",
   "execution_count": null,
   "metadata": {
    "_uuid": "95bf94bb4a71404759bec26945d4a2d2b9f5f9b6"
   },
   "outputs": [],
   "source": [
    "print(\"_\" * 101)\n",
    "print(\"Classification Report: \\n\")\n",
    "print(classification_report(Y_test, prediction))\n",
    "print(\"_\" * 101)"
   ]
  },
  {
   "cell_type": "markdown",
   "metadata": {
    "_uuid": "a2dac3de18f428975581d55d128c033f83fa8665"
   },
   "source": [
    "### Confusion Matrix"
   ]
  },
  {
   "cell_type": "code",
   "execution_count": null,
   "metadata": {
    "_uuid": "5d0542c092ed1418415900f038ba1974793db91a",
    "scrolled": true
   },
   "outputs": [],
   "source": [
    "conf_matrix = confusion_matrix(Y_test, prediction)\n",
    "class_label = ['negative', 'positive']\n",
    "df_conf_matrix = pd.DataFrame(\n",
    "    conf_matrix, index=class_label, columns=class_label)\n",
    "sb.heatmap(df_conf_matrix, annot=True, fmt='d')\n",
    "plt.title(\"Confusion Matrix\")\n",
    "plt.xlabel(\"Predicted\")\n",
    "plt.ylabel(\"Actual\")\n",
    "plt.show()\n",
    "print(\"_\" * 101)"
   ]
  },
  {
   "cell_type": "markdown",
   "metadata": {
    "_uuid": "6054dcd9aeb29aab856bf13a2021f1cb5142e73c"
   },
   "source": [
    "- After trying out lot of hyper parameter tuning, model is always bias towards only one class. It clearly indicates that, the model KD Tree KNN is not suitable for TFIDF-Word2Vec in our Amazon Fine Food Reviews data set."
   ]
  },
  {
   "cell_type": "markdown",
   "metadata": {
    "_uuid": "46ae7cab4397c5562446625bdb71c954da07b6de"
   },
   "source": [
    "# Final Report"
   ]
  },
  {
   "cell_type": "markdown",
   "metadata": {
    "_uuid": "03ecf41bc349382b870aca292dde79a3bd6ca903"
   },
   "source": [
    "- Accuracy Report in %:\n",
    "<table>\n",
    "   <tbody>\n",
    "    <tr>      \n",
    "      <th><center> </center></th>\n",
    "      <th colspan='4'><center> Brute Force KNN </center></th>\n",
    "      <th colspan='4'><center> KD Tree KNN </center></th>      \n",
    "    </tr>\n",
    "  \n",
    "  <tr>\n",
    "    <td> </td>\n",
    "    <td rowspan=\"1\"><b><center> Train Accuracy </center></b></td>    \n",
    "    <td rowspan=\"1\"><b><center> Train Error </center></b></td>\n",
    "    <td rowspan=\"1\"><b><center> Test Accuracy </center></b></td>\n",
    "    <td rowspan=\"1\"><b><center> Test Error </center></b></td>\n",
    "    <td rowspan=\"1\"><b><center> Train Accuracy </center></b></td>    \n",
    "    <td rowspan=\"1\"><b><center>Train  Error </center></b></td>\n",
    "    <td rowspan=\"1\"><b><center> Test Accuracy </center></b></td>\n",
    "    <td rowspan=\"1\"><b><center> Test Error </center></b></td>\n",
    "  </tr>\n",
    "  <tr>\n",
    "    <td><b><center> Bow </center></b></td>\n",
    "    <td><center> 72.65 </center></td>\n",
    "    <td><center> 27.34</center></td>\n",
    "    <td><center> 70.65 </center></td>\n",
    "    <td><center> 29.35 </center></td>\n",
    "<td><center> 72.65 </center></td>\n",
    "    <td><center> 27.34</center></td>\n",
    "    <td><center> 70.65 </center></td>\n",
    "    <td><center> 29.35 </center></td>\n",
    "  </tr>\n",
    "<tr>\n",
    "    <td><b><center> TF-IDF </center></b></td>\n",
    "    <td><center> 73.37 </center></td>\n",
    "    <td><center> 26.62 </center></td>\n",
    "    <td><center> 71.80 </center></td>\n",
    "    <td><center> 28.20 </center></td>\n",
    "   <td><center> 73.37 </center></td>\n",
    "    <td><center> 26.62 </center></td>\n",
    "    <td><center> 71.80 </center></td>\n",
    "    <td><center> 28.20 </center></td>\n",
    "  </tr>\n",
    "<tr>\n",
    "    <td><b><center> Avg-W2V </center></b></td>\n",
    "    <td><center> 75.00 </center></td>\n",
    "    <td><center> 25.00 </center></td>\n",
    "    <td><center> 57.91 </center></td>\n",
    "    <td><center> 42.08 </center></td>\n",
    "     <td><center> 75.00 </center></td>\n",
    "    <td><center> 25.00 </center></td>\n",
    "    <td><center> 57.91 </center></td>\n",
    "    <td><center> 42.08 </center></td>\n",
    "  </tr>\n",
    "<tr>\n",
    "    <td><b><center> TFIDF-W2V </center></b></td>\n",
    "    <td><center> 50.20 </center></td>\n",
    "    <td><center> 49.79 </center></td>\n",
    "    <td><center> 49.51 </center></td>\n",
    "    <td><center> 50.48 </center></td>\n",
    "    <td><center> 50.20 </center></td>\n",
    "    <td><center> 49.79 </center></td>\n",
    "    <td><center> 49.51 </center></td>\n",
    "    <td><center> 50.48 </center></td>\n",
    "  </tr>\n",
    "  </tbody>\n",
    "</table>\n"
   ]
  },
  {
   "cell_type": "markdown",
   "metadata": {
    "_uuid": "c1ca0e6c129ee3dbd11fa707e51611137bdc49fd"
   },
   "source": [
    "# Conclusion"
   ]
  },
  {
   "cell_type": "markdown",
   "metadata": {
    "_uuid": "18afecefc38591e3d09cd888e47a2f9664671824",
    "collapsed": true
   },
   "source": [
    "- After executing models and hyper parameter tuning, it is found out that, KNN is giving train and test accuracy around 70% in for both W2V and TF-IDF.\n",
    "- As K increased, training accuracy always increases but test accuracy is limited around 70% so it's obvious to adjust the K properly so that model doesn't over fit.\n",
    "- Model is always over fitting for Average W2V dataset independent of k value so is not suitable in this case.\n",
    "- Model is always lenient towards one class for TFIDF-W2V so clearly it's not suitable in this case too.\n",
    "- It is very time consuming to have data with very high dimension. Very small subset were taken but still we are getting high delay due to large dimension and time complexity of KNN."
   ]
  }
 ],
 "metadata": {
  "kernelspec": {
   "display_name": "Python 3",
   "language": "python",
   "name": "python3"
  },
  "language_info": {
   "codemirror_mode": {
    "name": "ipython",
    "version": 3
   },
   "file_extension": ".py",
   "mimetype": "text/x-python",
   "name": "python",
   "nbconvert_exporter": "python",
   "pygments_lexer": "ipython3",
   "version": "3.8.0"
  },
  "latex_envs": {
   "LaTeX_envs_menu_present": true,
   "autoclose": false,
   "autocomplete": true,
   "bibliofile": "biblio.bib",
   "cite_by": "apalike",
   "current_citInitial": 1,
   "eqLabelWithNumbers": true,
   "eqNumInitial": 1,
   "hotkeys": {
    "equation": "Ctrl-E",
    "itemize": "Ctrl-I"
   },
   "labels_anchors": false,
   "latex_user_defs": false,
   "report_style_numbering": false,
   "user_envs_cfg": false
  },
  "toc": {
   "base_numbering": 1,
   "nav_menu": {},
   "number_sections": true,
   "sideBar": true,
   "skip_h1_title": false,
   "title_cell": "Table of Contents",
   "title_sidebar": "Contents",
   "toc_cell": true,
   "toc_position": {
    "height": "calc(100% - 180px)",
    "left": "10px",
    "top": "150px",
    "width": "165px"
   },
   "toc_section_display": true,
   "toc_window_display": true
  },
  "varInspector": {
   "cols": {
    "lenName": 16,
    "lenType": 16,
    "lenVar": 40
   },
   "kernels_config": {
    "python": {
     "delete_cmd_postfix": "",
     "delete_cmd_prefix": "del ",
     "library": "var_list.py",
     "varRefreshCmd": "print(var_dic_list())"
    },
    "r": {
     "delete_cmd_postfix": ") ",
     "delete_cmd_prefix": "rm(",
     "library": "var_list.r",
     "varRefreshCmd": "cat(var_dic_list()) "
    }
   },
   "types_to_exclude": [
    "module",
    "function",
    "builtin_function_or_method",
    "instance",
    "_Feature"
   ],
   "window_display": false
  }
 },
 "nbformat": 4,
 "nbformat_minor": 1
}
