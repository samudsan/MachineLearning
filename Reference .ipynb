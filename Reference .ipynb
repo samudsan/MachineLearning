{
 "cells": [
  {
   "cell_type": "markdown",
   "metadata": {},
   "source": [
    "### importing essential Libraries"
   ]
  },
  {
   "cell_type": "code",
   "execution_count": 1,
   "metadata": {},
   "outputs": [],
   "source": [
    "import pandas as pd #Pandas is a library written for the Python programming language for data manipulation and analysis. In particular, it offers data structures and operations for manipulating numerical tables and time series, which is a Panel Data. Therefore, the library is named is Pandas. Pandas library is built on NumPy package\n",
    "import matplotlib.pyplot as plt  # Matplotlib is a plotting library for the Python programming language and its numerical mathematics extension NumPy. It provides an object-oriented API for embedding plots into applications using general-purpose GUI toolkits like Tkinter, wxPython, Qt, or GTK+.\n",
    "import numpy as np #NumPy is a package in Python used for Scientific Computing. NumPy package is used to perform different operations. The ndarray (NumPy Array) is a multidimensional array used to store values of same datatype. These arrays are indexed just like Sequences, starts with zero.\n",
    "import seaborn as sns # Seaborn is a Python data visualization library based on matplotlib. It provides a high-level interface for drawing attractive and informative statistical graphics."
   ]
  },
  {
   "cell_type": "markdown",
   "metadata": {},
   "source": [
    "### Loading .csv DataSet"
   ]
  },
  {
   "cell_type": "code",
   "execution_count": 3,
   "metadata": {},
   "outputs": [],
   "source": [
    "#Loading MNIST data set from git hub\n",
    "df = pd.read_csv(\"https://raw.githubusercontent.com/samudsan/MachineLearning/master/Data%20Sets/Mnist/train.csv\")\n",
    "#classesLabel = df[\"label\"]\n",
    "df = df.drop(\"label\", axis = 1)\n",
    "\n",
    "Slicing dataset(taking part of data set)\n",
    "subdf = df.head(1000)\n",
    "label = subdf.drop(\"label\", axis = 1) #removing class column from df and adding in a separete variable\n",
    "\n",
    "print(subdf.shape)\n",
    "print(label.shape)"
   ]
  },
  {
   "cell_type": "markdown",
   "metadata": {},
   "source": [
    "### Loading .sqlite3 DataSet"
   ]
  },
  {
   "cell_type": "code",
   "execution_count": null,
   "metadata": {},
   "outputs": [],
   "source": [
    "import sqlite3\n",
    "con = sqlite3.connect('database.sqlite') \n",
    "filtered_data = pd.read_sql_query(\"\"\"SELECT * FROM Reviews WHERE Score != 3 LIMIT 5000\"\"\", con) \n"
   ]
  },
  {
   "cell_type": "markdown",
   "metadata": {},
   "source": [
    "### Pandas DataFrame\n",
    "\n",
    "`DataFrame.iat`\n",
    "Fast integer location scalar accessor.\n",
    "\n",
    "`DataFrame.loc`\n",
    "Purely label-location based indexer for selection by label.\n",
    "\n",
    "`Series.iloc`\n",
    "Purely integer-location based indexing for selection by position."
   ]
  },
  {
   "cell_type": "code",
   "execution_count": null,
   "metadata": {},
   "outputs": [],
   "source": [
    "print(label.iloc[25])"
   ]
  },
  {
   "cell_type": "code",
   "execution_count": null,
   "metadata": {},
   "outputs": [],
   "source": [
    "columns = [\"age\", \"year\", \"nodes\", \"status\"]\n",
    "df = pd.read_csv(\"https://raw.githubusercontent.com/samudsan/MachineLearning/master/Data%20Sets/Haberman/haberman.csv\", names = columns)\n",
    "\n",
    "df.head()  # to know top 5 observations\n",
    "df[\"status\"].value_counts() # tells us count of each observation in status\n",
    "df.shape # To know number of of rows(datapoints) and columns(features)\n",
    "df[\"status\"].size #to know the number observations in feature status\n",
    "df[\"age\"].values[20] # prints the 20th obesrvation with respect to age.\n"
   ]
  },
  {
   "cell_type": "markdown",
   "metadata": {},
   "source": [
    "### Pandas Series"
   ]
  },
  {
   "cell_type": "code",
   "execution_count": null,
   "metadata": {},
   "outputs": [],
   "source": [
    "    "
   ]
  },
  {
   "cell_type": "markdown",
   "metadata": {},
   "source": [
    "### Regular Expression"
   ]
  },
  {
   "cell_type": "markdown",
   "metadata": {},
   "source": [
    "**Identifiers:**\n",
    "\n",
    "    \\d = any number\n",
    "    \\D = anything but a number\n",
    "    \\s = space\n",
    "    \\S = anything but a space\n",
    "    \\w = any letter\n",
    "    \\W = anything but a letter\n",
    "    . = any character, except for a new line\n",
    "    \\b = space around whole words\n",
    "    \\. = period. must use backslash, because . normally means any character.\n",
    "    \n",
    "Legend\n",
    "\n",
    "    structure\n",
    "    ( ) grouping\n",
    "    a|b either a or b\n",
    "    quantifier\n",
    "    ? 0 or 1 occurrence\n",
    "    * 0 or any number of occurrences\n",
    "    + any number of occurrences\n",
    "    {x} x occurrences\n",
    "    {x,y} x to y occurrences\n",
    "    \n",
    "positions\n",
    "\n",
    "    ` ^ / $ line beginning / ending `\n",
    "    \\b word border position\n",
    "    \\B in-word position\n",
    "    (?=x) lookahead if x comes next\n",
    "    \n",
    "characters\n",
    "\n",
    "    . any character\n",
    "    \\d / \\D digit / any other\n",
    "    \\s / \\S whitespace / any other\n",
    "    \\w / \\W alpha-numeric / any other\n",
    "    [ab] any character a or b\n",
    "    [^ab] any character but a and b\n",
    "\n",
    "\n",
    "**Modifiers:**\n",
    "\n",
    "    {1,3} = for digits, u expect 1-3 counts of digits, or \"places\"\n",
    "    + = match 1 or more\n",
    "    ? = match 0 or 1 repetitions.\n",
    "    * = match 0 or MORE repetitions\n",
    "    $ = matches at the end of string\n",
    "    ^ = matches start of a string\n",
    "    | = matches either/or. Example x|y = will match either x or y\n",
    "    [] = range, or \"variance\"\n",
    "    {x} = expect to see this amount of the preceding code.\n",
    "    {x,y} = expect to see this x-y amounts of the precedng code\n",
    "\n",
    "**White Space Charts**\n",
    "\n",
    "    \\n = new line\n",
    "    \\s = space\n",
    "    \\t = tab\n",
    "    \\e = escape\n",
    "    \\f = form feed\n",
    "    \\r = carriage return\n",
    "    Characters to REMEMBER TO ESCAPE IF USED!\n",
    "\n",
    "    . + * ? [ ] $ ^ ( ) { } | \\\n",
    "\n",
    "**Brackets:**\n",
    "\n",
    "[] = quant[ia]tative = will find either quantitative, or quantatative.\n",
    "[a-z] = return any lowercase letter a-z\n",
    "[1-5a-qA-Z] = return all numbers 1-5, lowercase letters a-q and uppercase A-Z\n",
    "\n"
   ]
  },
  {
   "cell_type": "markdown",
   "metadata": {},
   "source": [
    "### Steps in Text processing"
   ]
  },
  {
   "cell_type": "markdown",
   "metadata": {},
   "source": [
    "**Basic feature extraction using text data**\n",
    "    \n",
    "    Number of words\n",
    "    Number of characters\n",
    "    Average word length\n",
    "    Number of stopwords\n",
    "    Number of special characters\n",
    "    Number of numerics\n",
    "    Number of uppercase words\n",
    "**Basic Text Pre-processing of text data**\n",
    "    \n",
    "    Lower casing\n",
    "    Punctuation removal\n",
    "    Stopwords removal\n",
    "    Frequent words removal\n",
    "    Rare words removal\n",
    "    Spelling correction\n",
    "    Tokenization\n",
    "    Stemming\n",
    "    Lemmatization\n",
    "**Advance Text Processing**\n",
    "    \n",
    "    N-grams\n",
    "    Term Frequency\n",
    "    Inverse Document Frequency\n",
    "    Term Frequency-Inverse Document Frequency (TF-IDF)\n",
    "    Bag of Words\n",
    "    Sentiment Analysis\n",
    "    Word Embedding"
   ]
  }
 ],
 "metadata": {
  "kernelspec": {
   "display_name": "Python 3",
   "language": "python",
   "name": "python3"
  },
  "language_info": {
   "codemirror_mode": {
    "name": "ipython",
    "version": 3
   },
   "file_extension": ".py",
   "mimetype": "text/x-python",
   "name": "python",
   "nbconvert_exporter": "python",
   "pygments_lexer": "ipython3",
   "version": "3.6.5"
  },
  "varInspector": {
   "cols": {
    "lenName": 16,
    "lenType": 16,
    "lenVar": 40
   },
   "kernels_config": {
    "python": {
     "delete_cmd_postfix": "",
     "delete_cmd_prefix": "del ",
     "library": "var_list.py",
     "varRefreshCmd": "print(var_dic_list())"
    },
    "r": {
     "delete_cmd_postfix": ") ",
     "delete_cmd_prefix": "rm(",
     "library": "var_list.r",
     "varRefreshCmd": "cat(var_dic_list()) "
    }
   },
   "types_to_exclude": [
    "module",
    "function",
    "builtin_function_or_method",
    "instance",
    "_Feature"
   ],
   "window_display": false
  }
 },
 "nbformat": 4,
 "nbformat_minor": 2
}
