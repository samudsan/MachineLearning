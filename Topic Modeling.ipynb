{
 "cells": [
  {
   "cell_type": "code",
   "execution_count": 1,
   "metadata": {},
   "outputs": [],
   "source": [
    "import re\n",
    "import numpy as np\n",
    "import pandas as pd\n",
    "from pprint import pprint\n",
    "\n",
    "# Gensim\n",
    "import gensim\n",
    "import gensim.corpora as corpora\n",
    "from gensim.utils import simple_preprocess\n",
    "from gensim.models import CoherenceModel\n",
    "\n",
    "# spacy for lemmatization\n",
    "import spacy\n",
    "\n",
    "# Plotting tools\n",
    "import pyLDAvis\n",
    "import pyLDAvis.gensim  # don't skip this\n",
    "import matplotlib.pyplot as plt\n",
    "%matplotlib inline\n",
    "\n",
    "# Enable logging for gensim - optional\n",
    "import logging\n",
    "logging.basicConfig(format='%(asctime)s : %(levelname)s : %(message)s', level=logging.ERROR)\n"
   ]
  },
  {
   "cell_type": "markdown",
   "metadata": {},
   "source": [
    "#### Prepare Stopwords"
   ]
  },
  {
   "cell_type": "code",
   "execution_count": 2,
   "metadata": {},
   "outputs": [
    {
     "name": "stderr",
     "output_type": "stream",
     "text": [
      "/home/sandeep/anaconda3/lib/python3.8/site-packages/nltk/decorators.py:67: DeprecationWarning: `formatargspec` is deprecated since Python 3.5. Use `signature` and the `Signature` object directly\n",
      "  signature = inspect.formatargspec(\n",
      "/home/sandeep/anaconda3/lib/python3.8/site-packages/nltk/lm/counter.py:15: DeprecationWarning: Using or importing the ABCs from 'collections' instead of from 'collections.abc' is deprecated since Python 3.3, and in 3.9 it will stop working\n",
      "  from collections import Sequence, defaultdict\n"
     ]
    }
   ],
   "source": [
    "# NLTK Stop words\n",
    "from nltk.corpus import stopwords\n",
    "stop_words = stopwords.words('english')\n",
    "stop_words.extend(['from', 'subject', 're', 'edu', 'use'])"
   ]
  },
  {
   "cell_type": "markdown",
   "metadata": {},
   "source": [
    "#### Import Newsgroups Data"
   ]
  },
  {
   "cell_type": "code",
   "execution_count": 3,
   "metadata": {},
   "outputs": [
    {
     "name": "stdout",
     "output_type": "stream",
     "text": [
      "['rec.autos' 'comp.sys.mac.hardware' 'comp.graphics' 'sci.space'\n",
      " 'talk.politics.guns' 'sci.med' 'comp.sys.ibm.pc.hardware'\n",
      " 'comp.os.ms-windows.misc' 'rec.motorcycles' 'talk.religion.misc'\n",
      " 'misc.forsale' 'alt.atheism' 'sci.electronics' 'comp.windows.x'\n",
      " 'rec.sport.hockey' 'rec.sport.baseball' 'soc.religion.christian'\n",
      " 'talk.politics.mideast' 'talk.politics.misc' 'sci.crypt']\n"
     ]
    },
    {
     "data": {
      "text/html": [
       "<div>\n",
       "<style scoped>\n",
       "    .dataframe tbody tr th:only-of-type {\n",
       "        vertical-align: middle;\n",
       "    }\n",
       "\n",
       "    .dataframe tbody tr th {\n",
       "        vertical-align: top;\n",
       "    }\n",
       "\n",
       "    .dataframe thead th {\n",
       "        text-align: right;\n",
       "    }\n",
       "</style>\n",
       "<table border=\"1\" class=\"dataframe\">\n",
       "  <thead>\n",
       "    <tr style=\"text-align: right;\">\n",
       "      <th></th>\n",
       "      <th>content</th>\n",
       "      <th>target</th>\n",
       "      <th>target_names</th>\n",
       "    </tr>\n",
       "  </thead>\n",
       "  <tbody>\n",
       "    <tr>\n",
       "      <th>0</th>\n",
       "      <td>From: lerxst@wam.umd.edu (where's my thing)\\nS...</td>\n",
       "      <td>7</td>\n",
       "      <td>rec.autos</td>\n",
       "    </tr>\n",
       "    <tr>\n",
       "      <th>1</th>\n",
       "      <td>From: guykuo@carson.u.washington.edu (Guy Kuo)...</td>\n",
       "      <td>4</td>\n",
       "      <td>comp.sys.mac.hardware</td>\n",
       "    </tr>\n",
       "    <tr>\n",
       "      <th>2</th>\n",
       "      <td>From: twillis@ec.ecn.purdue.edu (Thomas E Will...</td>\n",
       "      <td>4</td>\n",
       "      <td>comp.sys.mac.hardware</td>\n",
       "    </tr>\n",
       "    <tr>\n",
       "      <th>3</th>\n",
       "      <td>From: jgreen@amber (Joe Green)\\nSubject: Re: W...</td>\n",
       "      <td>1</td>\n",
       "      <td>comp.graphics</td>\n",
       "    </tr>\n",
       "    <tr>\n",
       "      <th>4</th>\n",
       "      <td>From: jcm@head-cfa.harvard.edu (Jonathan McDow...</td>\n",
       "      <td>14</td>\n",
       "      <td>sci.space</td>\n",
       "    </tr>\n",
       "  </tbody>\n",
       "</table>\n",
       "</div>"
      ],
      "text/plain": [
       "                                             content  target  \\\n",
       "0  From: lerxst@wam.umd.edu (where's my thing)\\nS...       7   \n",
       "1  From: guykuo@carson.u.washington.edu (Guy Kuo)...       4   \n",
       "2  From: twillis@ec.ecn.purdue.edu (Thomas E Will...       4   \n",
       "3  From: jgreen@amber (Joe Green)\\nSubject: Re: W...       1   \n",
       "4  From: jcm@head-cfa.harvard.edu (Jonathan McDow...      14   \n",
       "\n",
       "            target_names  \n",
       "0              rec.autos  \n",
       "1  comp.sys.mac.hardware  \n",
       "2  comp.sys.mac.hardware  \n",
       "3          comp.graphics  \n",
       "4              sci.space  "
      ]
     },
     "execution_count": 3,
     "metadata": {},
     "output_type": "execute_result"
    }
   ],
   "source": [
    "# Import Dataset\n",
    "df = pd.read_json('/home/sandeep/Desktop/samudsan/Machine learning/newsgroups.json')\n",
    "print(df.target_names.unique())\n",
    "df.head()"
   ]
  },
  {
   "cell_type": "markdown",
   "metadata": {},
   "source": [
    "#### Remove emails and newline characters"
   ]
  },
  {
   "cell_type": "code",
   "execution_count": 4,
   "metadata": {},
   "outputs": [
    {
     "name": "stdout",
     "output_type": "stream",
     "text": [
      "['From: lerx twam.umd.edu (where  my thing)\\n'\n",
      " 'Subject: WHAT car i  thi !?\\n'\n",
      " 'Nntp-Po ting-Ho t: rac3.wam.umd.edu\\n'\n",
      " 'Organization: Univer ity of Maryland, College Park\\n'\n",
      " 'Line : 15\\n'\n",
      " '\\n'\n",
      " ' I wa  wondering if anyone out there could enlighten me on thi  car I  aw\\n'\n",
      " 'the other day. It wa  a 2-door  port  car, looked to be from the late 60 /\\n'\n",
      " 'early 70 . It wa  called a Bricklin. The door  were really  mall. In '\n",
      " 'addition,\\n'\n",
      " 'the front bumper wa   eparate from the re t of the body. Thi  i  \\n'\n",
      " 'all I know. If anyone can tellme a model name, engine  pec , year \\n'\n",
      " 'of production, where thi  car i  made, hi tory, or whatever info you\\n'\n",
      " 'have on thi  funky looking car, plea e e-mail.\\n'\n",
      " '\\n'\n",
      " 'Thank ,\\n'\n",
      " '- IL\\n'\n",
      " '   ---- brought to you by your neighborhood Lerx t ----\\n'\n",
      " '\\n'\n",
      " '\\n'\n",
      " '\\n'\n",
      " '\\n']\n"
     ]
    }
   ],
   "source": [
    "# Convert to list\n",
    "data = df.content.values.tolist()\n",
    "\n",
    "# Remove Emails\n",
    "data = [re.sub(r'S*@S*s?', '', sent) for sent in data]\n",
    "\n",
    "# Remove new line characters\n",
    "data = [re.sub(r's+', ' ', sent) for sent in data]\n",
    "\n",
    "# Remove distracting single quotes\n",
    "data = [re.sub(r\"\\'\", \"\", sent) for sent in data]\n",
    "\n",
    "pprint(data[:1])"
   ]
  },
  {
   "cell_type": "markdown",
   "metadata": {},
   "source": [
    "####  Tokenize words and Clean-up text"
   ]
  },
  {
   "cell_type": "code",
   "execution_count": 5,
   "metadata": {},
   "outputs": [
    {
     "name": "stdout",
     "output_type": "stream",
     "text": [
      "[['from', 'lerx', 'twam', 'umd', 'edu', 'where', 'my', 'thing', 'subject', 'what', 'car', 'thi', 'nntp', 'po', 'ting', 'ho', 'rac', 'wam', 'umd', 'edu', 'organization', 'univer', 'ity', 'of', 'maryland', 'college', 'park', 'line', 'wa', 'wondering', 'if', 'anyone', 'out', 'there', 'could', 'enlighten', 'me', 'on', 'thi', 'car', 'aw', 'the', 'other', 'day', 'it', 'wa', 'door', 'port', 'car', 'looked', 'to', 'be', 'from', 'the', 'late', 'early', 'it', 'wa', 'called', 'bricklin', 'the', 'door', 'were', 'really', 'mall', 'in', 'addition', 'the', 'front', 'bumper', 'wa', 'eparate', 'from', 'the', 're', 'of', 'the', 'body', 'thi', 'all', 'know', 'if', 'anyone', 'can', 'tellme', 'model', 'name', 'engine', 'pec', 'year', 'of', 'production', 'where', 'thi', 'car', 'made', 'hi', 'tory', 'or', 'whatever', 'info', 'you', 'have', 'on', 'thi', 'funky', 'looking', 'car', 'plea', 'mail', 'thank', 'il', 'brought', 'to', 'you', 'by', 'your', 'neighborhood', 'lerx']]\n"
     ]
    }
   ],
   "source": [
    "def sent_to_words(sentences):\n",
    "    for sentence in sentences:\n",
    "        yield(gensim.utils.simple_preprocess(str(sentence), deacc=True))  # deacc=True removes punctuations\n",
    "data_words = list(sent_to_words(data))\n",
    "print(data_words[:1])"
   ]
  },
  {
   "cell_type": "markdown",
   "metadata": {},
   "source": [
    "#### Creating Bigram and Trigram Models"
   ]
  },
  {
   "cell_type": "code",
   "execution_count": 6,
   "metadata": {},
   "outputs": [
    {
     "name": "stdout",
     "output_type": "stream",
     "text": [
      "['from', 'lerx', 'twam', 'umd', 'edu', 'where', 'my', 'thing', 'subject', 'what', 'car', 'thi', 'nntp', 'po', 'ting_ho', 'rac_wam_umd', 'edu', 'organization', 'univer_ity', 'of', 'maryland_college_park', 'line', 'wa', 'wondering', 'if', 'anyone', 'out', 'there', 'could', 'enlighten', 'me', 'on', 'thi', 'car', 'aw', 'the', 'other', 'day', 'it', 'wa', 'door', 'port', 'car', 'looked', 'to', 'be', 'from', 'the', 'late', 'early', 'it', 'wa', 'called', 'bricklin', 'the', 'door', 'were', 'really', 'mall', 'in', 'addition', 'the', 'front_bumper', 'wa', 'eparate', 'from', 'the', 're', 'of', 'the', 'body', 'thi', 'all', 'know', 'if', 'anyone', 'can', 'tellme', 'model', 'name', 'engine', 'pec', 'year', 'of', 'production', 'where', 'thi', 'car', 'made', 'hi_tory', 'or', 'whatever', 'info', 'you', 'have', 'on', 'thi', 'funky', 'looking', 'car', 'plea', 'mail', 'thank', 'il', 'brought', 'to', 'you', 'by', 'your', 'neighborhood', 'lerx']\n"
     ]
    }
   ],
   "source": [
    "# Build the bigram and trigram models\n",
    "bigram = gensim.models.Phrases(data_words, min_count=5, threshold=100) # higher threshold fewer phrases.\n",
    "trigram = gensim.models.Phrases(bigram[data_words], threshold=100)  \n",
    "\n",
    "# Faster way to get a sentence clubbed as a trigram/bigram\n",
    "bigram_mod = gensim.models.phrases.Phraser(bigram)\n",
    "trigram_mod = gensim.models.phrases.Phraser(trigram)\n",
    "\n",
    "# See trigram example\n",
    "print(trigram_mod[bigram_mod[data_words[0]]])"
   ]
  },
  {
   "cell_type": "markdown",
   "metadata": {},
   "source": [
    "#### Remove Stopwords, Make Bigrams and Lemmatize\n"
   ]
  },
  {
   "cell_type": "code",
   "execution_count": 7,
   "metadata": {},
   "outputs": [
    {
     "name": "stdout",
     "output_type": "stream",
     "text": [
      "[['thi', 'nntp', 'park', 'line', 'wonder', 'could', 'enlighten', 'thi', 'car', 'day', 'door', 'port', 'car', 'look', 'late', 'early', 'call', 'really', 'mall', 'addition', 'know', 'model', 'name', 'year', 'production', 'thi', 'car', 'make', 'info', 'thi', 'funky', 'look', 'car', 'plea', 'mail', 'thank', 'bring', 'neighborhood', 'lerx']]\n"
     ]
    }
   ],
   "source": [
    "# Define functions for stopwords, bigrams, trigrams and lemmatization\n",
    "def remove_stopwords(texts):\n",
    "    return [[word for word in simple_preprocess(str(doc)) if word not in stop_words] for doc in texts]\n",
    "\n",
    "def make_bigrams(texts):\n",
    "    return [bigram_mod[doc] for doc in texts]\n",
    "\n",
    "def make_trigrams(texts):\n",
    "    return [trigram_mod[bigram_mod[doc]] for doc in texts]\n",
    "\n",
    "def lemmatization(texts, allowed_postags=['NOUN', 'ADJ', 'VERB', 'ADV']):\n",
    "    \"\"\"https://spacy.io/api/annotation\"\"\"\n",
    "    texts_out = []\n",
    "    for sent in texts:\n",
    "        doc = nlp(\" \".join(sent)) \n",
    "        texts_out.append([token.lemma_ for token in doc if token.pos_ in allowed_postags])\n",
    "    return texts_out\n",
    "\n",
    "\n",
    "# Remove Stop Words\n",
    "data_words_nostops = remove_stopwords(data_words)\n",
    "\n",
    "# Form Bigrams\n",
    "data_words_bigrams = make_bigrams(data_words_nostops)\n",
    "\n",
    "# Initialize spacy 'en' model, keeping only tagger component (for efficiency)\n",
    "# python3 -m spacy download en\n",
    "nlp = spacy.load('en', disable=['parser', 'ner'])\n",
    "\n",
    "# Do lemmatization keeping only noun, adj, vb, adv\n",
    "data_lemmatized = lemmatization(data_words_bigrams, allowed_postags=['NOUN', 'ADJ', 'VERB', 'ADV'])\n",
    "\n",
    "print(data_lemmatized[:1])"
   ]
  },
  {
   "cell_type": "markdown",
   "metadata": {},
   "source": [
    "#### Create the Dictionary and Corpus needed for Topic Modeling\n",
    "\n",
    "The two main inputs to the LDA topic model are the dictionary(id2word) and the corpus. Let’s create them.\n",
    "\n"
   ]
  },
  {
   "cell_type": "code",
   "execution_count": 8,
   "metadata": {},
   "outputs": [
    {
     "name": "stdout",
     "output_type": "stream",
     "text": [
      "[[(0, 1), (1, 1), (2, 1), (3, 4), (4, 1), (5, 1), (6, 1), (7, 1), (8, 1), (9, 1), (10, 1), (11, 1), (12, 1), (13, 1), (14, 1), (15, 2), (16, 1), (17, 1), (18, 1), (19, 1), (20, 1), (21, 1), (22, 1), (23, 1), (24, 1), (25, 1), (26, 1), (27, 1), (28, 1), (29, 4), (30, 1), (31, 1)]]\n"
     ]
    }
   ],
   "source": [
    "# Create Dictionary\n",
    "id2word = corpora.Dictionary(data_lemmatized)\n",
    "\n",
    "# Create Corpus\n",
    "texts = data_lemmatized\n",
    "\n",
    "# Term Document Frequency\n",
    "corpus = [id2word.doc2bow(text) for text in texts]\n",
    "\n",
    "# View\n",
    "print(corpus[:1])\n",
    "\n",
    "\n",
    "# Gensim creates a unique id for each word in the document. The produced corpus shown above is a mapping of (word_id, word_frequency)."
   ]
  },
  {
   "cell_type": "code",
   "execution_count": 9,
   "metadata": {},
   "outputs": [
    {
     "data": {
      "text/plain": [
       "'addition'"
      ]
     },
     "execution_count": 9,
     "metadata": {},
     "output_type": "execute_result"
    }
   ],
   "source": [
    "id2word[0]"
   ]
  },
  {
   "cell_type": "code",
   "execution_count": 10,
   "metadata": {},
   "outputs": [
    {
     "data": {
      "text/plain": [
       "[[('addition', 1),\n",
       "  ('bring', 1),\n",
       "  ('call', 1),\n",
       "  ('car', 4),\n",
       "  ('could', 1),\n",
       "  ('day', 1),\n",
       "  ('door', 1),\n",
       "  ('early', 1),\n",
       "  ('enlighten', 1),\n",
       "  ('funky', 1),\n",
       "  ('info', 1),\n",
       "  ('know', 1),\n",
       "  ('late', 1),\n",
       "  ('lerx', 1),\n",
       "  ('line', 1),\n",
       "  ('look', 2),\n",
       "  ('mail', 1),\n",
       "  ('make', 1),\n",
       "  ('mall', 1),\n",
       "  ('model', 1),\n",
       "  ('name', 1),\n",
       "  ('neighborhood', 1),\n",
       "  ('nntp', 1),\n",
       "  ('park', 1),\n",
       "  ('plea', 1),\n",
       "  ('port', 1),\n",
       "  ('production', 1),\n",
       "  ('really', 1),\n",
       "  ('thank', 1),\n",
       "  ('thi', 4),\n",
       "  ('wonder', 1),\n",
       "  ('year', 1)]]"
      ]
     },
     "execution_count": 10,
     "metadata": {},
     "output_type": "execute_result"
    }
   ],
   "source": [
    "# Human readable format of corpus (term-frequency)\n",
    "[[(id2word[id], freq) for id, freq in cp] for cp in corpus[:1]]"
   ]
  },
  {
   "cell_type": "markdown",
   "metadata": {},
   "source": [
    "### Building the Topic Model"
   ]
  },
  {
   "cell_type": "code",
   "execution_count": 11,
   "metadata": {},
   "outputs": [],
   "source": [
    "# Build LDA model\n",
    "lda_model = gensim.models.ldamodel.LdaModel(corpus=corpus,\n",
    "                                           id2word=id2word,\n",
    "                                           num_topics=20, \n",
    "                                           random_state=100,\n",
    "                                           update_every=1,\n",
    "                                           chunksize=100,\n",
    "                                           passes=10,\n",
    "                                           alpha='auto',\n",
    "                                           per_word_topics=True)"
   ]
  },
  {
   "cell_type": "markdown",
   "metadata": {},
   "source": [
    "#### View the topics in LDA model"
   ]
  },
  {
   "cell_type": "code",
   "execution_count": 12,
   "metadata": {},
   "outputs": [
    {
     "name": "stdout",
     "output_type": "stream",
     "text": [
      "[(0,\n",
      "  '0.044*\"people\" + 0.023*\"think\" + 0.021*\"come\" + 0.020*\"right\" + 0.019*\"go\" '\n",
      "  '+ 0.018*\"aid\" + 0.018*\"take\" + 0.015*\"even\" + 0.014*\"make\" + 0.013*\"man\"'),\n",
      " (1,\n",
      "  '0.053*\"year\" + 0.027*\"go\" + 0.026*\"car\" + 0.022*\"high\" + 0.019*\"next\" + '\n",
      "  '0.018*\"run\" + 0.016*\"low\" + 0.015*\"old\" + 0.015*\"will\" + 0.015*\"win\"'),\n",
      " (2,\n",
      "  '0.092*\"terrori\" + 0.067*\"internal\" + 0.051*\"reque\" + 0.046*\"letter\" + '\n",
      "  '0.044*\"procedure\" + 0.040*\"cable\" + 0.040*\"upgrade\" + 0.034*\"clock\" + '\n",
      "  '0.033*\"chri_tianity\" + 0.031*\"economic\"'),\n",
      " (3,\n",
      "  '0.033*\"may\" + 0.032*\"evidence\" + 0.025*\"point\" + 0.023*\"claim\" + '\n",
      "  '0.015*\"however\" + 0.015*\"many\" + 0.015*\"believe\" + 0.014*\"true\" + '\n",
      "  '0.014*\"example\" + 0.014*\"mean\"'),\n",
      " (4,\n",
      "  '0.062*\"power\" + 0.059*\"type\" + 0.034*\"bike\" + 0.033*\"light\" + '\n",
      "  '0.026*\"monitor\" + 0.022*\"develop\" + 0.022*\"ride\" + 0.022*\"peed\" + '\n",
      "  '0.020*\"science\" + 0.020*\"advice\"'),\n",
      " (5,\n",
      "  '0.079*\"faith\" + 0.069*\"book\" + 0.063*\"religion\" + 0.044*\"truth\" + '\n",
      "  '0.042*\"belief\" + 0.035*\"cience\" + 0.034*\"body\" + 0.033*\"wing\" + '\n",
      "  '0.033*\"graphic\" + 0.032*\"author\"'),\n",
      " (6,\n",
      "  '0.070*\"drive\" + 0.041*\"buy\" + 0.036*\"co\" + 0.031*\"price\" + 0.031*\"pay\" + '\n",
      "  '0.028*\"money\" + 0.028*\"hard\" + 0.023*\"patient\" + 0.022*\"computer\" + '\n",
      "  '0.021*\"offer\"'),\n",
      " (7,\n",
      "  '0.051*\"would\" + 0.031*\"thi\" + 0.027*\"know\" + 0.026*\"be\" + 0.022*\"get\" + '\n",
      "  '0.019*\"make\" + 0.017*\"time\" + 0.016*\"work\" + 0.015*\"want\" + 0.014*\"could\"'),\n",
      " (8,\n",
      "  '0.075*\"key\" + 0.059*\"government\" + 0.045*\"public\" + 0.039*\"chip\" + '\n",
      "  '0.024*\"phone\" + 0.022*\"encryption\" + 0.018*\"wire\" + 0.018*\"private\" + '\n",
      "  '0.018*\"technology\" + 0.017*\"tem\"'),\n",
      " (9,\n",
      "  '0.039*\"program\" + 0.034*\"include\" + 0.033*\"mail\" + 0.029*\"information\" + '\n",
      "  '0.029*\"number\" + 0.024*\"ion\" + 0.023*\"available\" + 0.017*\"image\" + '\n",
      "  '0.017*\"name\" + 0.014*\"group\"'),\n",
      " (10,\n",
      "  '0.185*\"line\" + 0.146*\"write\" + 0.129*\"com\" + 0.115*\"article\" + 0.064*\"ca\" + '\n",
      "  '0.053*\"organization\" + 0.028*\"reply\" + 0.014*\"nntp\" + 0.013*\"net\" + '\n",
      "  '0.011*\"opinion\"'),\n",
      " (11,\n",
      "  '0.075*\"fan\" + 0.062*\"medium\" + 0.059*\"pro\" + 0.057*\"tru\" + 0.052*\"pack\" + '\n",
      "  '0.046*\"vote\" + 0.034*\"sale\" + 0.028*\"tatu\" + 0.026*\"joke\" + 0.025*\"locate\"'),\n",
      " (12,\n",
      "  '0.306*\"file\" + 0.086*\"entry\" + 0.072*\"field\" + 0.046*\"load\" + '\n",
      "  '0.033*\"contain\" + 0.031*\"telnet\" + 0.024*\"topic\" + 0.020*\"implementation\" + '\n",
      "  '0.019*\"configuration\" + 0.015*\"edit\"'),\n",
      " (13,\n",
      "  '0.126*\"team\" + 0.112*\"game\" + 0.097*\"play\" + 0.083*\"gun\" + 0.069*\"player\" + '\n",
      "  '0.043*\"core\" + 0.032*\"trade\" + 0.028*\"goal\" + 0.018*\"cop\" + 0.018*\"defen\"'),\n",
      " (14,\n",
      "  '0.109*\"color\" + 0.091*\"model\" + 0.061*\"cpu\" + 0.037*\"community\" + '\n",
      "  '0.030*\"impact\" + 0.029*\"dept\" + 0.027*\"tank\" + 0.024*\"percent\" + '\n",
      "  '0.022*\"meeting\" + 0.021*\"predict\"'),\n",
      " (15,\n",
      "  '0.078*\"divi_ion\" + 0.062*\"dog\" + 0.056*\"organize\" + 0.050*\"bottom\" + '\n",
      "  '0.020*\"intelligence\" + 0.013*\"wound\" + 0.012*\"soviet\" + 0.010*\"cow\" + '\n",
      "  '0.009*\"serdar_argic\" + 0.007*\"fame\"'),\n",
      " (16,\n",
      "  '0.146*\"pace\" + 0.073*\"engine\" + 0.054*\"launch\" + 0.051*\"space\" + '\n",
      "  '0.041*\"orbit\" + 0.037*\"vehicle\" + 0.032*\"flight\" + 0.027*\"fuel\" + '\n",
      "  '0.026*\"fly\" + 0.023*\"remote\"'),\n",
      " (17,\n",
      "  '0.217*\"law\" + 0.070*\"block\" + 0.051*\"ulte\" + 0.033*\"ignal\" + 0.029*\"afety\" '\n",
      "  '+ 0.028*\"decent\" + 0.025*\"rsa\" + 0.024*\"export\" + 0.022*\"lamic\" + '\n",
      "  '0.019*\"ban\"'),\n",
      " (18,\n",
      "  '0.053*\"attack\" + 0.049*\"kill\" + 0.044*\"village\" + 0.042*\"murder\" + '\n",
      "  '0.039*\"armenian\" + 0.034*\"occupy\" + 0.034*\"period\" + 0.032*\"trial\" + '\n",
      "  '0.023*\"mou\" + 0.023*\"death\"'),\n",
      " (19,\n",
      "  '0.090*\"window\" + 0.072*\"card\" + 0.061*\"machine\" + 0.061*\"bit\" + 0.057*\"run\" '\n",
      "  '+ 0.056*\"driver\" + 0.036*\"memory\" + 0.029*\"function\" + 0.028*\"mode\" + '\n",
      "  '0.027*\"olution\"')]\n"
     ]
    }
   ],
   "source": [
    "# Print the Keyword in the 10 topics\n",
    "pprint(lda_model.print_topics())\n",
    "doc_lda = lda_model[corpus]"
   ]
  },
  {
   "cell_type": "markdown",
   "metadata": {},
   "source": [
    "#### Compute Model Perplexity and Coherence Score"
   ]
  },
  {
   "cell_type": "code",
   "execution_count": 13,
   "metadata": {},
   "outputs": [
    {
     "name": "stdout",
     "output_type": "stream",
     "text": [
      "\n",
      "Perplexity:  -12.824847169458021\n",
      "\n",
      "Coherence Score:  0.457559041198892\n"
     ]
    }
   ],
   "source": [
    "# Compute Perplexity\n",
    "print('\\nPerplexity: ', lda_model.log_perplexity(corpus))  # a measure of how good the model is. lower the better.\n",
    "\n",
    "# Compute Coherence Score\n",
    "coherence_model_lda = CoherenceModel(model=lda_model, texts=data_lemmatized, dictionary=id2word, coherence='c_v')\n",
    "coherence_lda = coherence_model_lda.get_coherence()\n",
    "print('\\nCoherence Score: ', coherence_lda)"
   ]
  },
  {
   "cell_type": "markdown",
   "metadata": {},
   "source": [
    "#### Visualize the topics-keywords"
   ]
  },
  {
   "cell_type": "code",
   "execution_count": 15,
   "metadata": {},
   "outputs": [
    {
     "name": "stderr",
     "output_type": "stream",
     "text": [
      "/home/sandeep/anaconda3/lib/python3.8/site-packages/pyLDAvis/_prepare.py:257: FutureWarning: Sorting because non-concatenation axis is not aligned. A future version\n",
      "of pandas will change to not sort by default.\n",
      "\n",
      "To accept the future behavior, pass 'sort=False'.\n",
      "\n",
      "To retain the current behavior and silence the warning, pass 'sort=True'.\n",
      "\n",
      "  return pd.concat([default_term_info] + list(topic_dfs))\n"
     ]
    },
    {
     "data": {
      "text/html": [
       "\n",
       "<link rel=\"stylesheet\" type=\"text/css\" href=\"https://cdn.rawgit.com/bmabey/pyLDAvis/files/ldavis.v1.0.0.css\">\n",
       "\n",
       "\n",
       "<div id=\"ldavis_el52941405355742451523983938225\"></div>\n",
       "<script type=\"text/javascript\">\n",
       "\n",
       "var ldavis_el52941405355742451523983938225_data = {\"mdsDat\": {\"x\": [0.3363694932412464, 0.30537892771191927, 0.22937834347139488, 0.19134098642424285, 0.10900985888025484, 0.19635548547887527, 0.0530458440562384, 0.07377668826295737, -0.03715067486662822, -0.010436248716355257, -0.0728247350915612, -0.07078059389073223, -0.06629227466725733, -0.15793433449319172, -0.16626028281525562, -0.16250063071479723, -0.16822429763985594, -0.1825952997386555, -0.18190834670732367, -0.21774790818551618], \"y\": [-0.1322145675233158, -0.1395729902196489, -0.14428904940057716, 0.05321144502623893, 0.33166163501301194, -0.005973174795888387, 0.1818096942706033, 0.024625983009432164, 0.0908395338106847, 0.10734198057756517, 0.027387704744093643, 0.029929192871550866, -0.035441143981032756, -0.0474354824394462, -0.04371370643497703, -0.0550383207982849, -0.05241039173099287, -0.059626565912803464, -0.05931465231765475, -0.07177712376855756], \"topics\": [1, 2, 3, 4, 5, 6, 7, 8, 9, 10, 11, 12, 13, 14, 15, 16, 17, 18, 19, 20], \"cluster\": [1, 1, 1, 1, 1, 1, 1, 1, 1, 1, 1, 1, 1, 1, 1, 1, 1, 1, 1, 1], \"Freq\": [30.22074317932129, 18.28277587890625, 8.775468826293945, 8.02285099029541, 7.670539855957031, 7.134678840637207, 3.9691600799560547, 3.356928825378418, 2.3887245655059814, 2.3366825580596924, 1.504276156425476, 1.4082705974578857, 1.178024411201477, 0.7498691082000732, 0.6708663702011108, 0.6033093333244324, 0.5882343053817749, 0.4962654709815979, 0.4864051043987274, 0.15592168271541595]}, \"tinfo\": {\"Category\": [\"Default\", \"Default\", \"Default\", \"Default\", \"Default\", \"Default\", \"Default\", \"Default\", \"Default\", \"Default\", \"Default\", \"Default\", \"Default\", \"Default\", \"Default\", \"Default\", \"Default\", \"Default\", \"Default\", \"Default\", \"Default\", \"Default\", \"Default\", \"Default\", \"Default\", \"Default\", \"Default\", \"Default\", \"Default\", \"Default\", \"Topic1\", \"Topic1\", \"Topic1\", \"Topic1\", \"Topic1\", \"Topic1\", \"Topic1\", \"Topic1\", \"Topic1\", \"Topic1\", \"Topic1\", \"Topic1\", \"Topic1\", \"Topic1\", \"Topic1\", \"Topic1\", \"Topic1\", \"Topic1\", \"Topic1\", \"Topic1\", \"Topic1\", \"Topic1\", \"Topic1\", \"Topic1\", \"Topic1\", \"Topic1\", \"Topic1\", \"Topic1\", \"Topic1\", \"Topic1\", \"Topic1\", \"Topic1\", \"Topic1\", \"Topic1\", \"Topic1\", \"Topic1\", \"Topic1\", \"Topic1\", \"Topic1\", \"Topic1\", \"Topic1\", \"Topic1\", \"Topic1\", \"Topic1\", \"Topic1\", \"Topic1\", \"Topic1\", \"Topic1\", \"Topic1\", \"Topic1\", \"Topic1\", \"Topic1\", \"Topic1\", \"Topic1\", \"Topic1\", \"Topic1\", \"Topic1\", \"Topic1\", \"Topic1\", \"Topic1\", \"Topic2\", \"Topic2\", \"Topic2\", \"Topic2\", \"Topic2\", \"Topic2\", \"Topic2\", \"Topic2\", \"Topic2\", \"Topic2\", \"Topic2\", \"Topic2\", \"Topic2\", \"Topic2\", \"Topic2\", \"Topic2\", \"Topic2\", \"Topic2\", \"Topic2\", \"Topic2\", \"Topic2\", \"Topic2\", \"Topic2\", \"Topic2\", \"Topic2\", \"Topic2\", \"Topic2\", \"Topic2\", \"Topic2\", \"Topic2\", \"Topic2\", \"Topic2\", \"Topic2\", \"Topic2\", \"Topic2\", \"Topic2\", \"Topic2\", \"Topic2\", \"Topic2\", \"Topic2\", \"Topic2\", \"Topic2\", \"Topic2\", \"Topic2\", \"Topic2\", \"Topic2\", \"Topic2\", \"Topic2\", \"Topic2\", \"Topic2\", \"Topic2\", \"Topic2\", \"Topic2\", \"Topic2\", \"Topic2\", \"Topic2\", \"Topic2\", \"Topic2\", \"Topic3\", \"Topic3\", \"Topic3\", \"Topic3\", \"Topic3\", \"Topic3\", \"Topic3\", \"Topic3\", \"Topic3\", \"Topic3\", \"Topic3\", \"Topic3\", \"Topic3\", \"Topic3\", \"Topic3\", \"Topic3\", \"Topic3\", \"Topic3\", \"Topic3\", \"Topic3\", \"Topic3\", \"Topic3\", \"Topic3\", \"Topic3\", \"Topic3\", \"Topic3\", \"Topic3\", \"Topic3\", \"Topic3\", \"Topic3\", \"Topic3\", \"Topic3\", \"Topic3\", \"Topic3\", \"Topic3\", \"Topic3\", \"Topic3\", \"Topic3\", \"Topic3\", \"Topic3\", \"Topic3\", \"Topic3\", \"Topic3\", \"Topic3\", \"Topic3\", \"Topic3\", \"Topic3\", \"Topic3\", \"Topic3\", \"Topic3\", \"Topic3\", \"Topic3\", \"Topic3\", \"Topic3\", \"Topic3\", \"Topic3\", \"Topic3\", \"Topic4\", \"Topic4\", \"Topic4\", \"Topic4\", \"Topic4\", \"Topic4\", \"Topic4\", \"Topic4\", \"Topic4\", \"Topic4\", \"Topic4\", \"Topic4\", \"Topic4\", \"Topic4\", \"Topic4\", \"Topic4\", \"Topic4\", \"Topic4\", \"Topic4\", \"Topic4\", \"Topic4\", \"Topic4\", \"Topic4\", \"Topic4\", \"Topic4\", \"Topic4\", \"Topic4\", \"Topic4\", \"Topic4\", \"Topic4\", \"Topic4\", \"Topic4\", \"Topic4\", \"Topic4\", \"Topic4\", \"Topic4\", \"Topic4\", \"Topic4\", \"Topic4\", \"Topic4\", \"Topic4\", \"Topic4\", \"Topic4\", \"Topic4\", \"Topic4\", \"Topic4\", \"Topic4\", \"Topic4\", \"Topic4\", \"Topic4\", \"Topic4\", \"Topic4\", \"Topic5\", \"Topic5\", \"Topic5\", \"Topic5\", \"Topic5\", \"Topic5\", \"Topic5\", \"Topic5\", \"Topic5\", \"Topic5\", \"Topic5\", \"Topic5\", \"Topic5\", \"Topic5\", \"Topic5\", \"Topic5\", \"Topic5\", \"Topic5\", \"Topic5\", \"Topic5\", \"Topic5\", \"Topic5\", \"Topic5\", \"Topic5\", \"Topic5\", \"Topic5\", \"Topic5\", \"Topic5\", \"Topic5\", \"Topic5\", \"Topic5\", \"Topic5\", \"Topic5\", \"Topic5\", \"Topic5\", \"Topic5\", \"Topic5\", \"Topic5\", \"Topic5\", \"Topic5\", \"Topic5\", \"Topic5\", \"Topic5\", \"Topic5\", \"Topic5\", \"Topic5\", \"Topic5\", \"Topic5\", \"Topic5\", \"Topic6\", \"Topic6\", \"Topic6\", \"Topic6\", \"Topic6\", \"Topic6\", \"Topic6\", \"Topic6\", \"Topic6\", \"Topic6\", \"Topic6\", \"Topic6\", \"Topic6\", \"Topic6\", \"Topic6\", \"Topic6\", \"Topic6\", \"Topic6\", \"Topic6\", \"Topic6\", \"Topic6\", \"Topic6\", \"Topic6\", \"Topic6\", \"Topic6\", \"Topic6\", \"Topic6\", \"Topic6\", \"Topic6\", \"Topic6\", \"Topic6\", \"Topic6\", \"Topic6\", \"Topic6\", \"Topic6\", \"Topic6\", \"Topic6\", \"Topic6\", \"Topic6\", \"Topic6\", \"Topic6\", \"Topic6\", \"Topic6\", \"Topic6\", \"Topic6\", \"Topic6\", \"Topic6\", \"Topic6\", \"Topic6\", \"Topic6\", \"Topic6\", \"Topic6\", \"Topic7\", \"Topic7\", \"Topic7\", \"Topic7\", \"Topic7\", \"Topic7\", \"Topic7\", \"Topic7\", \"Topic7\", \"Topic7\", \"Topic7\", \"Topic7\", \"Topic7\", \"Topic7\", \"Topic7\", \"Topic7\", \"Topic7\", \"Topic7\", \"Topic7\", \"Topic7\", \"Topic7\", \"Topic7\", \"Topic7\", \"Topic7\", \"Topic7\", \"Topic7\", \"Topic7\", \"Topic7\", \"Topic7\", \"Topic7\", \"Topic7\", \"Topic7\", \"Topic7\", \"Topic7\", \"Topic7\", \"Topic7\", \"Topic7\", \"Topic7\", \"Topic7\", \"Topic7\", \"Topic7\", \"Topic8\", \"Topic8\", \"Topic8\", \"Topic8\", \"Topic8\", \"Topic8\", \"Topic8\", \"Topic8\", \"Topic8\", \"Topic8\", \"Topic8\", \"Topic8\", \"Topic8\", \"Topic8\", \"Topic8\", \"Topic8\", \"Topic8\", \"Topic8\", \"Topic8\", \"Topic8\", \"Topic8\", \"Topic8\", \"Topic8\", \"Topic8\", \"Topic8\", \"Topic8\", \"Topic8\", \"Topic8\", \"Topic8\", \"Topic8\", \"Topic8\", \"Topic8\", \"Topic8\", \"Topic8\", \"Topic8\", \"Topic8\", \"Topic8\", \"Topic8\", \"Topic8\", \"Topic8\", \"Topic9\", \"Topic9\", \"Topic9\", \"Topic9\", \"Topic9\", \"Topic9\", \"Topic9\", \"Topic9\", \"Topic9\", \"Topic9\", \"Topic9\", \"Topic9\", \"Topic9\", \"Topic9\", \"Topic9\", \"Topic9\", \"Topic9\", \"Topic9\", \"Topic9\", \"Topic9\", \"Topic9\", \"Topic9\", \"Topic9\", \"Topic9\", \"Topic9\", \"Topic9\", \"Topic9\", \"Topic9\", \"Topic9\", \"Topic9\", \"Topic9\", \"Topic9\", \"Topic9\", \"Topic9\", \"Topic9\", \"Topic9\", \"Topic10\", \"Topic10\", \"Topic10\", \"Topic10\", \"Topic10\", \"Topic10\", \"Topic10\", \"Topic10\", \"Topic10\", \"Topic10\", \"Topic10\", \"Topic10\", \"Topic10\", \"Topic10\", \"Topic10\", \"Topic10\", \"Topic10\", \"Topic10\", \"Topic10\", \"Topic10\", \"Topic10\", \"Topic10\", \"Topic10\", \"Topic10\", \"Topic10\", \"Topic10\", \"Topic10\", \"Topic10\", \"Topic10\", \"Topic10\", \"Topic10\", \"Topic10\", \"Topic10\", \"Topic10\", \"Topic10\", \"Topic10\", \"Topic10\", \"Topic10\", \"Topic10\", \"Topic11\", \"Topic11\", \"Topic11\", \"Topic11\", \"Topic11\", \"Topic11\", \"Topic11\", \"Topic11\", \"Topic11\", \"Topic11\", \"Topic11\", \"Topic11\", \"Topic11\", \"Topic11\", \"Topic11\", \"Topic11\", \"Topic11\", \"Topic11\", \"Topic11\", \"Topic11\", \"Topic11\", \"Topic11\", \"Topic11\", \"Topic11\", \"Topic11\", \"Topic11\", \"Topic11\", \"Topic11\", \"Topic11\", \"Topic11\", \"Topic11\", \"Topic11\", \"Topic12\", \"Topic12\", \"Topic12\", \"Topic12\", \"Topic12\", \"Topic12\", \"Topic12\", \"Topic12\", \"Topic12\", \"Topic12\", \"Topic12\", \"Topic12\", \"Topic12\", \"Topic12\", \"Topic12\", \"Topic12\", \"Topic12\", \"Topic12\", \"Topic12\", \"Topic12\", \"Topic12\", \"Topic12\", \"Topic12\", \"Topic12\", \"Topic12\", \"Topic12\", \"Topic12\", \"Topic12\", \"Topic12\", \"Topic12\", \"Topic12\", \"Topic12\", \"Topic12\", \"Topic12\", \"Topic12\", \"Topic12\", \"Topic12\", \"Topic12\", \"Topic12\", \"Topic12\", \"Topic12\", \"Topic12\", \"Topic12\", \"Topic13\", \"Topic13\", \"Topic13\", \"Topic13\", \"Topic13\", \"Topic13\", \"Topic13\", \"Topic13\", \"Topic13\", \"Topic13\", \"Topic13\", \"Topic13\", \"Topic13\", \"Topic13\", \"Topic13\", \"Topic13\", \"Topic13\", \"Topic13\", \"Topic13\", \"Topic13\", \"Topic13\", \"Topic13\", \"Topic13\", \"Topic13\", \"Topic13\", \"Topic13\", \"Topic13\", \"Topic13\", \"Topic13\", \"Topic13\", \"Topic13\", \"Topic13\", \"Topic13\", \"Topic13\", \"Topic13\", \"Topic13\", \"Topic13\", \"Topic13\", \"Topic13\", \"Topic13\", \"Topic13\", \"Topic14\", \"Topic14\", \"Topic14\", \"Topic14\", \"Topic14\", \"Topic14\", \"Topic14\", \"Topic14\", \"Topic14\", \"Topic14\", \"Topic14\", \"Topic14\", \"Topic14\", \"Topic14\", \"Topic14\", \"Topic14\", \"Topic14\", \"Topic14\", \"Topic14\", \"Topic14\", \"Topic14\", \"Topic14\", \"Topic14\", \"Topic14\", \"Topic14\", \"Topic14\", \"Topic14\", \"Topic14\", \"Topic14\", \"Topic14\", \"Topic14\", \"Topic15\", \"Topic15\", \"Topic15\", \"Topic15\", \"Topic15\", \"Topic15\", \"Topic15\", \"Topic15\", \"Topic15\", \"Topic15\", \"Topic15\", \"Topic15\", \"Topic15\", \"Topic15\", \"Topic15\", \"Topic15\", \"Topic15\", \"Topic15\", \"Topic15\", \"Topic15\", \"Topic15\", \"Topic15\", \"Topic15\", \"Topic15\", \"Topic15\", \"Topic15\", \"Topic15\", \"Topic15\", \"Topic15\", \"Topic15\", \"Topic15\", \"Topic15\", \"Topic15\", \"Topic16\", \"Topic16\", \"Topic16\", \"Topic16\", \"Topic16\", \"Topic16\", \"Topic16\", \"Topic16\", \"Topic16\", \"Topic16\", \"Topic16\", \"Topic16\", \"Topic16\", \"Topic16\", \"Topic16\", \"Topic16\", \"Topic16\", \"Topic16\", \"Topic16\", \"Topic16\", \"Topic16\", \"Topic16\", \"Topic16\", \"Topic16\", \"Topic16\", \"Topic16\", \"Topic16\", \"Topic16\", \"Topic16\", \"Topic16\", \"Topic16\", \"Topic16\", \"Topic16\", \"Topic17\", \"Topic17\", \"Topic17\", \"Topic17\", \"Topic17\", \"Topic17\", \"Topic17\", \"Topic17\", \"Topic17\", \"Topic17\", \"Topic17\", \"Topic17\", \"Topic17\", \"Topic17\", \"Topic17\", \"Topic17\", \"Topic17\", \"Topic17\", \"Topic17\", \"Topic17\", \"Topic17\", \"Topic17\", \"Topic17\", \"Topic17\", \"Topic17\", \"Topic17\", \"Topic17\", \"Topic17\", \"Topic17\", \"Topic17\", \"Topic18\", \"Topic18\", \"Topic18\", \"Topic18\", \"Topic18\", \"Topic18\", \"Topic18\", \"Topic18\", \"Topic18\", \"Topic18\", \"Topic18\", \"Topic18\", \"Topic18\", \"Topic18\", \"Topic18\", \"Topic18\", \"Topic18\", \"Topic18\", \"Topic18\", \"Topic18\", \"Topic18\", \"Topic18\", \"Topic18\", \"Topic18\", \"Topic18\", \"Topic18\", \"Topic18\", \"Topic18\", \"Topic18\", \"Topic18\", \"Topic18\", \"Topic18\", \"Topic19\", \"Topic19\", \"Topic19\", \"Topic19\", \"Topic19\", \"Topic19\", \"Topic19\", \"Topic19\", \"Topic19\", \"Topic19\", \"Topic19\", \"Topic19\", \"Topic19\", \"Topic19\", \"Topic19\", \"Topic19\", \"Topic19\", \"Topic19\", \"Topic19\", \"Topic19\", \"Topic19\", \"Topic19\", \"Topic19\", \"Topic19\", \"Topic19\", \"Topic19\", \"Topic19\", \"Topic19\", \"Topic19\", \"Topic19\", \"Topic19\", \"Topic20\", \"Topic20\", \"Topic20\", \"Topic20\", \"Topic20\", \"Topic20\", \"Topic20\", \"Topic20\", \"Topic20\", \"Topic20\", \"Topic20\", \"Topic20\", \"Topic20\", \"Topic20\", \"Topic20\", \"Topic20\", \"Topic20\", \"Topic20\", \"Topic20\", \"Topic20\", \"Topic20\", \"Topic20\", \"Topic20\", \"Topic20\", \"Topic20\", \"Topic20\", \"Topic20\", \"Topic20\", \"Topic20\", \"Topic20\", \"Topic20\", \"Topic20\", \"Topic20\", \"Topic20\", \"Topic20\", \"Topic20\", \"Topic20\", \"Topic20\", \"Topic20\", \"Topic20\", \"Topic20\", \"Topic20\"], \"Freq\": [14865.0, 10920.0, 9590.0, 8615.0, 16857.0, 7843.0, 5205.0, 4141.0, 3950.0, 1998.0, 7073.0, 7741.0, 2702.0, 3725.0, 2464.0, 10081.0, 6598.0, 2738.0, 2046.0, 1725.0, 8548.0, 2679.0, 8224.0, 1869.0, 2129.0, 1541.0, 2713.0, 1870.0, 1243.0, 6576.0, 7739.88916015625, 4141.52294921875, 4026.366455078125, 2944.01025390625, 2770.77490234375, 3931.482421875, 1909.9783935546875, 1877.168212890625, 1752.4088134765625, 979.2945556640625, 947.2808837890625, 909.8368530273438, 888.16650390625, 839.7875366210938, 834.4683837890625, 813.7221069335938, 736.4614868164062, 735.63427734375, 697.697021484375, 696.6273803710938, 585.9475708007812, 583.8328247070312, 1690.584228515625, 539.908935546875, 538.9725341796875, 535.184814453125, 528.5780029296875, 528.374267578125, 521.5026245117188, 515.5466918945312, 2934.81591796875, 1817.8089599609375, 6340.54150390625, 4291.6044921875, 3534.10498046875, 4152.4931640625, 4783.2373046875, 1284.97900390625, 15105.505859375, 7809.6396484375, 9018.634765625, 4179.04541015625, 3627.298828125, 3800.897216796875, 2137.68798828125, 1719.7664794921875, 2767.03955078125, 3219.126953125, 4222.15185546875, 1363.456787109375, 4872.10107421875, 3020.42431640625, 5592.92822265625, 2946.207275390625, 4104.92919921875, 2849.0205078125, 4078.934326171875, 2442.306640625, 2643.086669921875, 2509.867919921875, 7842.3681640625, 3217.1904296875, 2311.98486328125, 1891.068115234375, 1475.296630859375, 1214.9176025390625, 1188.571533203125, 1066.7730712890625, 1051.70458984375, 1017.1590576171875, 1010.8506469726562, 921.1973266601562, 836.4094848632812, 834.876220703125, 793.296630859375, 642.4164428710938, 636.2086181640625, 596.1046142578125, 590.0306396484375, 575.6121215820312, 548.1859130859375, 513.1683959960938, 485.72222900390625, 479.4229431152344, 477.7885437011719, 450.0404357910156, 422.0563049316406, 421.8524475097656, 419.4383239746094, 398.7701110839844, 3550.07666015625, 1283.5264892578125, 927.916259765625, 1681.118408203125, 700.2490234375, 1279.923828125, 2122.343505859375, 985.3154907226562, 3717.677001953125, 1701.8931884765625, 790.530517578125, 2740.805419921875, 3124.410888671875, 4144.6669921875, 3377.506103515625, 1530.307373046875, 1948.0545654296875, 1809.0521240234375, 1195.40673828125, 1128.060302734375, 2426.3017578125, 1666.4495849609375, 1296.9932861328125, 1376.95849609375, 1215.422119140625, 1750.6676025390625, 1302.848388671875, 1159.0394287109375, 2712.80224609375, 1196.140380859375, 1024.4847412109375, 1113.8935546875, 1006.9496459960938, 987.0912475585938, 765.5061645507812, 721.3207397460938, 720.716552734375, 677.234619140625, 526.8084716796875, 513.2459106445312, 504.9957275390625, 491.376953125, 483.8191223144531, 481.76611328125, 472.6619873046875, 436.94537353515625, 433.61431884765625, 418.1635437011719, 417.5084533691406, 386.61773681640625, 384.5262145996094, 370.405029296875, 356.4768981933594, 344.6226806640625, 343.8402099609375, 335.78045654296875, 333.6237487792969, 311.86669921875, 1990.8740234375, 417.4776916503906, 522.287841796875, 685.3599853515625, 730.6549682617188, 1123.0145263671875, 722.5654907226562, 2117.7353515625, 820.1069946289062, 1229.889892578125, 1310.8311767578125, 662.0975952148438, 2819.633056640625, 549.5681762695312, 612.53662109375, 1114.3958740234375, 944.5603637695312, 737.0172729492188, 1187.954833984375, 1280.2615966796875, 1293.4537353515625, 802.0811157226562, 898.0407104492188, 828.1751708984375, 711.0689697265625, 916.3009643554688, 747.1679077148438, 4140.126953125, 2066.47265625, 1117.663818359375, 1109.194091796875, 1072.203125, 744.9104614257812, 742.97802734375, 564.0712280273438, 551.989501953125, 518.1580810546875, 494.2059631347656, 489.3365173339844, 463.76397705078125, 462.16729736328125, 455.46893310546875, 451.5364074707031, 409.02532958984375, 403.0239562988281, 399.1174621582031, 387.3420715332031, 387.0225524902344, 381.39886474609375, 376.89697265625, 371.1957702636719, 360.3695068359375, 358.9894104003906, 349.9342956542969, 338.18048095703125, 333.48724365234375, 333.4068298339844, 765.0382080078125, 820.1475219726562, 1480.703125, 1696.7879638671875, 1132.0657958984375, 673.7553100585938, 1281.0767822265625, 675.6002807617188, 1038.92578125, 1154.674072265625, 1076.8790283203125, 1383.742919921875, 1194.6182861328125, 2129.8564453125, 918.216064453125, 954.805419921875, 1061.5006103515625, 752.7275390625, 748.5266723632812, 608.0819091796875, 761.84521484375, 659.594970703125, 10919.365234375, 9589.7138671875, 8614.0146484375, 3949.271728515625, 1052.831298828125, 546.290771484375, 372.414794921875, 332.7813415527344, 308.919921875, 260.931396484375, 251.97401428222656, 244.9969940185547, 233.4907989501953, 233.11390686035156, 223.40695190429688, 196.4889373779297, 196.43325805664062, 189.93922424316406, 175.8956756591797, 175.7239227294922, 162.74925231933594, 160.97235107421875, 151.24697875976562, 141.7711181640625, 141.40008544921875, 129.88900756835938, 123.0674819946289, 115.22029113769531, 112.00736999511719, 105.67105865478516, 2083.911376953125, 446.18817138671875, 13770.2041015625, 4807.96630859375, 260.329833984375, 449.3642272949219, 936.9722900390625, 615.0079956054688, 387.4906005859375, 289.713623046875, 800.0576782226562, 417.20745849609375, 290.68609619140625, 587.01806640625, 292.75079345703125, 316.1617736816406, 361.82080078125, 295.81390380859375, 262.8990478515625, 2678.6005859375, 2290.990234375, 1585.9189453125, 1205.520263671875, 993.8056640625, 966.4635009765625, 906.8572387695312, 769.720703125, 682.2860717773438, 680.0730590820312, 553.279052734375, 502.63055419921875, 499.0928955078125, 489.4034423828125, 489.0799865722656, 427.6753234863281, 425.193359375, 398.81719970703125, 387.2799072265625, 347.05133056640625, 335.13519287109375, 319.625244140625, 310.2969665527344, 305.05108642578125, 275.02581787109375, 254.3057098388672, 240.222900390625, 233.46099853515625, 218.57908630371094, 218.5172576904297, 716.9857177734375, 2010.122314453125, 2342.228515625, 630.0264282226562, 822.0100708007812, 819.8414306640625, 652.1084594726562, 557.4462890625, 582.9390869140625, 966.2008056640625, 1978.513671875, 1648.1383056640625, 1150.562744140625, 818.07080078125, 566.4544067382812, 994.949951171875, 599.5866088867188, 982.33203125, 855.0897216796875, 732.787353515625, 835.5576171875, 610.90576171875, 2701.2744140625, 1571.00390625, 1399.5091552734375, 1210.9429931640625, 1177.228515625, 1094.2291259765625, 894.3372802734375, 786.7786254882812, 769.0460205078125, 727.5092163085938, 599.7877197265625, 567.3201293945312, 502.9393310546875, 484.711669921875, 435.3708801269531, 367.2817077636719, 352.2283630371094, 325.6866149902344, 324.5757751464844, 306.05450439453125, 301.2799377441406, 289.6248779296875, 283.84002685546875, 275.8943176269531, 275.7949523925781, 274.1397705078125, 257.08392333984375, 253.3027801513672, 248.5618133544922, 234.17340087890625, 490.359130859375, 822.2164916992188, 1072.2677001953125, 567.062744140625, 849.9229125976562, 649.4047241210938, 343.1710510253906, 334.4197692871094, 480.7308654785156, 469.392822265625, 319.2179260253906, 2462.953857421875, 1453.2584228515625, 1268.775146484375, 780.927490234375, 723.4346313476562, 600.4778442382812, 588.0758056640625, 544.733642578125, 493.76434326171875, 466.0649719238281, 453.3443603515625, 409.0289001464844, 403.0412292480469, 392.0504150390625, 368.4506530761719, 317.7996826171875, 316.9578552246094, 313.2307434082031, 285.1772766113281, 271.8280334472656, 269.4743957519531, 261.0520935058594, 255.1136016845703, 247.5592498779297, 246.72119140625, 199.39060974121094, 177.5897979736328, 174.30641174316406, 170.0196990966797, 164.30575561523438, 387.9403076171875, 1911.3790283203125, 435.63104248046875, 494.4765319824219, 508.2268371582031, 571.6549682617188, 313.7921447753906, 569.142822265625, 310.1715393066406, 285.3911437988281, 1437.1917724609375, 1361.09033203125, 778.4810791015625, 609.436767578125, 520.5349731445312, 507.25079345703125, 500.5799560546875, 465.78656005859375, 461.1869812011719, 458.0479736328125, 442.7149963378906, 434.9767761230469, 434.8679504394531, 389.4935607910156, 385.8414001464844, 377.9508972167969, 300.83355712890625, 285.0563659667969, 283.55194091796875, 280.0942687988281, 262.6218566894531, 260.9511413574219, 234.700439453125, 221.03970336914062, 202.72183227539062, 190.2993621826172, 183.1660919189453, 182.3873291015625, 178.0103302001953, 176.3843994140625, 761.8526611328125, 385.54345703125, 332.41387939453125, 321.14581298828125, 197.67486572265625, 215.1825714111328, 2045.064697265625, 1630.115966796875, 1263.597412109375, 824.0946655273438, 1384.5308837890625, 663.7205810546875, 636.1583251953125, 617.7120361328125, 613.4622192382812, 530.666748046875, 449.3459777832031, 390.9201354980469, 301.37506103515625, 249.7711944580078, 228.22230529785156, 206.69635009765625, 200.24696350097656, 189.2024688720703, 182.94375610351562, 181.72393798828125, 156.2343292236328, 147.60528564453125, 145.97080993652344, 137.4795379638672, 122.08121490478516, 114.12117004394531, 105.34162902832031, 101.23656463623047, 96.04039001464844, 86.55718994140625, 1383.43896484375, 618.916015625, 1296.6116943359375, 539.5004272460938, 505.4720764160156, 268.9471740722656, 192.67178344726562, 188.7913818359375, 149.960693359375, 1151.065673828125, 1013.8145751953125, 924.27734375, 648.1238403320312, 615.1495971679688, 510.94189453125, 504.5838623046875, 481.6361389160156, 479.48968505859375, 467.38494873046875, 375.3520812988281, 304.1198425292969, 224.50950622558594, 206.24156188964844, 196.8219451904297, 185.4029083251953, 184.85195922851562, 170.08297729492188, 164.32421875, 155.0665283203125, 150.95211791992188, 135.41729736328125, 132.98983764648438, 129.86465454101562, 124.95218658447266, 117.3941650390625, 112.37667083740234, 109.82881164550781, 100.30030822753906, 83.03723907470703, 281.2362365722656, 203.602783203125, 1723.9197998046875, 1540.44189453125, 1129.9964599609375, 949.2254028320312, 588.1292724609375, 441.4299621582031, 253.06759643554688, 186.8303680419922, 167.3910675048828, 162.54420471191406, 134.75428771972656, 108.76472473144531, 107.39803314208984, 104.4875259399414, 104.4258041381836, 73.75807189941406, 56.70817184448242, 56.53432846069336, 55.102596282958984, 45.78450012207031, 45.6373291015625, 38.35594177246094, 36.09912872314453, 34.11524963378906, 33.11262130737305, 32.775482177734375, 32.01826477050781, 30.840394973754883, 23.973268508911133, 14.711837768554688, 245.96470642089844, 383.1778564453125, 1328.4188232421875, 175.39962768554688, 123.90800476074219, 126.9350814819336, 103.0319595336914, 93.9378662109375, 101.44757843017578, 157.1623077392578, 87.29943084716797, 70.06816864013672, 63.06564712524414, 501.3470764160156, 484.6379699707031, 443.1888427734375, 387.7510070800781, 387.2302551269531, 369.69244384765625, 267.4045104980469, 239.29080200195312, 211.23431396484375, 182.3645782470703, 179.81553649902344, 167.28208923339844, 162.53712463378906, 146.139404296875, 145.31884765625, 140.16607666015625, 123.52520751953125, 102.86730194091797, 99.37855529785156, 91.09851837158203, 89.8662338256836, 89.80178833007812, 86.16735076904297, 65.43181610107422, 63.94963073730469, 56.541229248046875, 51.219268798828125, 50.706390380859375, 26.96807289123535, 26.444581985473633, 605.69482421875, 208.9961700439453, 565.0006103515625, 173.47024536132812, 264.0086975097656, 165.5055694580078, 155.69700622558594, 217.51023864746094, 136.4615936279297, 111.26303100585938, 108.70204162597656, 795.4157104492188, 661.2809448242188, 441.9523010253906, 270.44525146484375, 221.58673095703125, 210.13143920898438, 195.91311645507812, 163.6608123779297, 154.78175354003906, 152.54446411132812, 144.21026611328125, 140.43154907226562, 132.32237243652344, 129.2323760986328, 110.78655242919922, 110.0232925415039, 108.75399780273438, 85.02757263183594, 83.43854522705078, 80.38882446289062, 69.75599670410156, 64.93006896972656, 64.37181854248047, 54.79985809326172, 50.468204498291016, 47.39668655395508, 46.407859802246094, 46.005516052246094, 40.496681213378906, 39.801361083984375, 174.21725463867188, 1997.74609375, 564.1123657226562, 472.33575439453125, 298.6004638671875, 204.558837890625, 158.6650848388672, 129.5994415283203, 124.50030517578125, 95.77162170410156, 70.52517700195312, 43.883216857910156, 37.12864303588867, 31.295190811157227, 29.612899780273438, 22.177186965942383, 216.7699432373047, 0.058787863701581955, 0.05878642201423645, 0.05878312885761261, 0.058781325817108154, 0.05878210812807083, 0.05878135934472084, 0.058778636157512665, 0.0587846115231514, 0.05877944827079773, 0.05877675116062164, 0.05877931788563728, 0.058776143938302994, 0.0587773434817791, 0.05877673625946045, 3.412841796875, 0.058779727667570114, 0.05877690389752388, 430.0865173339844, 314.9878234863281, 297.7552185058594, 242.086181640625, 215.8929443359375, 189.12254333496094, 159.4234619140625, 155.1462860107422, 133.2116241455078, 130.37066650390625, 97.4901351928711, 94.54668426513672, 60.96043395996094, 58.77019500732422, 56.97282791137695, 45.44767761230469, 45.35240173339844, 43.87957000732422, 40.593101501464844, 37.57818603515625, 34.55741500854492, 31.86750030517578, 28.267396926879883, 28.231109619140625, 18.984594345092773, 18.686071395874023, 18.09109878540039, 15.874356269836426, 857.1148681640625, 72.70878601074219, 27.757177352905273, 34.8430290222168, 35.49130630493164, 1242.8203125, 399.6952819824219, 290.0769958496094, 190.8968505859375, 165.84048461914062, 162.67355346679688, 144.4621124267578, 135.18438720703125, 127.36051940917969, 107.1211929321289, 90.27655029296875, 89.35265350341797, 82.36417388916016, 76.78430938720703, 70.69912719726562, 67.83077239990234, 57.44538879394531, 56.385032653808594, 54.81028747558594, 54.44490051269531, 53.29507827758789, 51.602508544921875, 43.48524856567383, 31.74442481994629, 25.99193572998047, 23.75925064086914, 18.338329315185547, 16.069164276123047, 9.460598945617676, 6.701573371887207, 362.6152038574219, 298.0728759765625, 284.84588623046875, 274.666015625, 253.0936737060547, 221.19961547851562, 163.86959838867188, 132.86285400390625, 124.34076690673828, 119.0302734375, 108.49834442138672, 100.93399810791016, 92.75398254394531, 81.03950500488281, 70.470458984375, 70.33594512939453, 61.88266372680664, 46.87954330444336, 40.371055603027344, 39.49880599975586, 26.285480499267578, 25.037538528442383, 14.500288963317871, 13.978185653686523, 11.266529083251953, 10.623373031616211, 0.05164090916514397, 0.051640886813402176, 0.051641035825014114, 0.05163848400115967, 0.051638904958963394, 0.05163891986012459, 437.1416015625, 315.7920837402344, 243.21604919433594, 215.3845672607422, 205.89791870117188, 189.4015350341797, 186.91868591308594, 159.23829650878906, 153.929443359375, 147.88829040527344, 137.90057373046875, 80.31982421875, 78.31778717041016, 77.92929077148438, 60.249427795410156, 60.14417266845703, 57.861995697021484, 36.94015121459961, 30.244112014770508, 25.488338470458984, 25.11385726928711, 24.054397583007812, 23.95551109313965, 22.843347549438477, 7.205924034118652, 0.050185851752758026, 0.05017850920557976, 0.050178028643131256, 0.05017823725938797, 0.050178397446870804, 0.050180185586214066, 118.45575714111328, 93.75262451171875, 85.057373046875, 75.90626525878906, 29.777111053466797, 20.43878936767578, 17.55286407470703, 15.812451362609863, 12.905941009521484, 10.39551067352295, 6.159574031829834, 2.48565673828125, 0.029852360486984253, 0.029853008687496185, 0.02985306642949581, 0.0298516396433115, 0.0298515222966671, 0.029851580038666725, 0.0298515222966671, 0.0298515222966671, 0.029851524159312248, 0.0298515222966671, 0.0298515222966671, 0.0298515222966671, 0.029851524159312248, 0.029851529747247696, 0.029851654544472694, 0.02985154278576374, 0.029851946979761124, 0.02985154651105404, 0.0298529714345932, 0.029851777479052544, 0.029851777479052544, 0.029851628467440605, 0.029851621016860008, 0.029852159321308136, 0.029851725324988365, 0.02985193021595478, 0.02985154092311859, 0.02985159121453762, 0.029851553961634636, 0.029851576313376427], \"Term\": [\"line\", \"write\", \"com\", \"article\", \"would\", \"people\", \"ca\", \"year\", \"organization\", \"file\", \"may\", \"be\", \"drive\", \"problem\", \"key\", \"thi\", \"go\", \"run\", \"window\", \"team\", \"know\", \"program\", \"think\", \"play\", \"government\", \"game\", \"evidence\", \"bit\", \"law\", \"get\", \"be\", \"try\", \"have\", \"thank\", \"help\", \"look\", \"probably\", \"lot\", \"able\", \"univer_ity\", \"like\", \"home\", \"correct\", \"experience\", \"value\", \"tart\", \"appreciate\", \"tape\", \"friend\", \"cour\", \"nice\", \"replace\", \"talk\", \"directly\", \"fine\", \"drug\", \"een\", \"video\", \"recently\", \"claimer\", \"really\", \"omeone\", \"get\", \"want\", \"much\", \"ome\", \"work\", \"idea\", \"would\", \"know\", \"thi\", \"good\", \"find\", \"need\", \"omethe\", \"do\", \"ure\", \"problem\", \"could\", \"maybe\", \"time\", \"well\", \"make\", \"can\", \"may\", \"thing\", \"think\", \"end\", \"new\", \"give\", \"people\", \"aid\", \"man\", \"live\", \"rea\", \"world\", \"life\", \"bring\", \"whole\", \"love\", \"accept\", \"mind\", \"member\", \"ituation\", \"effect\", \"involve\", \"omething\", \"elve\", \"ke\", \"weapon\", \"country\", \"doubt\", \"lie\", \"family\", \"american\", \"tory\", \"hell\", \"treat\", \"bear\", \"greek\", \"right\", \"feel\", \"tho\", \"happen\", \"fire\", \"child\", \"never\", \"tate\", \"come\", \"day\", \"woman\", \"even\", \"take\", \"think\", \"go\", \"fact\", \"believe\", \"tell\", \"leave\", \"agree\", \"make\", \"many\", \"keep\", \"give\", \"mean\", \"would\", \"way\", \"thing\", \"evidence\", \"example\", \"prove\", \"view\", \"argument\", \"rule\", \"ition\", \"force\", \"regard\", \"particular\", \"deny\", \"define\", \"term\", \"therefore\", \"reduce\", \"con\", \"format\", \"indicate\", \"refer\", \"ignore\", \"material\", \"practice\", \"knowledge\", \"moral\", \"library\", \"weight\", \"nature\", \"particularly\", \"equence\", \"factor\", \"claim\", \"argue\", \"tatement\", \"imply\", \"human\", \"word\", \"clear\", \"point\", \"explain\", \"true\", \"however\", \"non\", \"may\", \"concern\", \"form\", \"part\", \"uch\", \"appear\", \"mean\", \"believe\", \"many\", \"rather\", \"follow\", \"provide\", \"require\", \"thi\", \"doe\", \"year\", \"car\", \"big\", \"week\", \"rate\", \"hit\", \"month\", \"mall\", \"amount\", \"hour\", \"guy\", \"total\", \"police\", \"pen\", \"dealer\", \"urance\", \"treatment\", \"half\", \"hort\", \"drop\", \"doctor\", \"pull\", \"mile\", \"average\", \"gateway\", \"quality\", \"kid\", \"front\", \"foot\", \"afe\", \"ound\", \"econd\", \"next\", \"high\", \"win\", \"head\", \"low\", \"hot\", \"large\", \"will\", \"bad\", \"run\", \"old\", \"go\", \"top\", \"little\", \"back\", \"lead\", \"clo\", \"cover\", \"fir\", \"number\", \"write\", \"com\", \"article\", \"organization\", \"nntp\", \"tin_ver\", \"white\", \"external\", \"hate\", \"thread\", \"tep\", \"keyword\", \"mirror\", \"att\", \"btw\", \"quick\", \"violence\", \"enjoy\", \"travel\", \"exact\", \"ver_ion\", \"trace\", \"reading\", \"ton\", \"correctly\", \"mph\", \"related\", \"uitable\", \"itively\", \"dirty\", \"reply\", \"clearly\", \"line\", \"ca\", \"ociate\", \"picture\", \"net\", \"eat\", \"watch\", \"choice\", \"opinion\", \"black\", \"delete\", \"will\", \"company\", \"contain\", \"ever\", \"new\", \"erve\", \"program\", \"mail\", \"available\", \"image\", \"datum\", \"email\", \"tribution\", \"copy\", \"input\", \"package\", \"phere\", \"object\", \"faq\", \"software\", \"contact\", \"technical\", \"oftware\", \"tool\", \"environment\", \"development\", \"plane\", \"ample\", \"output\", \"update\", \"multiple\", \"welcome\", \"background\", \"contribute\", \"archive\", \"map\", \"proce\", \"information\", \"include\", \"page\", \"ource\", \"info\", \"currently\", \"code\", \"product\", \"receive\", \"number\", \"ion\", \"name\", \"build\", \"hardware\", \"group\", \"application\", \"new\", \"age\", \"provide\", \"end\", \"tem\", \"drive\", \"buy\", \"co\", \"price\", \"pay\", \"money\", \"patient\", \"cheap\", \"port\", \"internet\", \"tation\", \"network\", \"unit\", \"performance\", \"ale\", \"crew\", \"market\", \"apple\", \"scsi\", \"warranty\", \"ell\", \"interface\", \"folk\", \"tax\", \"radio\", \"univ\", \"engineering\", \"tear\", \"magazine\", \"medical\", \"ervice\", \"offer\", \"hard\", \"pc\", \"computer\", \"ter\", \"owner\", \"throw\", \"ide\", \"old\", \"condition\", \"key\", \"public\", \"chip\", \"phone\", \"encryption\", \"wire\", \"private\", \"ecurity\", \"clipper\", \"longer\", \"state\", \"tap\", \"ecure\", \"route\", \"federal\", \"future\", \"purcha\", \"criminal\", \"prefer\", \"blank\", \"bill\", \"benefit\", \"de_igne\", \"protection\", \"dual\", \"privacy\", \"congre\", \"approve\", \"battery\", \"capacity\", \"legal\", \"government\", \"crime\", \"protect\", \"device\", \"technology\", \"willing\", \"tem\", \"acce\", \"provide\", \"power\", \"type\", \"bike\", \"monitor\", \"develop\", \"ride\", \"peed\", \"science\", \"advice\", \"ection\", \"mount\", \"operate\", \"ometime\", \"limit\", \"volume\", \"obtain\", \"rider\", \"manual\", \"operation\", \"tran_fer\", \"witch\", \"fairly\", \"tick\", \"properly\", \"compile\", \"laboratory\", \"corner\", \"employer\", \"immediate\", \"embly\", \"light\", \"ground\", \"addition\", \"fit\", \"excellent\", \"turn\", \"window\", \"card\", \"driver\", \"memory\", \"machine\", \"function\", \"mode\", \"talle\", \"creen\", \"character\", \"normal\", \"manager\", \"rational\", \"fax\", \"communication\", \"ram\", \"pointer\", \"direction\", \"font\", \"directory\", \"band\", \"button\", \"trivial\", \"icon\", \"electrical\", \"enable\", \"terminal\", \"kit\", \"micro_oft\", \"download\", \"bit\", \"olution\", \"run\", \"play\", \"problem\", \"application\", \"hardware\", \"acce\", \"win\", \"faith\", \"book\", \"religion\", \"truth\", \"belief\", \"cience\", \"body\", \"wing\", \"graphic\", \"author\", \"univer\", \"umption\", \"convert\", \"electronic\", \"language\", \"elle\", \"pecifically\", \"de_cription\", \"meaning\", \"capture\", \"origin\", \"majority\", \"explanation\", \"typically\", \"radiation\", \"derive\", \"found\", \"preach\", \"ert\", \"pure\", \"reject\", \"die\", \"team\", \"game\", \"gun\", \"player\", \"core\", \"trade\", \"cop\", \"tie\", \"leaf\", \"ice\", \"bet\", \"revolver\", \"utility\", \"penguin\", \"trigger\", \"flyer\", \"ey\", \"hair\", \"motion\", \"speak\", \"colt\", \"lemieux\", \"rifle\", \"captain\", \"ammunition\", \"void\", \"kinda\", \"reload\", \"fatal\", \"quid\", \"defen\", \"goal\", \"play\", \"final\", \"tat\", \"hot\", \"watch\", \"throw\", \"pick\", \"point\", \"owner\", \"record\", \"round\", \"village\", \"murder\", \"armenian\", \"occupy\", \"period\", \"trial\", \"mou\", \"civilian\", \"withdraw\", \"girl\", \"oldier\", \"ethnic\", \"cape\", \"proceed\", \"troop\", \"laughter\", \"innocent\", \"acre\", \"genocide\", \"occupation\", \"de_troye\", \"turk\", \"rape\", \"region\", \"nazi\", \"vol\", \"remainder\", \"cooperation\", \"exterminate\", \"laughtere\", \"attack\", \"population\", \"kill\", \"town\", \"death\", \"war\", \"tance\", \"government\", \"die\", \"child\", \"clo\", \"color\", \"model\", \"cpu\", \"community\", \"impact\", \"dept\", \"tank\", \"meeting\", \"predict\", \"reflect\", \"blow\", \"texa\", \"component\", \"depth\", \"pop\", \"environmental\", \"unable\", \"camera\", \"tic\", \"paint\", \"location\", \"compound\", \"station\", \"special\", \"tail\", \"adopt\", \"tag\", \"dynamic\", \"developer\", \"generic\", \"percent\", \"file\", \"entry\", \"field\", \"load\", \"telnet\", \"topic\", \"implementation\", \"configuration\", \"edit\", \"config\", \"needle\", \"biological\", \"de_tructive\", \"evidently\", \"allegedly\", \"contain\", \"winner\", \"entrie\", \"guideline\", \"remark\", \"title\", \"judge\", \"binary\", \"ripem\", \"client\", \"obfu_cated\", \"pecial\", \"creative\", \"award\", \"slip\", \"truction\", \"hould\", \"see\", \"engine\", \"launch\", \"space\", \"orbit\", \"vehicle\", \"flight\", \"fuel\", \"fly\", \"remote\", \"coverage\", \"lunar\", \"pacecraft\", \"atellite\", \"planetary\", \"motor\", \"gravity\", \"higher\", \"shuttle\", \"driving\", \"orbiter\", \"orbital\", \"acceleration\", \"schedule\", \"solar\", \"super_ede\", \"maneuver\", \"array\", \"relay\", \"pace\", \"earth\", \"chedule\", \"project\", \"plan\", \"law\", \"block\", \"ulte\", \"ignal\", \"afety\", \"decent\", \"rsa\", \"export\", \"lamic\", \"ban\", \"circuit\", \"algorithm\", \"voltage\", \"engage\", \"preferably\", \"cartridge\", \"offend\", \"nicely\", \"accuracy\", \"category\", \"employment\", \"ecular\", \"tent\", \"thumb\", \"combat\", \"privately\", \"ufficiently\", \"loop\", \"stuff_delete\", \"amplify\", \"fan\", \"medium\", \"pro\", \"tru\", \"pack\", \"vote\", \"sale\", \"tatu\", \"joke\", \"locate\", \"gatech\", \"expo\", \"flow\", \"la\", \"thoma\", \"european\", \"tarter\", \"retire\", \"diagno_tic\", \"domain\", \"dialog\", \"penaltie\", \"peripheral\", \"herb\", \"goalie\", \"donate\", \"uoregon\", \"ponce\", \"informed\", \"pale_tinian\", \"cooler\", \"ocket\", \"terrori\", \"internal\", \"reque\", \"letter\", \"procedure\", \"cable\", \"upgrade\", \"clock\", \"chri_tianity\", \"economic\", \"german\", \"brief\", \"hi_torical\", \"meter\", \"widget\", \"routine\", \"pec\", \"adapter\", \"functionality\", \"reflection\", \"poll\", \"floppie\", \"ilence\", \"ummarize\", \"callback\", \"lebane\", \"camp\", \"northern\", \"aim\", \"oldi\", \"raeli\", \"divi_ion\", \"dog\", \"organize\", \"bottom\", \"intelligence\", \"wound\", \"soviet\", \"cow\", \"serdar_argic\", \"fame\", \"elderly\", \"ther\", \"melpar\", \"license\", \"section\", \"retreat\", \"tabili\", \"dominance\", \"peck\", \"bugger\", \"tooth\", \"calf\", \"twi_ted\", \"accelleration\", \"heep\", \"armored\", \"biker\", \"tabli_hed\", \"leg\", \"height\", \"firearm\", \"applicant\", \"division\", \"principal\", \"rever\", \"pin\", \"treet\", \"slave\", \"leather\", \"fun\", \"person\", \"ink\"], \"Total\": [14865.0, 10920.0, 9590.0, 8615.0, 16857.0, 7843.0, 5205.0, 4141.0, 3950.0, 1998.0, 7073.0, 7741.0, 2702.0, 3725.0, 2464.0, 10081.0, 6598.0, 2738.0, 2046.0, 1725.0, 8548.0, 2679.0, 8224.0, 1869.0, 2129.0, 1541.0, 2713.0, 1870.0, 1243.0, 6576.0, 7741.02978515625, 4142.6650390625, 4027.50634765625, 2945.150146484375, 2771.914794921875, 3933.369140625, 1911.1180419921875, 1878.307861328125, 1753.5484619140625, 980.4343872070312, 948.4207153320312, 910.9766845703125, 889.3063354492188, 840.9273681640625, 835.6082153320312, 814.8619384765625, 737.601318359375, 736.7741088867188, 698.8368530273438, 697.7672119140625, 587.08740234375, 584.97265625, 1693.9630126953125, 541.0487670898438, 540.1123657226562, 536.3246459960938, 529.7178344726562, 529.5140991210938, 522.6424560546875, 516.6865234375, 2966.765869140625, 1840.1632080078125, 6576.623046875, 4438.06396484375, 3643.93603515625, 4305.6025390625, 5068.830078125, 1315.3546142578125, 16857.244140625, 8548.826171875, 10081.875, 4527.1142578125, 3901.875, 4183.1591796875, 2270.40087890625, 1825.313232421875, 3094.221435546875, 3725.67578125, 5073.35986328125, 1429.8551025390625, 6282.62939453125, 3693.62646484375, 8082.80322265625, 3669.449462890625, 7073.41748046875, 4009.131103515625, 8224.671875, 3279.06201171875, 4316.60693359375, 4047.33447265625, 7843.509765625, 3218.33154296875, 2313.1259765625, 1892.2088623046875, 1476.4373779296875, 1216.058349609375, 1189.7122802734375, 1067.913818359375, 1052.8453369140625, 1018.2999267578125, 1011.9915161132812, 922.3381958007812, 837.5503540039062, 836.01708984375, 794.4375, 643.5573120117188, 637.3494873046875, 597.2454833984375, 591.1715087890625, 576.7529907226562, 549.3267822265625, 514.3092651367188, 486.8631896972656, 480.56390380859375, 478.92950439453125, 451.181396484375, 423.197265625, 422.993408203125, 420.57928466796875, 399.91107177734375, 3608.483154296875, 1301.3291015625, 942.7738647460938, 1755.593505859375, 717.7626953125, 1392.2691650390625, 2440.23681640625, 1054.630859375, 4644.6884765625, 1976.2391357421875, 837.0315551757812, 4126.17431640625, 4944.619140625, 8224.671875, 6598.95068359375, 2198.93212890625, 3292.1923828125, 3148.261962890625, 1629.00244140625, 1475.85791015625, 8082.80322265625, 3833.464111328125, 2196.996826171875, 4047.33447265625, 2409.59423828125, 16857.244140625, 3669.66552734375, 4009.131103515625, 2713.946533203125, 1197.284423828125, 1025.6287841796875, 1115.1385498046875, 1008.0938110351562, 988.2354125976562, 766.6503295898438, 722.4649047851562, 721.8607177734375, 678.3787841796875, 527.95263671875, 514.3900756835938, 506.13995361328125, 492.52117919921875, 484.9633483886719, 482.91033935546875, 473.80621337890625, 438.089599609375, 434.758544921875, 419.3077697753906, 418.6526794433594, 387.761962890625, 385.6704406738281, 371.54925537109375, 357.6211242675781, 345.76690673828125, 344.98443603515625, 336.9246826171875, 334.7679748535156, 313.01092529296875, 2002.322021484375, 419.7929992675781, 535.0917358398438, 718.0477294921875, 807.2196655273438, 1340.8890380859375, 841.4739990234375, 3196.557861328125, 988.4398803710938, 1667.3631591796875, 2085.22900390625, 801.262939453125, 7073.41748046875, 623.3460693359375, 745.2926635742188, 2030.5078125, 1560.2896728515625, 1020.1826782226562, 2409.59423828125, 3292.1923828125, 3833.464111328125, 1508.55810546875, 2152.2607421875, 1847.358154296875, 1326.12109375, 10081.875, 2998.69384765625, 4141.2685546875, 2067.61328125, 1118.8040771484375, 1110.3343505859375, 1073.3433837890625, 746.0509033203125, 744.1215209960938, 565.211669921875, 553.1299438476562, 519.2985229492188, 495.34649658203125, 490.47705078125, 464.9045104980469, 463.3078308105469, 456.6094665527344, 452.67694091796875, 410.1658630371094, 404.16448974609375, 400.25799560546875, 388.48260498046875, 388.1630859375, 382.5393981933594, 378.0375061035156, 372.3363037109375, 361.5100402832031, 360.12994384765625, 351.0748291015625, 339.3210144042969, 334.6277770996094, 334.54736328125, 769.05126953125, 833.6148071289062, 1539.488525390625, 2000.646728515625, 1283.103515625, 754.1057739257812, 1636.114501953125, 803.615478515625, 1469.1922607421875, 1742.7652587890625, 1588.874755859375, 2738.611083984375, 2400.368408203125, 6598.95068359375, 1606.674560546875, 1898.75537109375, 2447.5498046875, 1232.1202392578125, 1335.2630615234375, 961.3826904296875, 2892.0966796875, 3270.268310546875, 10920.5068359375, 9590.85546875, 8615.15625, 3950.4140625, 1053.9732666015625, 547.432861328125, 373.5569763183594, 333.92352294921875, 310.0621032714844, 262.0735778808594, 253.1161651611328, 246.13914489746094, 234.63294982910156, 234.2560577392578, 224.54910278320312, 197.63108825683594, 197.57540893554688, 191.0813751220703, 177.03782653808594, 176.86607360839844, 163.8914031982422, 162.114501953125, 152.38912963867188, 142.91326904296875, 142.542236328125, 131.03115844726562, 124.20964813232422, 116.36245727539062, 113.1495361328125, 106.81322479248047, 2111.88525390625, 455.81756591796875, 14865.3681640625, 5205.72705078125, 266.41900634765625, 469.44793701171875, 1006.80615234375, 654.0675659179688, 505.7738952636719, 356.7350769042969, 1410.807861328125, 637.1844482421875, 414.4886474609375, 1742.7652587890625, 466.7626953125, 670.8472900390625, 1339.1553955078125, 4316.60693359375, 1002.60546875, 2679.736328125, 2292.1259765625, 1587.0543212890625, 1206.6556396484375, 994.941162109375, 967.5989990234375, 907.9927368164062, 770.856201171875, 683.4215698242188, 681.2085571289062, 554.41455078125, 503.7660827636719, 500.2284240722656, 490.5389709472656, 490.21551513671875, 428.81085205078125, 426.3288879394531, 399.9527282714844, 388.4312438964844, 348.1868591308594, 336.2707214355469, 320.7607727050781, 311.4324951171875, 306.1866149902344, 276.1613464355469, 255.44720458984375, 241.35842895507812, 234.59652709960938, 219.71461486816406, 219.6527862548828, 723.7479248046875, 2081.416748046875, 2449.79443359375, 651.2107543945312, 876.4043579101562, 892.3342895507812, 717.2073364257812, 609.7588500976562, 663.5690307617188, 1261.8865966796875, 3270.268310546875, 2943.947509765625, 2025.73291015625, 1376.472412109375, 760.1984252929688, 2688.185791015625, 869.6060180664062, 4316.60693359375, 2824.614013671875, 1847.358154296875, 3279.06201171875, 2703.89111328125, 2702.41748046875, 1572.146728515625, 1400.6519775390625, 1212.0858154296875, 1178.371337890625, 1095.3719482421875, 895.4802856445312, 787.921630859375, 770.1890258789062, 728.6522216796875, 600.9307250976562, 568.463134765625, 504.0823974609375, 485.854736328125, 436.5139465332031, 368.4247741699219, 353.3714294433594, 326.8296813964844, 325.7188415527344, 307.19757080078125, 302.4230041503906, 290.7679443359375, 284.98309326171875, 277.0373840332031, 276.9380187988281, 275.2828369140625, 258.22698974609375, 254.4458465576172, 249.7048797607422, 235.31646728515625, 508.62713623046875, 965.3182983398438, 1371.6585693359375, 704.4439697265625, 1292.2772216796875, 1532.5467529296875, 431.5532531738281, 429.4403991699219, 1218.7969970703125, 2400.368408203125, 479.472412109375, 2464.0986328125, 1454.40283203125, 1269.9195556640625, 782.0721435546875, 724.5792846679688, 601.6224975585938, 589.220458984375, 545.8782958984375, 494.9089660644531, 467.2095947265625, 454.4889831542969, 410.17352294921875, 404.18585205078125, 393.1950378417969, 369.59527587890625, 318.9443054199219, 318.10247802734375, 314.3753662109375, 286.3218994140625, 272.97265625, 270.6190185546875, 262.19671630859375, 256.25823974609375, 248.70387268066406, 247.86581420898438, 200.5352325439453, 178.7344207763672, 175.45103454589844, 171.16432189941406, 165.45037841796875, 400.4251403808594, 2129.975341796875, 502.2187194824219, 601.5006713867188, 637.8370971679688, 1079.7841796875, 389.31353759765625, 2703.89111328125, 686.8281860351562, 1847.358154296875, 1438.3336181640625, 1362.232177734375, 779.6231079101562, 610.5787963867188, 521.677001953125, 508.392822265625, 501.72198486328125, 466.9285888671875, 462.3290100097656, 459.19000244140625, 443.8570251464844, 436.1188659667969, 436.0099792480469, 390.6355895996094, 386.9834289550781, 379.0929260253906, 301.9755859375, 286.1983947753906, 284.6939697265625, 281.2362976074219, 263.7638854980469, 262.0931701660156, 235.84246826171875, 222.18173217773438, 203.86386108398438, 191.44139099121094, 184.30812072753906, 183.52935791015625, 179.15235900878906, 177.52642822265625, 811.0774536132812, 419.7250671386719, 375.6355285644531, 362.5906982421875, 223.49220275878906, 1254.3262939453125, 2046.211181640625, 1631.262451171875, 1264.743896484375, 825.2412109375, 1386.6556396484375, 664.8671264648438, 637.3048706054688, 618.8585815429688, 614.6087646484375, 531.8132934570312, 450.4925231933594, 392.0666809082031, 302.5216064453125, 250.91773986816406, 229.3688507080078, 207.8428955078125, 201.3935089111328, 190.34901428222656, 184.09030151367188, 182.8704833984375, 157.38087463378906, 148.7518310546875, 147.1173553466797, 138.62608337402344, 123.22776794433594, 115.2677230834961, 106.4881820678711, 102.38311767578125, 97.18694305419922, 87.70374298095703, 1870.075439453125, 864.1168823242188, 2738.611083984375, 1869.00537109375, 3725.67578125, 869.6060180664062, 760.1984252929688, 686.8281860351562, 1283.103515625, 1152.2156982421875, 1014.9647216796875, 925.427490234375, 649.2739868164062, 616.2997436523438, 512.092041015625, 505.7340087890625, 482.7862854003906, 480.63983154296875, 468.53509521484375, 376.5022277832031, 305.2699890136719, 225.65965270996094, 207.39170837402344, 197.9720916748047, 186.5530548095703, 186.00210571289062, 171.23312377929688, 165.474365234375, 156.2166748046875, 152.10226440429688, 136.56744384765625, 134.13998413085938, 131.01480102539062, 126.10235595703125, 118.5443344116211, 113.52684020996094, 110.9789810180664, 101.45047760009766, 84.18740844726562, 286.71014404296875, 906.6546630859375, 1725.0692138671875, 1541.59130859375, 1131.1458740234375, 950.3749389648438, 589.27880859375, 442.5794677734375, 254.2171173095703, 187.97988891601562, 168.54058837890625, 163.6937255859375, 135.90380859375, 109.91426086425781, 108.54756927490234, 105.6370620727539, 105.5753402709961, 74.90760803222656, 57.85770797729492, 57.68386459350586, 56.252132415771484, 46.93403625488281, 46.786865234375, 39.50547790527344, 37.24866485595703, 35.26478576660156, 34.26215744018555, 33.925018310546875, 33.16780090332031, 31.989933013916016, 25.122806549072266, 15.861374855041504, 275.04107666015625, 484.1426086425781, 1869.00537109375, 445.426025390625, 594.4886474609375, 803.615478515625, 505.7738952636719, 429.4403991699219, 540.0174560546875, 3196.557861328125, 431.5532531738281, 474.248291015625, 249.5377960205078, 502.4984130859375, 485.789306640625, 444.3401794433594, 388.90234375, 388.381591796875, 370.8437805175781, 268.55584716796875, 240.44215393066406, 212.3856658935547, 183.51593017578125, 180.96688842773438, 168.43344116210938, 163.6884765625, 147.29075622558594, 146.47019958496094, 141.3174285888672, 124.67655944824219, 104.0186538696289, 100.5299072265625, 92.24987030029297, 91.01758575439453, 90.95314025878906, 87.3187026977539, 66.58316802978516, 65.10098266601562, 57.692588806152344, 52.370628356933594, 51.857749938964844, 28.11943244934082, 27.5959415435791, 765.9572143554688, 358.609375, 1329.8582763671875, 303.3975830078125, 1121.8331298828125, 629.069580078125, 730.270263671875, 2129.975341796875, 906.6546630859375, 1392.2691650390625, 1335.2630615234375, 796.5669555664062, 662.4321899414062, 443.1035461425781, 271.59649658203125, 222.7379608154297, 211.2826690673828, 197.06434631347656, 164.81204223632812, 155.9329833984375, 153.69569396972656, 145.3614959716797, 141.58277893066406, 133.47360229492188, 130.38360595703125, 111.93778228759766, 111.17452239990234, 109.90522766113281, 86.17880249023438, 84.58977508544922, 81.54005432128906, 70.9072265625, 66.081298828125, 65.5230484008789, 55.95109176635742, 51.61943817138672, 48.54792022705078, 47.5590934753418, 47.1567497253418, 41.64791488647461, 40.95259475708008, 189.3569793701172, 1998.897216796875, 565.263427734375, 473.48681640625, 299.75152587890625, 205.7099151611328, 159.816162109375, 130.75051879882812, 125.65137481689453, 96.92269134521484, 71.6762466430664, 45.0342903137207, 38.27971649169922, 32.446266174316406, 30.763975143432617, 23.328262329101562, 670.8472900390625, 1.2099058628082275, 1.2098833322525024, 1.2098779678344727, 1.2098840475082397, 1.209924578666687, 1.209916591644287, 1.2098731994628906, 1.2100188732147217, 1.2099157571792603, 1.2098608016967773, 1.209929347038269, 1.2098640203475952, 1.2098891735076904, 1.2098884582519531, 236.1256866455078, 1.2100321054458618, 1.2099113464355469, 431.24420166015625, 316.1455078125, 298.91290283203125, 243.24386596679688, 217.05062866210938, 190.2802276611328, 160.58114624023438, 156.30397033691406, 134.3693084716797, 131.52835083007812, 98.64781951904297, 95.7043685913086, 62.11811828613281, 59.927879333496094, 58.13051223754883, 46.60536193847656, 46.51008605957031, 45.037254333496094, 41.75078582763672, 38.735870361328125, 35.7150993347168, 33.025184631347656, 29.425081253051758, 29.3887939453125, 20.14227867126465, 19.8437557220459, 19.248783111572266, 17.032041549682617, 963.497802734375, 324.196044921875, 157.5873565673828, 409.2034606933594, 641.766357421875, 1243.9788818359375, 400.85382080078125, 291.23553466796875, 192.05538940429688, 166.9990234375, 163.83209228515625, 145.6206512451172, 136.34292602539062, 128.51905822753906, 108.27973937988281, 91.43509674072266, 90.51119995117188, 83.52272033691406, 77.94285583496094, 71.85767364501953, 68.98931884765625, 58.60393524169922, 57.5435791015625, 55.968833923339844, 55.60344696044922, 54.4536247253418, 52.76105499267578, 44.643795013427734, 32.90297317504883, 27.150480270385742, 24.917795181274414, 19.49687385559082, 17.22770881652832, 10.619145393371582, 7.8601202964782715, 363.7734069824219, 299.2310791015625, 286.00408935546875, 275.82421875, 254.2518768310547, 222.35781860351562, 165.02780151367188, 134.02105712890625, 125.49897003173828, 120.1884765625, 109.65654754638672, 102.09220123291016, 93.91218566894531, 82.19770812988281, 71.628662109375, 71.49414825439453, 63.040870666503906, 48.037750244140625, 41.52926254272461, 40.657012939453125, 27.443689346313477, 26.19574737548828, 15.65849781036377, 15.136394500732422, 12.424737930297852, 11.78158187866211, 1.2098586559295654, 1.209859848022461, 1.2098681926727295, 1.2098802328109741, 1.2098957300186157, 1.2099087238311768, 438.30126953125, 316.9517517089844, 244.37571716308594, 216.5442352294922, 207.05758666992188, 190.5612030029297, 188.07835388183594, 160.39796447753906, 155.089111328125, 149.04795837402344, 139.06024169921875, 81.4794921875, 79.47745513916016, 79.08895874023438, 61.40909957885742, 61.3038444519043, 59.02166748046875, 38.099822998046875, 31.403783798217773, 26.64801025390625, 26.273529052734375, 25.214069366455078, 25.115182876586914, 24.003019332885742, 8.365596771240234, 1.2099730968475342, 1.209910273551941, 1.2099019289016724, 1.2099084854125977, 1.2099170684814453, 1.2099844217300415, 119.63574981689453, 94.9326171875, 86.23736572265625, 77.08625793457031, 30.957103729248047, 21.61878204345703, 18.73285675048828, 16.99244499206543, 14.08593463897705, 11.575504302978516, 7.3395676612854, 3.6656503677368164, 1.2098560333251953, 1.2098945379257202, 1.209898829460144, 1.2098479270935059, 1.2098467350006104, 1.2098491191864014, 1.2098469734191895, 1.2098467350006104, 1.2098475694656372, 1.2098476886749268, 1.2098476886749268, 1.2098486423492432, 1.2098488807678223, 1.2098495960235596, 1.2098556756973267, 1.2098513841629028, 1.2098690271377563, 1.2098535299301147, 1.2099140882492065, 1.209873914718628, 1.209873914718628, 1.2098652124404907, 1.2098759412765503, 1.210018515586853, 1.209899663925171, 1.2099683284759521, 1.209856390953064, 1.2098761796951294, 1.2098711729049683, 1.2098950147628784], \"loglift\": [30.0, 29.0, 28.0, 27.0, 26.0, 25.0, 24.0, 23.0, 22.0, 21.0, 20.0, 19.0, 18.0, 17.0, 16.0, 15.0, 14.0, 13.0, 12.0, 11.0, 10.0, 9.0, 8.0, 7.0, 6.0, 5.0, 4.0, 3.0, 2.0, 1.0, 1.1964999437332153, 1.1964000463485718, 1.1964000463485718, 1.1963000297546387, 1.1962000131607056, 1.1962000131607056, 1.1959999799728394, 1.1959999799728394, 1.1959999799728394, 1.1955000162124634, 1.1953999996185303, 1.1953999996185303, 1.1953999996185303, 1.1952999830245972, 1.1952999830245972, 1.195199966430664, 1.195099949836731, 1.195099949836731, 1.1950000524520874, 1.1950000524520874, 1.194700002670288, 1.194700002670288, 1.194599986076355, 1.1944999694824219, 1.1944999694824219, 1.1944999694824219, 1.1944999694824219, 1.1944999694824219, 1.1944999694824219, 1.1943999528884888, 1.1857999563217163, 1.184399962425232, 1.160099983215332, 1.163100004196167, 1.1660000085830688, 1.1604000329971313, 1.1385999917984009, 1.17330002784729, 1.086899995803833, 1.1061999797821045, 1.0851999521255493, 1.1166000366210938, 1.1237000226974487, 1.1008000373840332, 1.1363999843597412, 1.1370999813079834, 1.0849000215530396, 1.0505000352859497, 1.0130000114440918, 1.1490999460220337, 0.9423999786376953, 0.9954000115394592, 0.8284000158309937, 0.9771000146865845, 0.6524999737739563, 0.8550000190734863, 0.4952999949455261, 0.9020000100135803, 0.7060999870300293, 0.7188000082969666, 1.6991000175476074, 1.6988999843597412, 1.698699951171875, 1.6986000537872314, 1.6984000205993652, 1.6983000040054321, 1.6983000040054321, 1.698099970817566, 1.698099970817566, 1.698099970817566, 1.698099970817566, 1.6979999542236328, 1.6978000402450562, 1.6978000402450562, 1.6978000402450562, 1.6973999738693237, 1.6973999738693237, 1.6972999572753906, 1.6972999572753906, 1.6971999406814575, 1.697100043296814, 1.6970000267028809, 1.6969000101089478, 1.6967999935150146, 1.6967999935150146, 1.6966999769210815, 1.6964999437332153, 1.6964999437332153, 1.6964999437332153, 1.6964000463485718, 1.6828999519348145, 1.6854000091552734, 1.6833000183105469, 1.655900001525879, 1.6744999885559082, 1.6151000261306763, 1.5595999956130981, 1.6311999559402466, 1.4766000509262085, 1.5498000383377075, 1.6420999765396118, 1.2900999784469604, 1.2402000427246094, 1.0139000415802002, 1.0293999910354614, 1.3366999626159668, 1.1744999885559082, 1.1452000141143799, 1.3897000551223755, 1.4305000305175781, 0.4957999885082245, 0.866100013256073, 1.1721999645233154, 0.6209999918937683, 1.014799952507019, -0.5655999779701233, 0.6636999845504761, 0.45820000767707825, 2.432800054550171, 2.432300090789795, 2.4321000576019287, 2.4321000576019287, 2.4321000576019287, 2.4321000576019287, 2.4316999912261963, 2.4316000938415527, 2.4316000938415527, 2.43149995803833, 2.430999994277954, 2.430999994277954, 2.4309000968933105, 2.4309000968933105, 2.430799961090088, 2.430799961090088, 2.430799961090088, 2.4305999279022217, 2.4305999279022217, 2.430500030517578, 2.430500030517578, 2.430299997329712, 2.4302000999450684, 2.4300999641418457, 2.430000066757202, 2.4298999309539795, 2.4298999309539795, 2.429800033569336, 2.429800033569336, 2.429500102996826, 2.427500009536743, 2.4277000427246094, 2.4089999198913574, 2.3866000175476074, 2.3336000442504883, 2.2558999061584473, 2.280900001525879, 2.0215001106262207, 2.246500015258789, 2.1289000511169434, 1.968999981880188, 2.2423999309539795, 1.5134999752044678, 2.3071999549865723, 2.236999988555908, 1.8331999778747559, 1.9313000440597534, 2.108099937438965, 1.7259999513626099, 1.488700032234192, 1.3467999696731567, 1.8014999628067017, 1.5592000484466553, 1.6309000253677368, 1.809999942779541, 0.035100001841783524, 1.0435999631881714, 2.522599935531616, 2.5223000049591064, 2.521899938583374, 2.5218000411987305, 2.5218000411987305, 2.5213000774383545, 2.5213000774383545, 2.520900011062622, 2.5208001136779785, 2.520699977874756, 2.5206000804901123, 2.5204999446868896, 2.520400047302246, 2.520400047302246, 2.520400047302246, 2.520400047302246, 2.5201001167297363, 2.5201001167297363, 2.5199999809265137, 2.51990008354187, 2.51990008354187, 2.51990008354187, 2.51990008354187, 2.5197999477386475, 2.519700050354004, 2.519700050354004, 2.5195999145507812, 2.5195000171661377, 2.5195000171661377, 2.5195000171661377, 2.5176000595092773, 2.5065999031066895, 2.4839000701904297, 2.358099937438965, 2.397599935531616, 2.4102001190185547, 2.2783000469207764, 2.349400043487549, 2.1763999462127686, 2.1112000942230225, 2.1338999271392822, 1.8401999473571777, 1.8250999450683594, 1.3919999599456787, 1.9634000062942505, 1.8353999853134155, 1.6875, 2.030100107192993, 1.944100022315979, 2.0648000240325928, 1.1888999938964844, 0.9218999743461609, 2.567699909210205, 2.567699909210205, 2.567699909210205, 2.567500114440918, 2.566699981689453, 2.565700054168701, 2.56469988822937, 2.5643999576568604, 2.5641000270843506, 2.5634000301361084, 2.5632998943328857, 2.5631000995635986, 2.5629000663757324, 2.5629000663757324, 2.562700033187866, 2.562000036239624, 2.562000036239624, 2.561800003051758, 2.561300039291382, 2.561300039291382, 2.560800075531006, 2.560699939727783, 2.56030011177063, 2.559799909591675, 2.5597000122070312, 2.559000015258789, 2.558500051498413, 2.5578999519348145, 2.5576000213623047, 2.556999921798706, 2.5543999671936035, 2.5464000701904297, 2.491300106048584, 2.488300085067749, 2.5446999073028564, 2.5241000652313232, 2.4958999156951904, 2.506200075149536, 2.3013999462127686, 2.3596999645233154, 2.000499963760376, 2.1442999839782715, 2.2130000591278076, 1.479599952697754, 2.101300001144409, 1.815500020980835, 1.2590999603271484, -0.11270000040531158, 1.229200005531311, 2.6398000717163086, 2.639699935913086, 2.6394999027252197, 2.6393001079559326, 2.6391000747680664, 2.6389999389648438, 2.6389999389648438, 2.638700008392334, 2.6384999752044678, 2.6384999752044678, 2.638200044631958, 2.6379001140594482, 2.6379001140594482, 2.6379001140594482, 2.6379001140594482, 2.6375999450683594, 2.637500047683716, 2.637399911880493, 2.637200117111206, 2.636899948120117, 2.6368000507354736, 2.636699914932251, 2.6366000175476074, 2.6364998817443848, 2.6361000537872314, 2.635699987411499, 2.635499954223633, 2.6354000568389893, 2.634999990463257, 2.634999990463257, 2.6308000087738037, 2.605299949645996, 2.5952999591827393, 2.607100009918213, 2.5761001110076904, 2.555500030517578, 2.5450000762939453, 2.55049991607666, 2.510699987411499, 2.373199939727783, 2.137700080871582, 2.0601000785827637, 2.07450008392334, 2.1198999881744385, 2.3459999561309814, 1.646299958229065, 2.268399953842163, 1.1598999500274658, 1.4452999830245972, 1.715499997138977, 1.2730000019073486, 1.1526999473571777, 3.2262001037597656, 3.2258999347686768, 3.225800037384033, 3.2256999015808105, 3.225600004196167, 3.225600004196167, 3.2253000736236572, 3.2251999378204346, 3.225100040435791, 3.2249999046325684, 3.2246999740600586, 3.224600076675415, 3.224299907684326, 3.224299907684326, 3.2239999771118164, 3.2235000133514404, 3.223400115966797, 3.223099946975708, 3.223099946975708, 3.222899913787842, 3.2228000164031982, 3.2227001190185547, 3.222599983215332, 3.2225000858306885, 3.2225000858306885, 3.2225000858306885, 3.2221999168395996, 3.222100019454956, 3.2219998836517334, 3.2216999530792236, 3.190000057220459, 3.066200017929077, 2.9804000854492188, 3.009700059890747, 2.8076000213623047, 2.368000030517578, 2.997499942779541, 2.9765000343322754, 2.296299934387207, 1.5946999788284302, 2.8197999000549316, 3.393699884414673, 3.393399953842163, 3.393199920654297, 3.392699956893921, 3.3926000595092773, 3.392199993133545, 3.392199993133545, 3.3919999599456787, 3.3917999267578125, 3.391700029373169, 3.3915998935699463, 3.3912999629974365, 3.3912999629974365, 3.391200065612793, 3.3910000324249268, 3.390500068664551, 3.390500068664551, 3.390500068664551, 3.3901000022888184, 3.389899969100952, 3.389899969100952, 3.3898000717163086, 3.389699935913086, 3.3894999027252197, 3.3894999027252197, 3.388400077819824, 3.387700080871582, 3.3875999450683594, 3.387399911880493, 3.387200117111206, 3.362499952316284, 3.285900115966797, 3.2518999576568604, 3.198199987411499, 3.1670000553131104, 2.75819993019104, 3.178499937057495, 1.835800051689148, 2.5992000102996826, 1.5264999866485596, 3.733599901199341, 3.733599901199341, 3.7328999042510986, 3.7325000762939453, 3.7321999073028564, 3.7321999073028564, 3.732100009918213, 3.7320001125335693, 3.7318999767303467, 3.7318999767303467, 3.731800079345703, 3.731800079345703, 3.731800079345703, 3.7314999103546143, 3.7314999103546143, 3.7314000129699707, 3.730600118637085, 3.7304000854492188, 3.7304000854492188, 3.730299949645996, 3.73009991645813, 3.7300000190734863, 3.729599952697754, 3.729300022125244, 3.728800058364868, 3.7283999919891357, 3.7281999588012695, 3.7281999588012695, 3.7279999256134033, 3.7279999256134033, 3.671799898147583, 3.6494998931884766, 3.6122000217437744, 3.61299991607666, 3.6117000579833984, 1.971500039100647, 3.7558999061584473, 3.75570011138916, 3.755500078201294, 3.755000114440918, 3.7548999786376953, 3.754699945449829, 3.7546000480651855, 3.7546000480651855, 3.7546000480651855, 3.754300117492676, 3.7539000511169434, 3.753499984741211, 3.7525999546051025, 3.7518999576568604, 3.7513999938964844, 3.7509000301361084, 3.750699996948242, 3.7504000663757324, 3.750200033187866, 3.7500998973846436, 3.7490999698638916, 3.748699903488159, 3.7486000061035156, 3.7481000423431396, 3.7471001148223877, 3.7464001178741455, 3.7455999851226807, 3.7451999187469482, 3.7446000576019287, 3.743299961090088, 3.4549999237060547, 3.4226999282836914, 3.008699893951416, 2.5139000415802, 1.7589000463485718, 2.582900047302246, 2.3838000297546387, 2.4649999141693115, 1.6097999811172485, 4.195899963378906, 4.195700168609619, 4.1956000328063965, 4.195099830627441, 4.195000171661377, 4.1946001052856445, 4.1946001052856445, 4.194499969482422, 4.194499969482422, 4.194399833679199, 4.19379997253418, 4.1930999755859375, 4.191699981689453, 4.191299915313721, 4.190999984741211, 4.190700054168701, 4.190700054168701, 4.190100193023682, 4.189899921417236, 4.189499855041504, 4.189300060272217, 4.188399791717529, 4.188199996948242, 4.188000202178955, 4.187699794769287, 4.187099933624268, 4.186699867248535, 4.186399936676025, 4.185500144958496, 4.18310022354126, 4.177599906921387, 2.7032999992370605, 4.2621002197265625, 4.2621002197265625, 4.2617998123168945, 4.261600017547607, 4.260900020599365, 4.260200023651123, 4.258299827575684, 4.256700038909912, 4.25600004196167, 4.255799770355225, 4.254300117492676, 4.252299785614014, 4.252200126647949, 4.2519001960754395, 4.2519001960754395, 4.247300148010254, 4.242700099945068, 4.242700099945068, 4.242199897766113, 4.23799991607666, 4.2378997802734375, 4.23330020904541, 4.231500148773193, 4.229700088500977, 4.228700160980225, 4.228300094604492, 4.227499961853027, 4.226200103759766, 4.216000080108643, 4.187600135803223, 4.151100158691406, 4.028900146484375, 3.9214000701904297, 3.3308000564575195, 2.6946001052856445, 2.4173998832702637, 2.671799898147583, 2.743000030517578, 2.5906999111175537, 1.2503000497817993, 2.664799928665161, 2.3505001068115234, 2.887399911880493, 4.439000129699707, 4.439000129699707, 4.438700199127197, 4.438399791717529, 4.438399791717529, 4.438199996948242, 4.436999797821045, 4.436500072479248, 4.4359002113342285, 4.434999942779541, 4.434899806976318, 4.434500217437744, 4.434299945831299, 4.433499813079834, 4.4334001541137695, 4.433199882507324, 4.43209981918335, 4.430200099945068, 4.429800033569336, 4.428800106048584, 4.428599834442139, 4.428599834442139, 4.428100109100342, 4.423900127410889, 4.423500061035156, 4.421199798583984, 4.419099807739258, 4.418900012969971, 4.399499893188477, 4.39870023727417, 4.206600189208984, 3.901400089263916, 3.5852999687194824, 3.8822999000549316, 2.9946000576019287, 3.106100082397461, 2.8958001136779785, 2.1596999168395996, 2.547600030899048, 1.9144999980926514, 1.9330999851226807, 4.891600131988525, 4.891300201416016, 4.890399932861328, 4.888800144195557, 4.887800216674805, 4.887599945068359, 4.887199878692627, 4.886000156402588, 4.8856000900268555, 4.885499954223633, 4.8850998878479, 4.884900093078613, 4.884399890899658, 4.884200096130371, 4.882699966430664, 4.882599830627441, 4.882500171661377, 4.8796000480651855, 4.879300117492676, 4.878799915313721, 4.876699924468994, 4.875500202178955, 4.87529993057251, 4.872200012207031, 4.870500087738037, 4.86899995803833, 4.868500232696533, 4.868299961090088, 4.864999771118164, 4.864500045776367, 4.809700012207031, 5.003799915313721, 5.002299785614014, 5.0019001960754395, 5.000500202178955, 4.998700141906738, 4.997099876403809, 4.995500087738037, 4.995200157165527, 4.992400169372559, 4.9882001876831055, 4.978499889373779, 4.973800182342529, 4.968200206756592, 4.96619987487793, 4.953800201416016, 3.8747000694274902, 1.9800000190734863, 1.9800000190734863, 1.9799000024795532, 1.9799000024795532, 1.9799000024795532, 1.9799000024795532, 1.9799000024795532, 1.9797999858856201, 1.9797999858856201, 1.9797999858856201, 1.9797999858856201, 1.9797999858856201, 1.9797999858856201, 1.9797999858856201, 0.7674999833106995, 1.9797999858856201, 1.9797999858856201, 5.107800006866455, 5.106800079345703, 5.106599807739258, 5.1057000160217285, 5.105100154876709, 5.104400157928467, 5.103300094604492, 5.103099822998047, 5.101799964904785, 5.1016998291015625, 5.098700046539307, 5.098299980163574, 5.091700077056885, 5.091000080108643, 5.090400218963623, 5.085299968719482, 5.085299968719482, 5.084499835968018, 5.082399845123291, 5.0802001953125, 5.077499866485596, 5.07480001449585, 5.070400238037109, 5.070300102233887, 5.051300048828125, 5.0503997802734375, 5.048500061035156, 5.04010009765625, 4.993500232696533, 3.615600109100342, 3.374000072479248, 2.6470999717712402, 2.21560001373291, 5.134900093078613, 5.132900238037109, 5.131800174713135, 5.129700183868408, 5.128799915313721, 5.128699779510498, 5.127799987792969, 5.127299785614014, 5.126699924468994, 5.125, 5.123000144958496, 5.122900009155273, 5.121799945831299, 5.120800018310547, 5.119500160217285, 5.118899822235107, 5.115799903869629, 5.115499973297119, 5.1149001121521, 5.114699840545654, 5.114299774169922, 5.11359977722168, 5.109499931335449, 5.099999904632568, 5.092199802398682, 5.088200092315674, 5.07450008392334, 5.066199779510498, 5.020299911499023, 4.97629976272583, 5.302599906921387, 5.3018999099731445, 5.301799774169922, 5.301599979400635, 5.301199913024902, 5.300600051879883, 5.298799991607666, 5.297100067138672, 5.296500205993652, 5.29610013961792, 5.295199871063232, 5.294400215148926, 5.293399810791016, 5.291600227355957, 5.2895002365112305, 5.2895002365112305, 5.287300109863281, 5.281400203704834, 5.277500152587891, 5.276899814605713, 5.262700080871582, 5.2606000900268555, 5.229000091552734, 5.226200103759766, 5.208000183105469, 5.202300071716309, 2.151900053024292, 2.151900053024292, 2.151900053024292, 2.1517999172210693, 2.1517999172210693, 2.1517999172210693, 5.323200225830078, 5.322199821472168, 5.321100234985352, 5.320499897003174, 5.320300102233887, 5.319799900054932, 5.319699764251709, 5.318600177764893, 5.318399906158447, 5.3180999755859375, 5.317500114440918, 5.311500072479248, 5.311200141906738, 5.311100006103516, 5.30679988861084, 5.30679988861084, 5.306000232696533, 5.295000076293945, 5.288300037384033, 5.281400203704834, 5.280700206756592, 5.278800010681152, 5.278600215911865, 5.276400089263916, 5.176700115203857, 2.1433000564575195, 2.143199920654297, 2.143199920654297, 2.143199920654297, 2.143199920654297, 2.1431000232696533, 6.453700065612793, 6.451099872589111, 6.44980001449585, 6.4481000900268555, 6.424699783325195, 6.407400131225586, 6.398499965667725, 6.391600131988525, 6.376100063323975, 6.356100082397461, 6.288300037384033, 6.075099945068359, 2.7616000175476074, 2.7616000175476074, 2.7616000175476074, 2.7616000175476074, 2.7616000175476074, 2.7616000175476074, 2.7616000175476074, 2.7616000175476074, 2.7616000175476074, 2.7616000175476074, 2.7616000175476074, 2.7616000175476074, 2.7616000175476074, 2.7616000175476074, 2.7616000175476074, 2.7616000175476074, 2.7616000175476074, 2.7616000175476074, 2.7616000175476074, 2.7614998817443848, 2.7614998817443848, 2.7614998817443848, 2.7614998817443848, 2.761399984359741, 2.7614998817443848, 2.7614998817443848, 2.7616000175476074, 2.7614998817443848, 2.7614998817443848, 2.7614998817443848], \"logprob\": [30.0, 29.0, 28.0, 27.0, 26.0, 25.0, 24.0, 23.0, 22.0, 21.0, 20.0, 19.0, 18.0, 17.0, 16.0, 15.0, 14.0, 13.0, 12.0, 11.0, 10.0, 9.0, 8.0, 7.0, 6.0, 5.0, 4.0, 3.0, 2.0, 1.0, -3.636699914932251, -4.26200008392334, -4.290200233459473, -4.603300094604492, -4.663899898529053, -4.3140997886657715, -5.035999774932861, -5.053299903869629, -5.122099876403809, -5.703999996185303, -5.737199783325195, -5.777599811553955, -5.801700115203857, -5.857699871063232, -5.863999843597412, -5.889200210571289, -5.988999843597412, -5.990099906921387, -6.043000221252441, -6.044600009918213, -6.217599868774414, -6.221199989318848, -5.1579999923706055, -6.2993998527526855, -6.301199913024902, -6.308199882507324, -6.3206000328063965, -6.321000099182129, -6.334099769592285, -6.345600128173828, -4.606400012969971, -5.085400104522705, -3.8361001014709473, -4.226399898529053, -4.420599937438965, -4.259399890899658, -4.118000030517578, -5.432300090789795, -2.9679999351501465, -3.627700090408325, -3.483799934387207, -4.252999782562256, -4.394599914550781, -4.347799777984619, -4.923399925231934, -5.140900135040283, -4.665299892425537, -4.513999938964844, -4.242700099945068, -5.3730998039245605, -4.099599838256836, -4.577700138092041, -3.9616000652313232, -4.60260009765625, -4.270899772644043, -4.636099815368652, -4.277200222015381, -4.79010009765625, -4.711100101470947, -4.762800216674805, -3.121000051498413, -4.01200008392334, -4.342400074005127, -4.543399810791016, -4.791600227355957, -4.985799789428711, -5.007800102233887, -5.115900039672852, -5.130099773406982, -5.16349983215332, -5.1697001457214355, -5.262599945068359, -5.359099864959717, -5.361000061035156, -5.412099838256836, -5.623000144958496, -5.632699966430664, -5.697800159454346, -5.708099842071533, -5.732800006866455, -5.781599998474121, -5.847700119018555, -5.902599811553955, -5.9156999588012695, -5.919099807739258, -5.978899955749512, -6.043099880218506, -6.043600082397461, -6.049300193786621, -6.099899768829346, -3.9135000705718994, -4.9309000968933105, -5.255300045013428, -4.660999774932861, -5.536799907684326, -4.933700084686279, -4.427999973297119, -5.195300102233887, -3.8673999309539795, -4.648799896240234, -5.415599822998047, -4.172299861907959, -4.041299819946289, -3.758699893951416, -3.963399887084961, -4.755000114440918, -4.513700008392334, -4.587699890136719, -5.001999855041504, -5.059999942779541, -4.294099807739258, -4.6697998046875, -4.920499801635742, -4.860599994659424, -4.985400199890137, -4.620500087738037, -4.915999889373779, -5.032899856567383, -3.448499917984009, -4.267399787902832, -4.422299861907959, -4.338600158691406, -4.439599990844727, -4.459499835968018, -4.713699817657471, -4.773200035095215, -4.77400016784668, -4.83620023727417, -5.087399959564209, -5.113500118255615, -5.129700183868408, -5.157100200653076, -5.172599792480469, -5.176799774169922, -5.195899963378906, -5.274499893188477, -5.282100200653076, -5.318399906158447, -5.320000171661377, -5.3968000411987305, -5.402299880981445, -5.439700126647949, -5.478000164031982, -5.5117998123168945, -5.514100074768066, -5.537799835205078, -5.5441999435424805, -5.611700057983398, -3.7578999996185303, -5.320000171661377, -5.0960001945495605, -4.8242998123168945, -4.760300159454346, -4.33050012588501, -4.771500110626221, -3.696199893951416, -4.644800186157227, -4.23960018157959, -4.17579984664917, -4.858799934387207, -3.409899950027466, -5.045100212097168, -4.936699867248535, -4.338200092315674, -4.503499984741211, -4.751699924468994, -4.2743000984191895, -4.199399948120117, -4.189199924468994, -4.667099952697754, -4.553999900817871, -4.635000228881836, -4.787499904632568, -4.533899784088135, -4.73799991607666, -2.9361000061035156, -3.63100004196167, -4.24560022354126, -4.253200054168701, -4.287099838256836, -4.651299953460693, -4.653900146484375, -4.9293999671936035, -4.951099872589111, -5.0142998695373535, -5.061600208282471, -5.071499824523926, -5.125199794769287, -5.128699779510498, -5.1433000564575195, -5.151899814605713, -5.250800132751465, -5.265600204467773, -5.275300025939941, -5.305300235748291, -5.306099891662598, -5.320799827575684, -5.332600116729736, -5.347899913787842, -5.377500057220459, -5.38129997253418, -5.406899929046631, -5.440999984741211, -5.454999923706055, -5.4552001953125, -4.62470006942749, -4.555099964141846, -3.9642999172210693, -3.8280999660491943, -4.232800006866455, -4.751699924468994, -4.109099864959717, -4.749000072479248, -4.318699836730957, -4.2129998207092285, -4.282800197601318, -4.0320000648498535, -4.178999900817871, -3.600800037384033, -4.442200183868408, -4.40310001373291, -4.2972002029418945, -4.640900135040283, -4.646500110626221, -4.854300022125244, -4.628900051116943, -4.7729997634887695, -1.9213999509811401, -2.0511999130249023, -2.1584999561309814, -2.9384000301361084, -4.260499954223633, -4.916500091552734, -5.299699783325195, -5.412199974060059, -5.486599922180176, -5.655399799346924, -5.690400123596191, -5.718400001525879, -5.766499996185303, -5.768199920654297, -5.810699939727783, -5.9390997886657715, -5.9394001960754395, -5.9730000495910645, -6.049799919128418, -6.05079984664917, -6.127500057220459, -6.138500213623047, -6.200799942016602, -6.265500068664551, -6.268099784851074, -6.353000164031982, -6.4070000648498535, -6.472799777984619, -6.501100063323975, -6.5594000816345215, -3.577699899673462, -5.118899822235107, -1.6893999576568604, -2.7416999340057373, -5.657700061798096, -5.1118998527526855, -4.376999855041504, -4.798099994659424, -5.260000228881836, -5.55079984664917, -4.534999847412109, -5.186100006103516, -5.547399997711182, -4.844600200653076, -5.54040002822876, -5.463399887084961, -5.328499794006348, -5.53000020980835, -5.647900104522705, -3.254199981689453, -3.4105000495910645, -3.77839994430542, -4.052599906921387, -4.245699882507324, -4.273600101470947, -4.337299823760986, -4.501200199127197, -4.621799945831299, -4.625100135803223, -4.831399917602539, -4.9274001121521, -4.934500217437744, -4.954100131988525, -4.954699993133545, -5.088900089263916, -5.094699859619141, -5.15880012512207, -5.1880998611450195, -5.297800064086914, -5.332699775695801, -5.380099773406982, -5.4096999168396, -5.426799774169922, -5.530399799346924, -5.608699798583984, -5.6656999588012695, -5.694300174713135, -5.7600998878479, -5.76039981842041, -4.572199821472168, -3.541300058364868, -3.388400077819824, -4.701499938964844, -4.435500144958496, -4.438199996948242, -4.667099952697754, -4.82390022277832, -4.779200077056885, -4.273900032043457, -3.5571999549865723, -3.7399001121520996, -4.099299907684326, -4.440299987792969, -4.8078999519348145, -4.24459981918335, -4.750999927520752, -4.257299900054932, -4.396100044250488, -4.5503997802734375, -4.4191999435424805, -4.7322998046875, -2.65939998626709, -3.2014000415802, -3.316999912261963, -3.461699962615967, -3.4899001121520996, -3.5631000995635986, -3.7648000717163086, -3.892899990081787, -3.9156999588012695, -3.9711999893188477, -4.164299964904785, -4.219900131225586, -4.340400218963623, -4.377299785614014, -4.4847002029418945, -4.654699802398682, -4.696599960327148, -4.774899959564209, -4.778299808502197, -4.837100028991699, -4.852799892425537, -4.892300128936768, -4.912399768829346, -4.940800189971924, -4.941199779510498, -4.947199821472168, -5.011499881744385, -5.026299953460693, -5.045199871063232, -5.104800224304199, -4.365699768066406, -3.848900079727173, -3.5833001136779785, -4.220399856567383, -3.815700054168701, -4.084799766540527, -4.722599983215332, -4.748499870300293, -4.385499954223633, -4.40939998626709, -4.795000076293945, -2.584199905395508, -3.111799955368042, -3.247499942779541, -3.732800006866455, -3.809299945831299, -3.9955999851226807, -4.016499996185303, -4.0929999351501465, -4.191299915313721, -4.249000072479248, -4.276700019836426, -4.379499912261963, -4.3942999839782715, -4.421899795532227, -4.484000205993652, -4.631899833679199, -4.6346001625061035, -4.646399974822998, -4.740200042724609, -4.7881999015808105, -4.796899795532227, -4.82859992980957, -4.851600170135498, -4.881700038909912, -4.8850998878479, -5.098100185394287, -5.213900089263916, -5.232500076293945, -5.257400035858154, -5.291600227355957, -4.432499885559082, -2.8376998901367188, -4.316500186920166, -4.189799785614014, -4.162399768829346, -4.0447998046875, -4.644599914550781, -4.049200057983398, -4.656199932098389, -4.739500045776367, -2.782599925994873, -2.8369998931884766, -3.395699977874756, -3.640500068664551, -3.7981998920440674, -3.8241000175476074, -3.8373000621795654, -3.9093000888824463, -3.919300079345703, -3.926100015640259, -3.960099935531616, -3.977799892425537, -3.9779999256134033, -4.088200092315674, -4.097599983215332, -4.118299961090088, -4.346499919891357, -4.400400161743164, -4.405700206756592, -4.417900085449219, -4.4822998046875, -4.488699913024902, -4.594799995422363, -4.654699802398682, -4.741199970245361, -4.804500102996826, -4.842700004577637, -4.84689998626709, -4.871200084686279, -4.88040018081665, -3.41729998588562, -4.098400115966797, -4.246699810028076, -4.281199932098389, -4.76639986038208, -4.681600093841553, -2.4077999591827393, -2.6345999240875244, -2.8893001079559326, -3.316699981689453, -2.7978999614715576, -3.5332000255584717, -3.5755999088287354, -3.6050000190734863, -3.6119000911712646, -3.7569000720977783, -3.9231998920440674, -4.0625, -4.322700023651123, -4.510499954223633, -4.6006999015808105, -4.69980001449585, -4.731500148773193, -4.7881999015808105, -4.821899890899658, -4.828499794006348, -4.979700088500977, -5.036499977111816, -5.047599792480469, -5.107600212097168, -5.22629976272583, -5.293799877166748, -5.373799800872803, -5.413599967956543, -5.466300010681152, -5.570199966430664, -2.7987000942230225, -3.603100061416626, -2.8635001182556152, -3.7404000759124756, -3.805500030517578, -4.436500072479248, -4.769999980926514, -4.79040002822876, -5.020699977874756, -2.5422000885009766, -2.669100046157837, -2.7616000175476074, -3.116499900817871, -3.1686999797821045, -3.3543999195098877, -3.3668999671936035, -3.4133999347686768, -3.4179000854492188, -3.44350004196167, -3.6628000736236572, -3.873199939727783, -4.176700115203857, -4.261600017547607, -4.308300018310547, -4.368100166320801, -4.371099948883057, -4.4542999267578125, -4.488800048828125, -4.546800136566162, -4.573699951171875, -4.682300090789795, -4.700300216674805, -4.724100112915039, -4.762700080871582, -4.825099945068359, -4.868800163269043, -4.89169979095459, -4.982399940490723, -5.171299934387207, -3.9514000415802, -4.274400234222412, -2.0722999572753906, -2.184799909591675, -2.4946999549865723, -2.6689999103546143, -3.147700071334839, -3.4346001148223877, -3.990999937057495, -4.29449987411499, -4.404300212860107, -4.433700084686279, -4.621200084686279, -4.8354997634887695, -4.848100185394287, -4.8755998611450195, -4.876200199127197, -5.223899841308594, -5.486700057983398, -5.489799976348877, -5.515500068664551, -5.700699806213379, -5.70389986038208, -5.877799987792969, -5.938399791717529, -5.994900226593018, -6.024799823760986, -6.034999847412109, -6.0584001541137695, -6.095799922943115, -6.347700119018555, -6.835999965667725, -4.019499778747559, -3.576200008392334, -2.332900047302246, -4.357600212097168, -4.705100059509277, -4.681000232696533, -4.889599800109863, -4.98199987411499, -4.905099868774414, -4.467400074005127, -5.055300235748291, -5.275199890136719, -5.380499839782715, -3.1287999153137207, -3.1626999378204346, -3.2520999908447266, -3.3857998847961426, -3.3870999813079834, -3.433500051498413, -3.7574000358581543, -3.868499994277954, -3.9932000637054443, -4.140100002288818, -4.154200077056885, -4.226500034332275, -4.255199909210205, -4.361599922180176, -4.367199897766113, -4.403299808502197, -4.529699802398682, -4.712699890136719, -4.747200012207031, -4.834199905395508, -4.847799777984619, -4.848499774932861, -4.889800071716309, -5.16510009765625, -5.188000202178955, -5.311200141906738, -5.409999847412109, -5.420100212097168, -6.051499843597412, -6.071100234985352, -2.9398000240325928, -4.003799915313721, -3.0092999935150146, -4.190100193023682, -3.77020001411438, -4.237100124359131, -4.2982001304626465, -3.963900089263916, -4.430099964141846, -4.634200096130371, -4.65749979019165, -2.21560001373291, -2.4003000259399414, -2.8032000064849854, -3.2943999767303467, -3.4935998916625977, -3.5467000007629395, -3.61680006980896, -3.796600103378296, -3.852400064468384, -3.867000102996826, -3.9231998920440674, -3.949700117111206, -4.009200096130371, -4.032800197601318, -4.186800003051758, -4.19379997253418, -4.205399990081787, -4.451499938964844, -4.470300197601318, -4.507599830627441, -4.649400234222412, -4.721099853515625, -4.729800224304199, -4.8907999992370605, -4.973100185394287, -5.035900115966797, -5.057000160217285, -5.065700054168701, -5.19320011138916, -5.2104997634887695, -3.734100103378296, -1.1833000183105469, -2.4479000568389893, -2.6254000663757324, -3.0840001106262207, -3.4623000621795654, -3.7163000106811523, -3.9186999797821045, -3.9588000774383545, -4.221199989318848, -4.527100086212158, -5.0015997886657715, -5.168700218200684, -5.339700222015381, -5.394899845123291, -5.684100151062012, -3.4042999744415283, -11.616900444030762, -11.616999626159668, -11.616999626159668, -11.616999626159668, -11.616999626159668, -11.616999626159668, -11.61709976196289, -11.616999626159668, -11.61709976196289, -11.61709976196289, -11.61709976196289, -11.61709976196289, -11.61709976196289, -11.61709976196289, -7.555600166320801, -11.61709976196289, -11.61709976196289, -2.61299991607666, -2.9244000911712646, -2.9807000160217285, -3.187700033187866, -3.3022000789642334, -3.4346001148223877, -3.6054000854492188, -3.6326000690460205, -3.7850000858306885, -3.8066000938415527, -4.0971999168396, -4.127900123596191, -4.566800117492676, -4.603300094604492, -4.634399890899658, -4.860400199890137, -4.862500190734863, -4.895500183105469, -4.973400115966797, -5.050600051879883, -5.134399890899658, -5.215400218963623, -5.335299968719482, -5.336599826812744, -5.73330020904541, -5.749199867248535, -5.781599998474121, -5.912300109863281, -1.9234000444412231, -4.390500068664551, -5.353499889373779, -5.126100063323975, -5.107699871063232, -1.5264999866485596, -2.6610000133514404, -2.9814999103546143, -3.399899959564209, -3.540600061416626, -3.5599000453948975, -3.6786999702453613, -3.744999885559082, -3.8046998977661133, -3.9776999950408936, -4.148799896240234, -4.15910005569458, -4.240499973297119, -4.310699939727783, -4.393199920654297, -4.434700012207031, -4.600800037384033, -4.619500160217285, -4.647799968719482, -4.6545000076293945, -4.67579984664917, -4.708099842071533, -4.879300117492676, -5.193999767303467, -5.393899917602539, -5.483699798583984, -5.742700099945068, -5.874800205230713, -6.4045000076293945, -6.749300003051758, -2.5882999897003174, -2.7843000888824463, -2.829699993133545, -2.8661000728607178, -2.9479000568389893, -3.0826001167297363, -3.3826000690460205, -3.5922999382019043, -3.658600091934204, -3.7023000717163086, -3.7948999404907227, -3.8671998977661133, -3.95169997215271, -4.086699962615967, -4.226500034332275, -4.228400230407715, -4.356400012969971, -4.634099960327148, -4.7835001945495605, -4.8053998947143555, -5.212600231170654, -5.261300086975098, -5.807499885559082, -5.844200134277344, -6.059800148010254, -6.118599891662598, -11.445099830627441, -11.445099830627441, -11.445099830627441, -11.445099830627441, -11.445099830627441, -11.445099830627441, -2.3812999725341797, -2.7065000534057617, -2.967600107192993, -3.089200019836426, -3.134200096130371, -3.2177000045776367, -3.2309000492095947, -3.391200065612793, -3.425100088119507, -3.465100049972534, -3.535099983215332, -4.0756001472473145, -4.100800037384033, -4.105800151824951, -4.363100051879883, -4.364799976348877, -4.403500080108643, -4.85230016708374, -5.052299976348877, -5.223400115966797, -5.2382001876831055, -5.281300067901611, -5.285399913787842, -5.332900047302246, -6.486700057983398, -11.45359992980957, -11.453800201416016, -11.453800201416016, -11.453800201416016, -11.453800201416016, -11.453700065612793, -2.5494000911712646, -2.7832000255584717, -2.8805999755859375, -2.9944000244140625, -3.9302000999450684, -4.30649995803833, -4.458700180053711, -4.5630998611450195, -4.766200065612793, -4.982500076293945, -5.505899906158447, -6.413400173187256, -10.835399627685547, -10.835399627685547, -10.835399627685547, -10.835399627685547, -10.835399627685547, -10.835399627685547, -10.835399627685547, -10.835399627685547, -10.835399627685547, -10.835399627685547, -10.835399627685547, -10.835399627685547, -10.835399627685547, -10.835399627685547, -10.835399627685547, -10.835399627685547, -10.835399627685547, -10.835399627685547, -10.835399627685547, -10.835399627685547, -10.835399627685547, -10.835399627685547, -10.835399627685547, -10.835399627685547, -10.835399627685547, -10.835399627685547, -10.835399627685547, -10.835399627685547, -10.835399627685547, -10.835399627685547]}, \"token.table\": {\"Topic\": [1, 7, 8, 10, 16, 2, 17, 13, 19, 7, 9, 14, 9, 4, 17, 1, 2, 3, 6, 8, 2, 3, 2, 7, 17, 15, 2, 12, 4, 6, 17, 1, 3, 7, 6, 10, 1, 8, 6, 2, 3, 3, 13, 16, 5, 16, 5, 8, 13, 11, 6, 4, 1, 2, 4, 6, 2, 4, 17, 10, 8, 1, 2, 11, 2, 3, 11, 8, 12, 4, 9, 8, 15, 1, 8, 10, 2, 5, 8, 17, 14, 11, 11, 20, 19, 2, 5, 1, 6, 10, 7, 1, 3, 5, 6, 19, 19, 14, 1, 2, 3, 8, 13, 12, 11, 4, 10, 17, 17, 10, 7, 4, 16, 2, 13, 8, 5, 11, 19, 11, 17, 13, 2, 3, 1, 2, 3, 5, 13, 8, 1, 2, 4, 13, 19, 7, 6, 8, 14, 12, 5, 17, 1, 2, 10, 14, 5, 6, 7, 8, 9, 14, 14, 6, 7, 8, 10, 3, 1, 3, 8, 2, 7, 15, 15, 8, 6, 2, 5, 15, 6, 11, 13, 12, 6, 12, 9, 1, 5, 1, 2, 2, 1, 3, 4, 7, 16, 20, 14, 10, 7, 8, 13, 8, 6, 7, 6, 2, 4, 11, 8, 13, 15, 4, 2, 13, 17, 2, 12, 3, 1, 5, 3, 14, 14, 11, 9, 14, 6, 7, 8, 18, 18, 1, 5, 11, 13, 10, 1, 10, 5, 20, 1, 10, 4, 1, 3, 20, 18, 18, 2, 10, 7, 10, 16, 4, 1, 8, 14, 2, 16, 5, 7, 2, 4, 19, 9, 17, 8, 8, 15, 1, 2, 20, 10, 11, 7, 11, 2, 6, 9, 9, 17, 10, 8, 1, 6, 17, 16, 7, 5, 15, 6, 14, 3, 11, 2, 5, 8, 13, 7, 8, 13, 18, 1, 2, 4, 2, 4, 5, 3, 15, 5, 3, 9, 12, 1, 2, 3, 11, 18, 17, 13, 5, 12, 2, 3, 3, 9, 11, 20, 2, 18, 6, 12, 10, 8, 1, 2, 15, 15, 2, 6, 12, 1, 2, 6, 1, 1, 2, 4, 6, 12, 2, 12, 2, 9, 16, 19, 18, 16, 12, 7, 1, 2, 3, 6, 10, 4, 3, 3, 6, 3, 11, 1, 4, 16, 10, 19, 8, 12, 18, 4, 14, 13, 19, 1, 4, 13, 1, 2, 3, 1, 2, 4, 3, 12, 18, 1, 2, 4, 8, 13, 11, 16, 2, 2, 9, 1, 2, 6, 12, 4, 12, 4, 1, 2, 1, 2, 7, 6, 10, 5, 1, 2, 4, 2, 1, 18, 19, 4, 6, 8, 16, 4, 1, 4, 4, 12, 4, 1, 3, 2, 3, 12, 10, 1, 2, 7, 1, 2, 17, 3, 19, 6, 9, 14, 15, 1, 3, 2, 6, 3, 1, 6, 6, 8, 13, 6, 20, 7, 19, 7, 2, 1, 2, 3, 6, 3, 5, 2, 18, 2, 1, 2, 4, 8, 5, 4, 2, 13, 12, 10, 1, 2, 3, 18, 9, 17, 11, 1, 2, 3, 4, 6, 13, 13, 16, 17, 2, 3, 4, 12, 12, 2, 4, 3, 8, 12, 19, 3, 2, 2, 4, 9, 1, 9, 1, 5, 2, 4, 5, 2, 15, 18, 14, 8, 1, 4, 17, 1, 2, 1, 4, 6, 7, 9, 16, 6, 10, 7, 6, 11, 1, 2, 3, 4, 2, 10, 16, 9, 1, 2, 3, 6, 6, 7, 3, 1, 2, 3, 6, 1, 2, 1, 2, 3, 11, 7, 18, 14, 2, 10, 19, 10, 4, 2, 5, 10, 14, 7, 9, 4, 3, 12, 16, 13, 9, 5, 1, 2, 4, 6, 13, 2, 6, 3, 13, 1, 6, 8, 15, 1, 4, 5, 7, 1, 2, 1, 2, 5, 6, 7, 8, 4, 6, 1, 17, 5, 1, 3, 7, 10, 1, 2, 4, 6, 6, 9, 13, 13, 2, 5, 17, 6, 7, 6, 1, 2, 4, 7, 13, 6, 10, 1, 2, 3, 1, 2, 1, 2, 2, 9, 9, 9, 2, 5, 16, 16, 16, 5, 20, 11, 2, 4, 3, 6, 6, 7, 12, 6, 16, 16, 18, 6, 6, 13, 14, 1, 2, 3, 6, 8, 3, 3, 7, 7, 6, 7, 19, 11, 9, 4, 18, 12, 2, 13, 14, 7, 13, 18, 6, 8, 4, 12, 2, 5, 1, 2, 4, 8, 16, 6, 16, 10, 12, 12, 1, 2, 3, 12, 10, 4, 19, 14, 2, 13, 7, 9, 3, 11, 14, 8, 17, 7, 8, 8, 17, 18, 1, 1, 10, 3, 6, 19, 13, 6, 8, 6, 6, 16, 9, 2, 8, 8, 3, 3, 6, 8, 8, 4, 8, 11, 4, 5, 12, 11, 7, 10, 13, 4, 1, 2, 3, 10, 2, 5, 1, 2, 2, 6, 1, 1, 2, 4, 8, 12, 3, 3, 14, 19, 3, 13, 11, 13, 5, 16, 11, 12, 13, 16, 1, 5, 13, 19, 3, 6, 8, 18, 12, 9, 9, 12, 2, 8, 9, 12, 8, 19, 17, 3, 1, 4, 6, 10, 18, 16, 9, 7, 20, 16, 6, 16, 20, 16, 12, 14, 8, 14, 17, 16, 14, 14, 1, 2, 4, 1, 3, 10, 2, 3, 13, 14, 8, 1, 1, 18, 2, 3, 12, 2, 8, 2, 3, 7, 18, 7, 12, 7, 6, 5, 6, 8, 1, 2, 15, 1, 3, 6, 8, 17, 5, 1, 2, 5, 7, 3, 10, 19, 14, 1, 20, 3, 1, 2, 3, 8, 1, 2, 1, 2, 1, 2, 18, 5, 7, 12, 17, 14, 9, 12, 1, 2, 4, 5, 5, 6, 1, 2, 4, 15, 2, 4, 4, 13, 5, 12, 9, 5, 2, 4, 13, 6, 12, 10, 13, 18, 2, 15, 1, 2, 3, 11, 11, 1, 13, 1, 2, 4, 9, 9, 11, 1, 2, 3, 8, 17, 5, 17, 19, 11, 14, 7, 7, 11, 1, 6, 19, 4, 1, 2, 4, 8, 12, 1, 16, 5, 1, 3, 13, 5, 12, 13, 17, 9, 18, 1, 2, 2, 13, 7, 5, 12, 13, 1, 2, 2, 4, 3, 6, 1, 2, 3, 4, 5, 2, 19, 4, 5, 8, 11, 4, 10, 10, 11, 8, 9, 13, 2, 13, 2, 3, 1, 6, 2, 1, 2, 20, 5, 4], \"Freq\": [0.9991169571876526, 0.27226606011390686, 0.4513501524925232, 0.2751779854297638, 0.9689574837684631, 0.9990202188491821, 0.9826897382736206, 0.9902070164680481, 0.9711331129074097, 0.11181051284074783, 0.8838354349136353, 0.9681156277656555, 0.9971253871917725, 0.9953747391700745, 0.9940177798271179, 0.43828997015953064, 0.025844238698482513, 0.14763079583644867, 0.30269622802734375, 0.08496735990047455, 0.7643012404441833, 0.23511748015880585, 0.999586284160614, 0.9965317249298096, 0.9833037257194519, 0.9430621266365051, 0.9980592131614685, 0.9631617665290833, 0.997957170009613, 0.9976282119750977, 0.8905715942382812, 0.27642107009887695, 0.7224196195602417, 0.9974614381790161, 0.6899676322937012, 0.30933550000190735, 0.997829020023346, 0.9917296767234802, 0.9967475533485413, 0.0023821264039725065, 0.9933467507362366, 0.9989149570465088, 0.9969838857650757, 0.9351240396499634, 0.9998657703399658, 0.9820001125335693, 0.9946380853652954, 0.20758339762687683, 0.7911669015884399, 0.9967236518859863, 0.9993356466293335, 0.9964110255241394, 0.373843252658844, 0.19202877581119537, 0.4339033365249634, 0.9943717122077942, 0.3216112554073334, 0.6778382062911987, 0.9881811738014221, 0.9912258982658386, 0.9931976199150085, 0.9998669624328613, 0.9962449669837952, 0.9978910684585571, 0.591702938079834, 0.38879865407943726, 0.019136184826493263, 0.9954358339309692, 0.9933496713638306, 0.9992812871932983, 0.9979180693626404, 0.9940173625946045, 0.9665693044662476, 0.2203119695186615, 0.0390358567237854, 0.7395423650741577, 0.34369954466819763, 0.6544415950775146, 0.9964367747306824, 0.9978699684143066, 0.9906337261199951, 0.9985486268997192, 0.9990494847297668, 0.985908567905426, 0.9818421602249146, 0.9991443157196045, 0.9931012988090515, 0.4046575725078583, 0.5942727327346802, 0.994945764541626, 0.9992706179618835, 0.038227129727602005, 0.005378691479563713, 0.9235981702804565, 0.032656341791152954, 0.9918073415756226, 0.836760401725769, 0.9863214492797852, 0.8028452396392822, 0.1269945204257965, 0.06976523250341415, 0.991233766078949, 0.9957939982414246, 0.9641345739364624, 0.992211639881134, 0.9992197155952454, 0.9992260932922363, 0.9856598377227783, 0.9711627960205078, 0.9984707236289978, 0.9988303184509277, 0.8185935616493225, 0.17767922580242157, 0.919362485408783, 0.0797259658575058, 0.9992759227752686, 0.8129281997680664, 0.18501123785972595, 0.992977499961853, 0.9978674650192261, 0.9843047261238098, 0.994002103805542, 0.004994201473891735, 0.9943455457687378, 0.998671293258667, 0.14023011922836304, 0.8592065572738647, 0.9784616231918335, 0.019744740799069405, 0.9981633424758911, 0.12057549506425858, 0.23665748536586761, 0.5609381794929504, 0.0816318541765213, 0.9912843704223633, 0.999534547328949, 0.9134758710861206, 0.08363962173461914, 0.9980328679084778, 0.983181893825531, 0.999910831451416, 0.9576258063316345, 0.19936750829219818, 0.8004842400550842, 0.994032084941864, 0.994121789932251, 0.6277279853820801, 0.012854497879743576, 0.3256472647190094, 0.03213624283671379, 0.9957625865936279, 0.9889596104621887, 0.9836368560791016, 0.1741112470626831, 0.657753586769104, 0.06190622225403786, 0.10601440072059631, 0.9981148838996887, 0.07058679312467575, 0.8823348879814148, 0.046523112803697586, 0.33161449432373047, 0.6653146147727966, 0.9905652403831482, 0.99481600522995, 0.9958909749984741, 0.9975204467773438, 0.20421935617923737, 0.4710460901260376, 0.3234715163707733, 0.993194580078125, 0.9970768094062805, 0.9834595322608948, 0.9952123165130615, 0.9988892674446106, 0.9978298544883728, 0.9929025173187256, 0.9985310435295105, 0.9891805052757263, 0.8321901559829712, 0.16754183173179626, 0.9975847005844116, 0.9989004731178284, 0.36509913206100464, 0.6324224472045898, 0.0010401684558019042, 0.9883800745010376, 0.9415948987007141, 0.9975094795227051, 0.9973824620246887, 0.9961327910423279, 0.8681476712226868, 0.13141684234142303, 0.9956250786781311, 0.9090816378593445, 0.08923500776290894, 0.9990540742874146, 0.861231803894043, 0.13814117014408112, 0.9927985668182373, 0.9950899481773376, 0.9888198971748352, 0.9554257988929749, 0.9964751601219177, 0.763928234577179, 0.23532912135124207, 0.994921088218689, 0.10180297493934631, 0.8944118618965149, 0.9972976446151733, 0.2967512011528015, 0.702069878578186, 0.9981955885887146, 0.9939291477203369, 0.9893881678581238, 0.9869725108146667, 0.9987022876739502, 0.960432231426239, 0.996591329574585, 0.20224599540233612, 0.7964416146278381, 0.9631762504577637, 0.9473944902420044, 0.4952271580696106, 0.12904582917690277, 0.2250029742717743, 0.15000198781490326, 0.9929129481315613, 0.9980615973472595, 0.9952399134635925, 0.9923864603042603, 0.9863272309303284, 0.9423040151596069, 0.056976523250341415, 0.9970036149024963, 0.7503266930580139, 0.2491084635257721, 0.9901760220527649, 0.9592441320419312, 0.9336606860160828, 0.9974543452262878, 0.9919759035110474, 0.9994754791259766, 0.9994118213653564, 0.982017457485199, 0.9961835741996765, 0.9975301623344421, 0.996506929397583, 0.9754701256752014, 0.7711383700370789, 0.22517240047454834, 0.9402698278427124, 0.058097973465919495, 0.014395137317478657, 0.9836677312850952, 0.9929689764976501, 0.9974084496498108, 0.9855754375457764, 0.997066080570221, 0.9983910322189331, 0.9904801249504089, 0.9986448884010315, 0.9981905221939087, 0.8174868226051331, 0.9900366067886353, 0.9932894706726074, 0.9952946305274963, 0.9916750192642212, 0.9979146122932434, 0.9983474612236023, 0.9914016723632812, 0.9916669726371765, 0.9733052849769592, 0.9890019297599792, 0.9978204369544983, 0.7447251677513123, 0.25495097041130066, 0.9879032373428345, 0.9971148371696472, 0.9952483773231506, 0.9943407773971558, 0.9977648854255676, 0.9963153004646301, 0.9894353151321411, 0.9977059364318848, 0.985702633857727, 0.6333498358726501, 0.2623165547847748, 0.02294022962450981, 0.08078950643539429, 0.9633775949478149, 0.03342330455780029, 0.991489589214325, 0.9791011214256287, 0.3354196548461914, 0.6642957329750061, 0.00024235525052063167, 0.5339186191558838, 0.19489896297454834, 0.2703196406364441, 0.9996512532234192, 0.9751665592193604, 0.9951032400131226, 0.9989272356033325, 0.885936975479126, 0.1118607223033905, 0.9988971948623657, 0.16895312070846558, 0.8295901417732239, 0.99150151014328, 0.9893018007278442, 0.9901503920555115, 0.9601900577545166, 0.9972343444824219, 0.9851755499839783, 0.6957922577857971, 0.3037838041782379, 0.9967703223228455, 0.9958291053771973, 0.998944878578186, 0.8638932704925537, 0.9967457056045532, 0.9978739023208618, 0.9975442886352539, 0.9553073048591614, 0.9963424801826477, 0.9956837296485901, 0.013063566759228706, 0.9866835474967957, 0.9968598484992981, 0.9995511174201965, 0.26715996861457825, 0.33675625920295715, 0.3928822875022888, 0.9295530915260315, 0.024603556841611862, 0.045619092881679535, 0.9979404807090759, 0.4190731346607208, 0.28041940927505493, 0.2634766697883606, 0.02904467284679413, 0.007952707819640636, 0.9752526879310608, 0.02229149080812931, 0.11031722277402878, 0.8852957487106323, 0.9932718873023987, 0.9518495202064514, 0.9902868270874023, 0.9916574954986572, 0.9878836274147034, 0.9965503215789795, 0.2824936509132385, 0.03159468621015549, 0.41723570227622986, 0.2680901885032654, 0.9940773844718933, 0.9951355457305908, 0.9979723691940308, 0.822495698928833, 0.17711162567138672, 0.9982984066009521, 0.9865508675575256, 0.9988024830818176, 0.9961068630218506, 0.9901536107063293, 0.9986957907676697, 0.955298900604248, 0.997039258480072, 0.9989677667617798, 0.9848933219909668, 0.9958229660987854, 0.9767391085624695, 0.9847815632820129, 0.9923756718635559, 0.9641726613044739, 0.03573262318968773, 0.9917395114898682, 0.620161235332489, 0.34022390842437744, 0.039532192051410675, 0.16532932221889496, 0.5118995904922485, 0.322778582572937, 0.2065507173538208, 0.7910892367362976, 0.8853305578231812, 0.9231045842170715, 0.003092477796599269, 0.07355678826570511, 0.8971934914588928, 0.10234860330820084, 0.9965882301330566, 0.9655541181564331, 0.997721791267395, 0.07862289249897003, 0.919649600982666, 0.22022287547588348, 0.4095699191093445, 0.37013810873031616, 0.9989869594573975, 0.9972817301750183, 0.9881446361541748, 0.9971187710762024, 0.04158138111233711, 0.9575109481811523, 0.19246771931648254, 0.025516554713249207, 0.7815356254577637, 0.7445424795150757, 0.2538810968399048, 0.9965745210647583, 0.9996259808540344, 0.10475984215736389, 0.8937737941741943, 0.9971709251403809, 0.9996699690818787, 0.9249230623245239, 0.9814103841781616, 0.8482257127761841, 0.1484519988298416, 0.0029990302864462137, 0.9675320982933044, 0.9985913634300232, 0.998927891254425, 0.9968570470809937, 0.8411983251571655, 0.1580357849597931, 0.9974994659423828, 0.37070268392562866, 0.6287079453468323, 0.09291151165962219, 0.905577540397644, 0.995762050151825, 0.9882699847221375, 0.04430598393082619, 0.5603886246681213, 0.3946514427661896, 0.976922869682312, 0.022047286853194237, 0.9945047497749329, 0.9968811273574829, 0.9555972814559937, 0.9994566440582275, 0.993567705154419, 0.9966868758201599, 0.9942598938941956, 0.04456528276205063, 0.9539755582809448, 0.04326893761754036, 0.9559985995292664, 0.9975128173828125, 0.079566590487957, 0.9189381003379822, 0.9656884074211121, 0.033630937337875366, 0.9945734739303589, 0.9979199171066284, 0.9690828919410706, 0.9973589181900024, 0.9969971776008606, 0.999104917049408, 0.9975801706314087, 0.15251630544662476, 0.282274067401886, 0.005095199681818485, 0.5597925782203674, 0.9991517066955566, 0.989840567111969, 0.9987834095954895, 0.988055944442749, 0.9980183243751526, 0.3664092719554901, 0.5903513431549072, 0.042785678058862686, 0.9995541572570801, 0.99537193775177, 0.9969384670257568, 0.5744972825050354, 0.4248572885990143, 0.9647911190986633, 0.986490786075592, 0.9135757088661194, 0.08632764220237732, 0.9982616305351257, 0.9854289293289185, 0.9924708604812622, 0.9881802797317505, 0.9950897693634033, 0.0503678135573864, 0.0047645228914916515, 0.04492264240980148, 0.7071912884712219, 0.19194220006465912, 0.990677535533905, 0.9421675205230713, 0.996376633644104, 0.9992130994796753, 0.19722101092338562, 0.18991653621196747, 0.6111416816711426, 0.0008116090903058648, 0.9908592700958252, 0.7335777878761292, 0.2658068537712097, 0.027470802888274193, 0.9689701199531555, 0.9618919491767883, 0.9928687214851379, 0.995466947555542, 0.998227059841156, 0.9994012713432312, 0.05918053910136223, 0.9394910335540771, 0.9985020160675049, 0.9958130121231079, 0.073593869805336, 0.926314115524292, 0.3981555700302124, 0.5029610395431519, 0.098485566675663, 0.9993611574172974, 0.9974928498268127, 0.9901115894317627, 0.987205445766449, 0.9974110126495361, 0.9993976950645447, 0.00025423496845178306, 0.9287363886833191, 0.9993036985397339, 0.9987234473228455, 0.0458403117954731, 0.7829525470733643, 0.02078094147145748, 0.1479114145040512, 0.002444816753268242, 0.9832959175109863, 0.0007211595657281578, 0.9988059997558594, 0.9971771240234375, 0.9995087385177612, 0.9885225892066956, 0.6919628977775574, 0.30014339089393616, 0.007670606020838022, 0.9978562593460083, 0.9995132088661194, 0.9972793459892273, 0.9574800133705139, 0.995812714099884, 0.21521005034446716, 0.4345938563346863, 0.3372928500175476, 0.012521311640739441, 0.997028112411499, 0.9961190223693848, 0.9984409809112549, 0.5803418159484863, 0.001413743826560676, 0.39867573976516724, 0.019509663805365562, 0.9532434344291687, 0.04545915126800537, 0.0020750381518155336, 0.504234254360199, 0.49302905797958374, 0.9910900592803955, 0.9944055676460266, 0.9958858489990234, 0.9950729012489319, 0.9981489181518555, 0.9984959363937378, 0.9862312078475952, 0.9877870082855225, 0.9972555637359619, 0.9985491037368774, 0.9930403828620911, 0.9979525208473206, 0.9978379607200623, 0.9987475275993347, 0.9974142909049988, 0.9984928369522095, 0.9958302974700928, 0.9777407050132751, 0.9805521965026855, 0.9942066073417664, 0.998069167137146, 0.99213045835495, 0.9698303937911987, 0.0071351416409015656, 0.02277756854891777, 0.9957946538925171, 0.9983752369880676, 0.4314487874507904, 0.5681894421577454, 0.9971464276313782, 0.9830880761146545, 0.9086434245109558, 0.04302968084812164, 0.04804980754852295, 0.977033257484436, 0.023837756365537643, 0.04370255395770073, 0.9306657314300537, 0.9974261522293091, 0.12990541756153107, 0.8695877194404602, 0.6122864484786987, 0.008339883759617805, 0.06857237964868546, 0.2274934947490692, 0.04818599671125412, 0.03498117998242378, 0.9620078206062317, 0.03767485171556473, 0.9981477856636047, 0.9731754660606384, 0.9990765452384949, 0.1435234248638153, 0.8261957168579102, 0.028704684227705002, 0.9966869354248047, 0.021404972299933434, 0.17154555022716522, 0.2018183022737503, 0.6051491498947144, 0.9984793066978455, 0.9971169829368591, 0.986451268196106, 0.9976797699928284, 0.018767429515719414, 0.9759063720703125, 0.9726309180259705, 0.1471017450094223, 0.8515325784683228, 0.996882975101471, 0.2820400297641754, 0.024162957444787025, 0.4978402554988861, 0.19538667798042297, 0.9946570992469788, 0.2823691964149475, 0.7163382768630981, 0.964324951171875, 0.008593454957008362, 0.026709385216236115, 0.9879558682441711, 0.011412031017243862, 0.9416839480400085, 0.05813951417803764, 0.9978826642036438, 0.997683584690094, 0.9974344968795776, 0.9975624084472656, 0.4323763847351074, 0.5670509934425354, 0.9948863387107849, 0.9799776673316956, 0.9810028672218323, 0.9996420741081238, 0.9856516122817993, 0.9927531480789185, 0.003900910262018442, 0.994732141494751, 0.060474369674921036, 0.93792325258255, 0.9954003095626831, 0.7948034405708313, 0.20159736275672913, 0.10897793620824814, 0.8894675374031067, 0.9926401376724243, 0.9950762391090393, 0.9982258677482605, 0.9674287438392639, 0.030712023377418518, 0.9811128973960876, 0.3644408583641052, 0.050233740359544754, 0.5486312508583069, 0.019207017496228218, 0.01674458011984825, 0.997967541217804, 0.9972555041313171, 0.9983469247817993, 0.9988362193107605, 0.19306007027626038, 0.8048901557922363, 0.9826899766921997, 0.9946123957633972, 0.9985609650611877, 0.9971771836280823, 0.954353392124176, 0.9845029711723328, 0.9998075366020203, 0.07393442839384079, 0.9188992977142334, 0.9982407689094543, 0.9964426755905151, 0.9579463005065918, 0.9974485635757446, 0.998629093170166, 0.8092331290245056, 0.18703098595142365, 0.04047306999564171, 0.9564425945281982, 0.10439936816692352, 0.6918405890464783, 0.0015581995248794556, 0.14491255581378937, 0.054536983370780945, 0.996221125125885, 0.9845167398452759, 0.2889237403869629, 0.7105383276939392, 0.9985532760620117, 0.16486483812332153, 0.1232575848698616, 0.6625877022743225, 0.04911532998085022, 0.9930806756019592, 0.9980544447898865, 0.9515280723571777, 0.991622269153595, 0.4154938757419586, 0.5828068256378174, 0.9984561800956726, 0.999072790145874, 0.9980349540710449, 0.9911786913871765, 0.9940167665481567, 0.9953831434249878, 0.9880642890930176, 0.9991042017936707, 0.992344319820404, 0.9979286789894104, 0.9631670713424683, 0.9964892268180847, 0.9994149804115295, 0.8640043139457703, 0.13554587960243225, 0.008290179073810577, 0.9906764030456543, 0.9948922991752625, 0.991236686706543, 0.8785822987556458, 0.1205601766705513, 0.9997252225875854, 0.9115269780158997, 0.08553202450275421, 0.9946812391281128, 0.17622590065002441, 0.8212792277336121, 0.9971698522567749, 0.9984118938446045, 0.4482076168060303, 0.39678284525871277, 0.1542743593454361, 0.9990354776382446, 0.9959758520126343, 0.9965342283248901, 0.9858956336975098, 0.9968624114990234, 0.9917467832565308, 0.9456935524940491, 0.9912582635879517, 0.9966129064559937, 0.9959445595741272, 0.984897792339325, 0.9987484216690063, 0.34867730736732483, 0.11931923776865005, 0.5316334962844849, 0.9949702620506287, 0.9990264773368835, 0.9908843040466309, 0.9892927408218384, 0.010449089109897614, 0.23377695679664612, 0.765520453453064, 0.9987707734107971, 0.7949422597885132, 0.01897740177810192, 0.025303201749920845, 0.010543000884354115, 0.14760200679302216, 0.9980135560035706, 0.9982552528381348, 0.9954735636711121, 0.9381563663482666, 0.9988076686859131, 0.9762226939201355, 0.9800839424133301, 0.013951372355222702, 0.9902612566947937, 0.9394058585166931, 0.9984574913978577, 0.9690548777580261, 0.9738283157348633, 0.9898093938827515, 0.9983372688293457, 0.9867960214614868, 0.012784785591065884, 0.9943704605102539, 0.5361501574516296, 0.37854763865470886, 0.08445683866739273, 0.9783971905708313, 0.9916820526123047, 0.997260332107544, 0.9967693090438843, 0.9664775729179382, 0.9837928414344788, 0.015796110033988953, 0.741370677947998, 0.25246676802635193, 0.9969606995582581, 0.9787314534187317, 0.9888707399368286, 0.998749852180481, 0.016431687399744987, 0.5053656697273254, 0.004746931605041027, 0.4735977351665497, 0.9937719702720642, 0.951569139957428, 0.9980112910270691, 0.9977930784225464, 0.9229064583778381, 0.9769689440727234, 0.9968627095222473, 0.9527441263198853, 0.9608785510063171, 0.9969459176063538, 0.9800989627838135, 0.9830013513565063, 0.9967238306999207, 0.9767555594444275, 0.8475258350372314, 0.9432895183563232, 0.967217743396759, 0.9686273336410522, 0.2730240523815155, 0.6317979097366333, 0.0948505848646164, 0.9982508420944214, 0.0011806633556261659, 0.998612642288208, 0.04518875107169151, 0.7408215999603271, 0.21361954510211945, 0.9945989847183228, 0.9971389770507812, 0.9989493489265442, 0.9989422559738159, 0.9834889769554138, 0.5147280693054199, 0.2741852104663849, 0.20858262479305267, 0.9339760541915894, 0.06447753310203552, 0.0224260613322258, 0.975533664226532, 0.9984511733055115, 0.9923813939094543, 0.9962554574012756, 0.9993801712989807, 0.9943176507949829, 0.9981090426445007, 0.19355720281600952, 0.275981068611145, 0.5297355055809021, 0.42499640583992004, 0.5746027827262878, 0.9965489506721497, 0.39942437410354614, 0.1638379544019699, 0.22597064077854156, 0.21043746173381805, 0.9631797671318054, 0.995590329170227, 0.416300505399704, 0.14420440793037415, 0.01500769890844822, 0.4234780967235565, 0.9977477788925171, 0.9860249161720276, 0.9970310926437378, 0.9888208508491516, 0.9996094703674316, 0.5456057786941528, 0.9969114661216736, 0.8945756554603577, 0.012795238755643368, 0.09085611253976822, 0.00168619432952255, 0.7106277942657471, 0.2890900671482086, 0.49594682455062866, 0.5039714574813843, 0.014849796891212463, 0.984329342842102, 0.9772624373435974, 0.9959035515785217, 0.7777563333511353, 0.218889519572258, 0.972556471824646, 0.9812060594558716, 0.9964278340339661, 0.9947872757911682, 0.7754715085029602, 0.18177102506160736, 0.04249813035130501, 0.9973825812339783, 0.993609607219696, 0.9976179003715515, 0.32240504026412964, 0.10518620163202286, 0.5713664889335632, 0.9948931336402893, 0.9973815679550171, 0.9969885349273682, 0.4251846671104431, 0.5702089071273804, 0.9931252002716064, 0.9964312314987183, 0.9956040382385254, 0.9941378235816956, 0.9976514577865601, 0.9971575736999512, 0.997724711894989, 0.998906672000885, 0.9850785136222839, 0.9924049973487854, 0.9899624586105347, 0.9970117807388306, 0.9825275540351868, 0.012705097906291485, 0.05277794599533081, 0.20271529257297516, 0.7376917004585266, 0.005997493863105774, 0.9980378150939941, 0.9998394846916199, 0.9895205497741699, 0.3882562220096588, 0.2830204665660858, 0.1562591791152954, 0.17140676081180573, 0.9990954995155334, 0.9922543168067932, 0.13843582570552826, 0.22047188878059387, 0.6056567430496216, 0.03524986654520035, 0.923224925994873, 0.9882912635803223, 0.9957576394081116, 0.9582127928733826, 0.9958397746086121, 0.9917635321617126, 0.9978527426719666, 0.9953399300575256, 0.9960100650787354, 0.998537003993988, 0.9961245656013489, 0.9942664504051208, 0.9985045790672302, 0.8942475914955139, 0.02488509751856327, 0.002908647758886218, 0.07756394147872925, 0.9857429265975952, 0.9980753660202026, 0.9951595067977905, 0.9945610165596008, 0.9971405863761902, 0.9989790320396423, 0.9970180988311768, 0.9920262694358826, 0.9727334380149841, 0.9879952073097229, 0.981768786907196, 0.9974587559700012, 0.993893563747406, 0.9670883417129517, 0.03267190232872963, 0.7344179749488831, 0.26388177275657654, 0.9961016178131104, 0.7651640176773071, 0.20364831387996674, 0.027680352330207825, 0.644745409488678, 0.3550732433795929, 0.9986944198608398, 0.9987982511520386, 0.9977819919586182, 0.9943346381187439, 0.8176246285438538, 0.10504581779241562, 0.0037903129123151302, 0.07309889048337936, 0.9958320260047913, 0.9991970658302307, 0.9770538806915283, 0.6627398729324341, 0.336821049451828, 0.8065478801727295, 0.19007815420627594, 0.8822358846664429, 0.11690405011177063, 0.9994080662727356, 0.9983713626861572, 0.9973031282424927, 0.9971039295196533, 0.9934757351875305, 0.9450061917304993, 0.05376141518354416, 0.16183292865753174, 0.8375040292739868, 0.9436102509498596, 0.05622599273920059, 0.9991297125816345, 0.8961132764816284, 0.10387225449085236, 0.9251214861869812, 0.999862015247345, 0.9996936917304993], \"Term\": [\"able\", \"acce\", \"acce\", \"acce\", \"acceleration\", \"accept\", \"accuracy\", \"acre\", \"adapter\", \"addition\", \"addition\", \"adopt\", \"advice\", \"afe\", \"afety\", \"age\", \"age\", \"age\", \"age\", \"age\", \"agree\", \"agree\", \"aid\", \"ale\", \"algorithm\", \"allegedly\", \"american\", \"ammunition\", \"amount\", \"ample\", \"amplify\", \"appear\", \"appear\", \"apple\", \"application\", \"application\", \"appreciate\", \"approve\", \"archive\", \"argue\", \"argue\", \"argument\", \"armenian\", \"array\", \"article\", \"atellite\", \"att\", \"attack\", \"attack\", \"author\", \"available\", \"average\", \"back\", \"back\", \"back\", \"background\", \"bad\", \"bad\", \"ban\", \"band\", \"battery\", \"be\", \"bear\", \"belief\", \"believe\", \"believe\", \"believe\", \"benefit\", \"bet\", \"big\", \"bike\", \"bill\", \"biological\", \"bit\", \"bit\", \"bit\", \"black\", \"black\", \"blank\", \"block\", \"blow\", \"body\", \"book\", \"bottom\", \"brief\", \"bring\", \"btw\", \"build\", \"build\", \"button\", \"buy\", \"ca\", \"ca\", \"ca\", \"ca\", \"cable\", \"callback\", \"camera\", \"can\", \"can\", \"can\", \"capacity\", \"cape\", \"captain\", \"capture\", \"car\", \"card\", \"cartridge\", \"category\", \"character\", \"cheap\", \"chedule\", \"chedule\", \"child\", \"child\", \"chip\", \"choice\", \"choice\", \"chri_tianity\", \"cience\", \"circuit\", \"civilian\", \"claim\", \"claim\", \"claimer\", \"clear\", \"clear\", \"clearly\", \"clearly\", \"clipper\", \"clo\", \"clo\", \"clo\", \"clo\", \"clock\", \"co\", \"code\", \"code\", \"color\", \"colt\", \"com\", \"combat\", \"come\", \"come\", \"communication\", \"community\", \"company\", \"company\", \"company\", \"company\", \"compile\", \"component\", \"compound\", \"computer\", \"computer\", \"computer\", \"computer\", \"con\", \"concern\", \"concern\", \"concern\", \"condition\", \"condition\", \"config\", \"configuration\", \"congre\", \"contact\", \"contain\", \"contain\", \"contain\", \"contribute\", \"convert\", \"cooperation\", \"cop\", \"copy\", \"core\", \"corner\", \"correct\", \"correctly\", \"could\", \"could\", \"country\", \"cour\", \"cover\", \"cover\", \"cover\", \"coverage\", \"cow\", \"cpu\", \"creen\", \"crew\", \"crime\", \"crime\", \"criminal\", \"currently\", \"currently\", \"datum\", \"day\", \"day\", \"de_cription\", \"de_igne\", \"de_troye\", \"de_tructive\", \"dealer\", \"death\", \"death\", \"decent\", \"defen\", \"defen\", \"define\", \"delete\", \"delete\", \"deny\", \"dept\", \"depth\", \"derive\", \"develop\", \"developer\", \"development\", \"device\", \"device\", \"diagno_tic\", \"dialog\", \"die\", \"die\", \"die\", \"die\", \"direction\", \"directly\", \"directory\", \"dirty\", \"divi_ion\", \"do\", \"do\", \"doctor\", \"doe\", \"doe\", \"dog\", \"domain\", \"donate\", \"doubt\", \"download\", \"drive\", \"driver\", \"driving\", \"drop\", \"drug\", \"dual\", \"dynamic\", \"earth\", \"earth\", \"eat\", \"eat\", \"econd\", \"econd\", \"economic\", \"ection\", \"ecular\", \"ecure\", \"ecurity\", \"edit\", \"een\", \"effect\", \"elderly\", \"electrical\", \"electronic\", \"ell\", \"elle\", \"elve\", \"email\", \"embly\", \"employer\", \"employment\", \"enable\", \"encryption\", \"end\", \"end\", \"engage\", \"engine\", \"engineering\", \"enjoy\", \"entry\", \"environment\", \"environmental\", \"equence\", \"ert\", \"erve\", \"erve\", \"erve\", \"erve\", \"ervice\", \"ervice\", \"ethnic\", \"european\", \"even\", \"even\", \"even\", \"ever\", \"ever\", \"ever\", \"evidence\", \"evidently\", \"exact\", \"example\", \"excellent\", \"excellent\", \"experience\", \"explain\", \"explain\", \"explanation\", \"expo\", \"export\", \"exterminate\", \"external\", \"ey\", \"fact\", \"fact\", \"factor\", \"fairly\", \"faith\", \"fame\", \"family\", \"fan\", \"faq\", \"fatal\", \"fax\", \"federal\", \"feel\", \"feel\", \"field\", \"file\", \"final\", \"final\", \"final\", \"find\", \"find\", \"find\", \"fine\", \"fir\", \"fir\", \"fir\", \"fir\", \"fir\", \"fire\", \"fire\", \"fit\", \"fit\", \"flight\", \"floppie\", \"flow\", \"fly\", \"flyer\", \"folk\", \"follow\", \"follow\", \"follow\", \"follow\", \"font\", \"foot\", \"force\", \"form\", \"form\", \"format\", \"found\", \"friend\", \"front\", \"fuel\", \"function\", \"functionality\", \"future\", \"game\", \"gatech\", \"gateway\", \"generic\", \"genocide\", \"german\", \"get\", \"get\", \"girl\", \"give\", \"give\", \"give\", \"go\", \"go\", \"go\", \"goal\", \"goal\", \"goalie\", \"good\", \"good\", \"good\", \"government\", \"government\", \"graphic\", \"gravity\", \"greek\", \"ground\", \"ground\", \"group\", \"group\", \"group\", \"gun\", \"guy\", \"hair\", \"half\", \"happen\", \"happen\", \"hard\", \"hard\", \"hard\", \"hardware\", \"hardware\", \"hate\", \"have\", \"head\", \"head\", \"hell\", \"help\", \"herb\", \"hi_torical\", \"high\", \"high\", \"high\", \"higher\", \"hit\", \"home\", \"hort\", \"hot\", \"hot\", \"hour\", \"however\", \"however\", \"human\", \"human\", \"ice\", \"icon\", \"ide\", \"ide\", \"ide\", \"idea\", \"idea\", \"ignal\", \"ignore\", \"ilence\", \"image\", \"immediate\", \"impact\", \"implementation\", \"imply\", \"imply\", \"include\", \"include\", \"indicate\", \"info\", \"info\", \"information\", \"information\", \"innocent\", \"input\", \"intelligence\", \"interface\", \"internal\", \"internet\", \"involve\", \"ion\", \"ion\", \"ion\", \"ion\", \"ition\", \"itively\", \"ituation\", \"joke\", \"ke\", \"keep\", \"keep\", \"keep\", \"key\", \"keyword\", \"kid\", \"kill\", \"kill\", \"kinda\", \"kit\", \"know\", \"know\", \"knowledge\", \"la\", \"laboratory\", \"lamic\", \"language\", \"large\", \"large\", \"large\", \"large\", \"large\", \"laughter\", \"laughtere\", \"launch\", \"law\", \"lead\", \"lead\", \"lead\", \"lead\", \"leaf\", \"leave\", \"leave\", \"legal\", \"legal\", \"lemieux\", \"letter\", \"library\", \"lie\", \"life\", \"light\", \"light\", \"like\", \"limit\", \"line\", \"line\", \"little\", \"little\", \"little\", \"live\", \"load\", \"locate\", \"location\", \"longer\", \"look\", \"look\", \"loop\", \"lot\", \"love\", \"low\", \"low\", \"low\", \"low\", \"low\", \"lunar\", \"machine\", \"machine\", \"magazine\", \"mail\", \"majority\", \"make\", \"make\", \"make\", \"mall\", \"man\", \"manager\", \"maneuver\", \"manual\", \"many\", \"many\", \"many\", \"many\", \"map\", \"market\", \"material\", \"may\", \"may\", \"may\", \"may\", \"maybe\", \"maybe\", \"mean\", \"mean\", \"mean\", \"meaning\", \"medical\", \"medium\", \"meeting\", \"member\", \"memory\", \"meter\", \"micro_oft\", \"mile\", \"mind\", \"mirror\", \"mode\", \"model\", \"money\", \"monitor\", \"month\", \"moral\", \"motion\", \"motor\", \"mou\", \"mount\", \"mph\", \"much\", \"much\", \"much\", \"multiple\", \"murder\", \"name\", \"name\", \"nature\", \"nazi\", \"need\", \"need\", \"need\", \"needle\", \"net\", \"net\", \"net\", \"network\", \"never\", \"never\", \"new\", \"new\", \"new\", \"new\", \"new\", \"new\", \"next\", \"next\", \"nice\", \"nicely\", \"nntp\", \"non\", \"non\", \"non\", \"normal\", \"number\", \"number\", \"number\", \"number\", \"object\", \"obtain\", \"occupation\", \"occupy\", \"ociate\", \"ociate\", \"offend\", \"offer\", \"offer\", \"oftware\", \"old\", \"old\", \"old\", \"old\", \"oldier\", \"olution\", \"olution\", \"ome\", \"ome\", \"ome\", \"omeone\", \"omeone\", \"omethe\", \"omethe\", \"omething\", \"ometime\", \"operate\", \"operation\", \"opinion\", \"opinion\", \"orbit\", \"orbital\", \"orbiter\", \"organization\", \"organize\", \"origin\", \"ound\", \"ound\", \"ource\", \"ource\", \"output\", \"owner\", \"owner\", \"pace\", \"pace\", \"pacecraft\", \"pack\", \"package\", \"page\", \"page\", \"paint\", \"part\", \"part\", \"part\", \"part\", \"part\", \"particular\", \"particularly\", \"patient\", \"pay\", \"pc\", \"pc\", \"pec\", \"pecifically\", \"peed\", \"pen\", \"penaltie\", \"penguin\", \"people\", \"percent\", \"percent\", \"performance\", \"period\", \"peripheral\", \"phere\", \"phone\", \"pick\", \"pick\", \"picture\", \"picture\", \"plan\", \"plan\", \"plan\", \"plan\", \"plan\", \"plane\", \"planetary\", \"play\", \"play\", \"player\", \"point\", \"point\", \"point\", \"point\", \"pointer\", \"police\", \"poll\", \"pop\", \"population\", \"population\", \"port\", \"power\", \"practice\", \"preach\", \"predict\", \"prefer\", \"preferably\", \"price\", \"privacy\", \"private\", \"privately\", \"pro\", \"probably\", \"problem\", \"problem\", \"proce\", \"proce\", \"procedure\", \"proceed\", \"product\", \"product\", \"program\", \"project\", \"project\", \"properly\", \"protect\", \"protect\", \"protection\", \"prove\", \"provide\", \"provide\", \"provide\", \"public\", \"pull\", \"purcha\", \"pure\", \"quality\", \"quick\", \"quid\", \"radiation\", \"radio\", \"ram\", \"rape\", \"rate\", \"rather\", \"rather\", \"rather\", \"rational\", \"rea\", \"reading\", \"really\", \"really\", \"receive\", \"receive\", \"recently\", \"record\", \"record\", \"record\", \"record\", \"record\", \"reduce\", \"refer\", \"reflect\", \"reflection\", \"regard\", \"region\", \"reject\", \"reject\", \"related\", \"relay\", \"religion\", \"reload\", \"remainder\", \"remote\", \"replace\", \"reply\", \"reply\", \"reque\", \"require\", \"require\", \"require\", \"retire\", \"revolver\", \"ride\", \"rider\", \"rifle\", \"right\", \"right\", \"round\", \"round\", \"route\", \"routine\", \"rsa\", \"rule\", \"run\", \"run\", \"run\", \"run\", \"sale\", \"schedule\", \"science\", \"scsi\", \"serdar_argic\", \"shuttle\", \"software\", \"solar\", \"soviet\", \"space\", \"speak\", \"special\", \"state\", \"station\", \"stuff_delete\", \"super_ede\", \"tag\", \"tail\", \"take\", \"take\", \"take\", \"talk\", \"talk\", \"talle\", \"tance\", \"tance\", \"tance\", \"tank\", \"tap\", \"tape\", \"tart\", \"tarter\", \"tat\", \"tat\", \"tat\", \"tate\", \"tate\", \"tatement\", \"tatement\", \"tation\", \"tatu\", \"tax\", \"team\", \"tear\", \"technical\", \"technology\", \"technology\", \"technology\", \"tell\", \"tell\", \"telnet\", \"tem\", \"tem\", \"tem\", \"tem\", \"tent\", \"tep\", \"ter\", \"ter\", \"ter\", \"ter\", \"term\", \"terminal\", \"terrori\", \"texa\", \"thank\", \"ther\", \"therefore\", \"thi\", \"thi\", \"thi\", \"thi\", \"thing\", \"thing\", \"think\", \"think\", \"tho\", \"tho\", \"thoma\", \"thread\", \"throw\", \"throw\", \"thumb\", \"tic\", \"tick\", \"tie\", \"time\", \"time\", \"time\", \"tin_ver\", \"ton\", \"tool\", \"top\", \"top\", \"top\", \"topic\", \"tory\", \"total\", \"town\", \"town\", \"trace\", \"trade\", \"tran_fer\", \"travel\", \"treat\", \"treatment\", \"trial\", \"tribution\", \"trigger\", \"trivial\", \"troop\", \"tru\", \"truction\", \"truction\", \"true\", \"true\", \"true\", \"true\", \"truth\", \"try\", \"turk\", \"turn\", \"turn\", \"turn\", \"turn\", \"type\", \"typically\", \"uch\", \"uch\", \"uch\", \"uch\", \"ufficiently\", \"uitable\", \"ulte\", \"ummarize\", \"umption\", \"unable\", \"unit\", \"univ\", \"univer\", \"univer_ity\", \"update\", \"upgrade\", \"urance\", \"ure\", \"ure\", \"ure\", \"ure\", \"utility\", \"value\", \"vehicle\", \"ver_ion\", \"video\", \"view\", \"village\", \"violence\", \"void\", \"vol\", \"voltage\", \"volume\", \"vote\", \"want\", \"want\", \"war\", \"war\", \"warranty\", \"watch\", \"watch\", \"watch\", \"way\", \"way\", \"weapon\", \"week\", \"weight\", \"welcome\", \"well\", \"well\", \"well\", \"well\", \"white\", \"whole\", \"widget\", \"will\", \"will\", \"willing\", \"willing\", \"win\", \"win\", \"window\", \"wing\", \"wire\", \"witch\", \"withdraw\", \"woman\", \"woman\", \"word\", \"word\", \"work\", \"work\", \"world\", \"would\", \"would\", \"wound\", \"write\", \"year\"]}, \"R\": 30, \"lambda.step\": 0.01, \"plot.opts\": {\"xlab\": \"PC1\", \"ylab\": \"PC2\"}, \"topic.order\": [8, 1, 4, 2, 11, 10, 7, 9, 5, 20, 6, 14, 19, 15, 13, 17, 18, 12, 3, 16]};\n",
       "\n",
       "function LDAvis_load_lib(url, callback){\n",
       "  var s = document.createElement('script');\n",
       "  s.src = url;\n",
       "  s.async = true;\n",
       "  s.onreadystatechange = s.onload = callback;\n",
       "  s.onerror = function(){console.warn(\"failed to load library \" + url);};\n",
       "  document.getElementsByTagName(\"head\")[0].appendChild(s);\n",
       "}\n",
       "\n",
       "if(typeof(LDAvis) !== \"undefined\"){\n",
       "   // already loaded: just create the visualization\n",
       "   !function(LDAvis){\n",
       "       new LDAvis(\"#\" + \"ldavis_el52941405355742451523983938225\", ldavis_el52941405355742451523983938225_data);\n",
       "   }(LDAvis);\n",
       "}else if(typeof define === \"function\" && define.amd){\n",
       "   // require.js is available: use it to load d3/LDAvis\n",
       "   require.config({paths: {d3: \"https://cdnjs.cloudflare.com/ajax/libs/d3/3.5.5/d3.min\"}});\n",
       "   require([\"d3\"], function(d3){\n",
       "      window.d3 = d3;\n",
       "      LDAvis_load_lib(\"https://cdn.rawgit.com/bmabey/pyLDAvis/files/ldavis.v1.0.0.js\", function(){\n",
       "        new LDAvis(\"#\" + \"ldavis_el52941405355742451523983938225\", ldavis_el52941405355742451523983938225_data);\n",
       "      });\n",
       "    });\n",
       "}else{\n",
       "    // require.js not available: dynamically load d3 & LDAvis\n",
       "    LDAvis_load_lib(\"https://cdnjs.cloudflare.com/ajax/libs/d3/3.5.5/d3.min.js\", function(){\n",
       "         LDAvis_load_lib(\"https://cdn.rawgit.com/bmabey/pyLDAvis/files/ldavis.v1.0.0.js\", function(){\n",
       "                 new LDAvis(\"#\" + \"ldavis_el52941405355742451523983938225\", ldavis_el52941405355742451523983938225_data);\n",
       "            })\n",
       "         });\n",
       "}\n",
       "</script>"
      ],
      "text/plain": [
       "PreparedData(topic_coordinates=              x         y  topics  cluster       Freq\n",
       "topic                                                \n",
       "7      0.336369 -0.132215       1        1  30.220743\n",
       "0      0.305379 -0.139573       2        1  18.282776\n",
       "3      0.229378 -0.144289       3        1   8.775469\n",
       "1      0.191341  0.053211       4        1   8.022851\n",
       "10     0.109010  0.331662       5        1   7.670540\n",
       "9      0.196355 -0.005973       6        1   7.134679\n",
       "6      0.053046  0.181810       7        1   3.969160\n",
       "8      0.073777  0.024626       8        1   3.356929\n",
       "4     -0.037151  0.090840       9        1   2.388725\n",
       "19    -0.010436  0.107342      10        1   2.336683\n",
       "5     -0.072825  0.027388      11        1   1.504276\n",
       "13    -0.070781  0.029929      12        1   1.408271\n",
       "18    -0.066292 -0.035441      13        1   1.178024\n",
       "14    -0.157934 -0.047435      14        1   0.749869\n",
       "12    -0.166260 -0.043714      15        1   0.670866\n",
       "16    -0.162501 -0.055038      16        1   0.603309\n",
       "17    -0.168224 -0.052410      17        1   0.588234\n",
       "11    -0.182595 -0.059627      18        1   0.496265\n",
       "2     -0.181908 -0.059315      19        1   0.486405\n",
       "15    -0.217748 -0.071777      20        1   0.155922, topic_info=      Category          Freq     Term         Total  loglift  logprob\n",
       "14     Default  14865.000000     line  14865.000000  30.0000  30.0000\n",
       "174    Default  10920.000000    write  10920.000000  29.0000  29.0000\n",
       "157    Default   9590.000000      com   9590.000000  28.0000  28.0000\n",
       "154    Default   8615.000000  article   8615.000000  27.0000  27.0000\n",
       "151    Default  16857.000000    would  16857.000000  26.0000  26.0000\n",
       "...        ...           ...      ...           ...      ...      ...\n",
       "7423   Topic20      0.029852    slave      1.209968   2.7615 -10.8354\n",
       "650    Topic20      0.029852  leather      1.209856   2.7616 -10.8354\n",
       "2932   Topic20      0.029852      fun      1.209876   2.7615 -10.8354\n",
       "10045  Topic20      0.029852   person      1.209871   2.7615 -10.8354\n",
       "5560   Topic20      0.029852      ink      1.209895   2.7615 -10.8354\n",
       "\n",
       "[862 rows x 6 columns], token_table=      Topic      Freq          Term\n",
       "term                               \n",
       "700       1  0.999117          able\n",
       "65        7  0.272266          acce\n",
       "65        8  0.451350          acce\n",
       "65       10  0.275178          acce\n",
       "739      16  0.968957  acceleration\n",
       "...     ...       ...           ...\n",
       "151       1  0.896113         would\n",
       "151       2  0.103872         would\n",
       "1689     20  0.925121         wound\n",
       "174       5  0.999862         write\n",
       "31        4  0.999694          year\n",
       "\n",
       "[1030 rows x 3 columns], R=30, lambda_step=0.01, plot_opts={'xlab': 'PC1', 'ylab': 'PC2'}, topic_order=[8, 1, 4, 2, 11, 10, 7, 9, 5, 20, 6, 14, 19, 15, 13, 17, 18, 12, 3, 16])"
      ]
     },
     "execution_count": 15,
     "metadata": {},
     "output_type": "execute_result"
    }
   ],
   "source": [
    "# Visualize the topics\n",
    "pyLDAvis.enable_notebook()\n",
    "vis = pyLDAvis.gensim.prepare(lda_model, corpus, id2word)\n",
    "vis"
   ]
  },
  {
   "cell_type": "code",
   "execution_count": null,
   "metadata": {},
   "outputs": [],
   "source": []
  },
  {
   "cell_type": "code",
   "execution_count": null,
   "metadata": {},
   "outputs": [],
   "source": []
  },
  {
   "cell_type": "code",
   "execution_count": null,
   "metadata": {},
   "outputs": [],
   "source": []
  },
  {
   "cell_type": "code",
   "execution_count": null,
   "metadata": {},
   "outputs": [],
   "source": []
  },
  {
   "cell_type": "code",
   "execution_count": null,
   "metadata": {},
   "outputs": [],
   "source": []
  },
  {
   "cell_type": "code",
   "execution_count": null,
   "metadata": {},
   "outputs": [],
   "source": []
  },
  {
   "cell_type": "code",
   "execution_count": null,
   "metadata": {},
   "outputs": [],
   "source": []
  },
  {
   "cell_type": "code",
   "execution_count": null,
   "metadata": {},
   "outputs": [],
   "source": []
  },
  {
   "cell_type": "code",
   "execution_count": null,
   "metadata": {},
   "outputs": [],
   "source": []
  },
  {
   "cell_type": "code",
   "execution_count": null,
   "metadata": {},
   "outputs": [],
   "source": []
  },
  {
   "cell_type": "code",
   "execution_count": null,
   "metadata": {},
   "outputs": [],
   "source": []
  },
  {
   "cell_type": "code",
   "execution_count": null,
   "metadata": {},
   "outputs": [],
   "source": []
  },
  {
   "cell_type": "code",
   "execution_count": null,
   "metadata": {},
   "outputs": [],
   "source": []
  },
  {
   "cell_type": "code",
   "execution_count": null,
   "metadata": {},
   "outputs": [],
   "source": []
  },
  {
   "cell_type": "code",
   "execution_count": null,
   "metadata": {},
   "outputs": [],
   "source": []
  },
  {
   "cell_type": "markdown",
   "metadata": {},
   "source": [
    "ref: \n",
    "https://www.machinelearningplus.com/nlp/topic-modeling-gensim-python/\n",
    "    "
   ]
  }
 ],
 "metadata": {
  "kernelspec": {
   "display_name": "Python 3",
   "language": "python",
   "name": "python3"
  },
  "language_info": {
   "codemirror_mode": {
    "name": "ipython",
    "version": 3
   },
   "file_extension": ".py",
   "mimetype": "text/x-python",
   "name": "python",
   "nbconvert_exporter": "python",
   "pygments_lexer": "ipython3",
   "version": "3.8.0"
  },
  "varInspector": {
   "cols": {
    "lenName": 16,
    "lenType": 16,
    "lenVar": 40
   },
   "kernels_config": {
    "python": {
     "delete_cmd_postfix": "",
     "delete_cmd_prefix": "del ",
     "library": "var_list.py",
     "varRefreshCmd": "print(var_dic_list())"
    },
    "r": {
     "delete_cmd_postfix": ") ",
     "delete_cmd_prefix": "rm(",
     "library": "var_list.r",
     "varRefreshCmd": "cat(var_dic_list()) "
    }
   },
   "types_to_exclude": [
    "module",
    "function",
    "builtin_function_or_method",
    "instance",
    "_Feature"
   ],
   "window_display": false
  }
 },
 "nbformat": 4,
 "nbformat_minor": 2
}
